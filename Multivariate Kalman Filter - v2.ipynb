{
 "cells": [
  {
   "cell_type": "markdown",
   "metadata": {},
   "source": [
    "# Kalman Filter Multivariado \n",
    "Este archivo esta basado en lo siguiente: \n",
    "https://www.quantopian.com/posts/pairs-trading-with-machine-learning"
   ]
  },
  {
   "cell_type": "code",
   "execution_count": 532,
   "metadata": {
    "scrolled": false
   },
   "outputs": [
    {
     "name": "stdout",
     "output_type": "stream",
     "text": [
      "Requirement already satisfied: pykalman in c:\\programdata\\anaconda3\\lib\\site-packages (0.9.5)\n",
      "Requirement already satisfied: johansen in c:\\programdata\\anaconda3\\lib\\site-packages (0.0.4)\n",
      "Requirement already satisfied: statsmodels>=0.6.1 in c:\\programdata\\anaconda3\\lib\\site-packages (from johansen) (0.10.1)\n",
      "Requirement already satisfied: scipy>=0.18.0 in c:\\programdata\\anaconda3\\lib\\site-packages (from johansen) (1.3.1)\n",
      "Requirement already satisfied: numpy>=1.11.1 in c:\\programdata\\anaconda3\\lib\\site-packages (from johansen) (1.16.5)\n",
      "Requirement already satisfied: pandas>=0.18.1 in c:\\programdata\\anaconda3\\lib\\site-packages (from johansen) (0.25.1)\n",
      "Requirement already satisfied: patsy>=0.4.0 in c:\\programdata\\anaconda3\\lib\\site-packages (from statsmodels>=0.6.1->johansen) (0.5.1)\n",
      "Requirement already satisfied: python-dateutil>=2.6.1 in c:\\programdata\\anaconda3\\lib\\site-packages (from pandas>=0.18.1->johansen) (2.8.0)\n",
      "Requirement already satisfied: pytz>=2017.2 in c:\\programdata\\anaconda3\\lib\\site-packages (from pandas>=0.18.1->johansen) (2019.3)\n",
      "Requirement already satisfied: six in c:\\programdata\\anaconda3\\lib\\site-packages (from patsy>=0.4.0->statsmodels>=0.6.1->johansen) (1.12.0)\n",
      "Requirement already satisfied: sklearn in c:\\programdata\\anaconda3\\lib\\site-packages (0.0)\n",
      "Requirement already satisfied: scikit-learn in c:\\programdata\\anaconda3\\lib\\site-packages (from sklearn) (0.21.3)\n",
      "Requirement already satisfied: scipy>=0.17.0 in c:\\programdata\\anaconda3\\lib\\site-packages (from scikit-learn->sklearn) (1.3.1)\n",
      "Requirement already satisfied: numpy>=1.11.0 in c:\\programdata\\anaconda3\\lib\\site-packages (from scikit-learn->sklearn) (1.16.5)\n",
      "Requirement already satisfied: joblib>=0.11 in c:\\programdata\\anaconda3\\lib\\site-packages (from scikit-learn->sklearn) (0.13.2)\n"
     ]
    }
   ],
   "source": [
    "!pip install pykalman\n",
    "!pip install johansen \n",
    "!pip install sklearn"
   ]
  },
  {
   "cell_type": "code",
   "execution_count": 1,
   "metadata": {},
   "outputs": [],
   "source": [
    "import numpy as np\n",
    "import pandas as pd\n",
    "\n",
    "import statsmodels\n",
    "import statsmodels.api as sm\n",
    "from statsmodels.tsa.stattools import coint, adfuller\n",
    "import matplotlib.pyplot as plt\n",
    "from sklearn.cluster import KMeans, DBSCAN\n",
    "from sklearn.decomposition import PCA\n",
    "from sklearn.manifold import TSNE\n",
    "from sklearn import preprocessing\n"
   ]
  },
  {
   "cell_type": "code",
   "execution_count": 2,
   "metadata": {},
   "outputs": [],
   "source": [
    "\n",
    "from pykalman import KalmanFilter\n",
    "import statsmodels.api as sm"
   ]
  },
  {
   "cell_type": "markdown",
   "metadata": {},
   "source": [
    "## Importar base de datos"
   ]
  },
  {
   "cell_type": "code",
   "execution_count": 56,
   "metadata": {},
   "outputs": [],
   "source": [
    "base=pd.read_excel(\"base_kalman_multivariado.xlsx\",index_col=0).bfill()#.resample(\"w\").last()"
   ]
  },
  {
   "cell_type": "code",
   "execution_count": 57,
   "metadata": {
    "scrolled": true
   },
   "outputs": [
    {
     "data": {
      "text/plain": [
       "Index(['S&P 500 INDEX', 'ISHARES MSCI EAFE ETF', 'BRAZIL IBOVESPA INDEX',\n",
       "       'S&P/CLX IPSA (CLP) TR', 'S&P/BMV IPC', 'COLOMBIA COLCAP INDEX',\n",
       "       'SPX 500 vs ROW', 'SPX  vs COL', 'COLOM CDS USD SR 5Y D14 Corp',\n",
       "       'BRAZIL CDS USD SR 5Y D14 Corp', 'CHILE CDS USD SR 5Y D14 Corp',\n",
       "       'MEX CDS USD SR 5Y D14 Corp', 'CL1 Comdty', 'SCO1 Comdty',\n",
       "       'LMCADS03 Comdty', 'US 10Y Bond', 'UK 10Y Bond', 'COP 10Y Bond',\n",
       "       'MEX 10Y Bond', 'BRL 10Y Bond', 'CHL 10Y Bond', 'US 10Y- COL 10Y',\n",
       "       'USD/BRL', 'USD/COP', 'USD/CLP', 'USD/MXN', 'EUR/USD', 'GBP/USD',\n",
       "       'DXY'],\n",
       "      dtype='object')"
      ]
     },
     "execution_count": 57,
     "metadata": {},
     "output_type": "execute_result"
    }
   ],
   "source": [
    "base.columns"
   ]
  },
  {
   "cell_type": "code",
   "execution_count": 58,
   "metadata": {},
   "outputs": [
    {
     "data": {
      "text/html": [
       "<div>\n",
       "<style scoped>\n",
       "    .dataframe tbody tr th:only-of-type {\n",
       "        vertical-align: middle;\n",
       "    }\n",
       "\n",
       "    .dataframe tbody tr th {\n",
       "        vertical-align: top;\n",
       "    }\n",
       "\n",
       "    .dataframe thead th {\n",
       "        text-align: right;\n",
       "    }\n",
       "</style>\n",
       "<table border=\"1\" class=\"dataframe\">\n",
       "  <thead>\n",
       "    <tr style=\"text-align: right;\">\n",
       "      <th></th>\n",
       "      <th>S&amp;P 500 INDEX</th>\n",
       "      <th>ISHARES MSCI EAFE ETF</th>\n",
       "      <th>BRAZIL IBOVESPA INDEX</th>\n",
       "      <th>S&amp;P/CLX IPSA (CLP) TR</th>\n",
       "      <th>S&amp;P/BMV IPC</th>\n",
       "      <th>COLOMBIA COLCAP INDEX</th>\n",
       "      <th>SPX 500 vs ROW</th>\n",
       "      <th>SPX  vs COL</th>\n",
       "      <th>COLOM CDS USD SR 5Y D14 Corp</th>\n",
       "      <th>BRAZIL CDS USD SR 5Y D14 Corp</th>\n",
       "      <th>...</th>\n",
       "      <th>BRL 10Y Bond</th>\n",
       "      <th>CHL 10Y Bond</th>\n",
       "      <th>US 10Y- COL 10Y</th>\n",
       "      <th>USD/BRL</th>\n",
       "      <th>USD/COP</th>\n",
       "      <th>USD/CLP</th>\n",
       "      <th>USD/MXN</th>\n",
       "      <th>EUR/USD</th>\n",
       "      <th>GBP/USD</th>\n",
       "      <th>DXY</th>\n",
       "    </tr>\n",
       "    <tr>\n",
       "      <th>Dates</th>\n",
       "      <th></th>\n",
       "      <th></th>\n",
       "      <th></th>\n",
       "      <th></th>\n",
       "      <th></th>\n",
       "      <th></th>\n",
       "      <th></th>\n",
       "      <th></th>\n",
       "      <th></th>\n",
       "      <th></th>\n",
       "      <th></th>\n",
       "      <th></th>\n",
       "      <th></th>\n",
       "      <th></th>\n",
       "      <th></th>\n",
       "      <th></th>\n",
       "      <th></th>\n",
       "      <th></th>\n",
       "      <th></th>\n",
       "      <th></th>\n",
       "      <th></th>\n",
       "    </tr>\n",
       "  </thead>\n",
       "  <tbody>\n",
       "    <tr>\n",
       "      <td>2012-11-19</td>\n",
       "      <td>1386.89</td>\n",
       "      <td>42.7399</td>\n",
       "      <td>56450.9</td>\n",
       "      <td>4191.12</td>\n",
       "      <td>40830.60</td>\n",
       "      <td>1743.83</td>\n",
       "      <td>32.449538</td>\n",
       "      <td>0.795313</td>\n",
       "      <td>101.750</td>\n",
       "      <td>104.625</td>\n",
       "      <td>...</td>\n",
       "      <td>9.441</td>\n",
       "      <td>5.437</td>\n",
       "      <td>4.4699</td>\n",
       "      <td>2.0823</td>\n",
       "      <td>1818.5</td>\n",
       "      <td>480.08</td>\n",
       "      <td>13.0579</td>\n",
       "      <td>1.2814</td>\n",
       "      <td>1.5909</td>\n",
       "      <td>80.874</td>\n",
       "    </tr>\n",
       "    <tr>\n",
       "      <td>2012-11-20</td>\n",
       "      <td>1387.81</td>\n",
       "      <td>42.8081</td>\n",
       "      <td>56450.9</td>\n",
       "      <td>4179.70</td>\n",
       "      <td>41184.00</td>\n",
       "      <td>1743.33</td>\n",
       "      <td>32.419332</td>\n",
       "      <td>0.796068</td>\n",
       "      <td>100.000</td>\n",
       "      <td>103.813</td>\n",
       "      <td>...</td>\n",
       "      <td>9.447</td>\n",
       "      <td>5.459</td>\n",
       "      <td>4.4021</td>\n",
       "      <td>2.0806</td>\n",
       "      <td>1816.0</td>\n",
       "      <td>478.11</td>\n",
       "      <td>13.0044</td>\n",
       "      <td>1.2817</td>\n",
       "      <td>1.5927</td>\n",
       "      <td>80.957</td>\n",
       "    </tr>\n",
       "    <tr>\n",
       "      <td>2012-11-21</td>\n",
       "      <td>1391.03</td>\n",
       "      <td>42.8804</td>\n",
       "      <td>56242.1</td>\n",
       "      <td>4145.42</td>\n",
       "      <td>41668.06</td>\n",
       "      <td>1748.26</td>\n",
       "      <td>32.439763</td>\n",
       "      <td>0.795665</td>\n",
       "      <td>101.333</td>\n",
       "      <td>104.667</td>\n",
       "      <td>...</td>\n",
       "      <td>9.509</td>\n",
       "      <td>5.493</td>\n",
       "      <td>4.3754</td>\n",
       "      <td>2.0985</td>\n",
       "      <td>1815.7</td>\n",
       "      <td>477.95</td>\n",
       "      <td>13.0600</td>\n",
       "      <td>1.2829</td>\n",
       "      <td>1.5952</td>\n",
       "      <td>80.932</td>\n",
       "    </tr>\n",
       "    <tr>\n",
       "      <td>2012-11-22</td>\n",
       "      <td>1391.03</td>\n",
       "      <td>42.8804</td>\n",
       "      <td>56437.0</td>\n",
       "      <td>4139.68</td>\n",
       "      <td>42032.35</td>\n",
       "      <td>1746.00</td>\n",
       "      <td>32.439763</td>\n",
       "      <td>0.796695</td>\n",
       "      <td>100.838</td>\n",
       "      <td>104.503</td>\n",
       "      <td>...</td>\n",
       "      <td>9.515</td>\n",
       "      <td>5.539</td>\n",
       "      <td>4.3784</td>\n",
       "      <td>2.1045</td>\n",
       "      <td>1815.7</td>\n",
       "      <td>476.85</td>\n",
       "      <td>13.0298</td>\n",
       "      <td>1.2884</td>\n",
       "      <td>1.5937</td>\n",
       "      <td>80.699</td>\n",
       "    </tr>\n",
       "    <tr>\n",
       "      <td>2012-11-23</td>\n",
       "      <td>1409.15</td>\n",
       "      <td>43.8040</td>\n",
       "      <td>57574.0</td>\n",
       "      <td>4143.25</td>\n",
       "      <td>41919.55</td>\n",
       "      <td>1743.39</td>\n",
       "      <td>32.169437</td>\n",
       "      <td>0.808282</td>\n",
       "      <td>100.169</td>\n",
       "      <td>103.846</td>\n",
       "      <td>...</td>\n",
       "      <td>9.455</td>\n",
       "      <td>5.573</td>\n",
       "      <td>4.3071</td>\n",
       "      <td>2.0815</td>\n",
       "      <td>1823.5</td>\n",
       "      <td>478.77</td>\n",
       "      <td>12.9647</td>\n",
       "      <td>1.2976</td>\n",
       "      <td>1.6028</td>\n",
       "      <td>80.192</td>\n",
       "    </tr>\n",
       "  </tbody>\n",
       "</table>\n",
       "<p>5 rows × 29 columns</p>\n",
       "</div>"
      ],
      "text/plain": [
       "            S&P 500 INDEX  ISHARES MSCI EAFE ETF  BRAZIL IBOVESPA INDEX  \\\n",
       "Dates                                                                     \n",
       "2012-11-19        1386.89                42.7399                56450.9   \n",
       "2012-11-20        1387.81                42.8081                56450.9   \n",
       "2012-11-21        1391.03                42.8804                56242.1   \n",
       "2012-11-22        1391.03                42.8804                56437.0   \n",
       "2012-11-23        1409.15                43.8040                57574.0   \n",
       "\n",
       "            S&P/CLX IPSA (CLP) TR  S&P/BMV IPC  COLOMBIA COLCAP INDEX  \\\n",
       "Dates                                                                   \n",
       "2012-11-19                4191.12     40830.60                1743.83   \n",
       "2012-11-20                4179.70     41184.00                1743.33   \n",
       "2012-11-21                4145.42     41668.06                1748.26   \n",
       "2012-11-22                4139.68     42032.35                1746.00   \n",
       "2012-11-23                4143.25     41919.55                1743.39   \n",
       "\n",
       "            SPX 500 vs ROW  SPX  vs COL  COLOM CDS USD SR 5Y D14 Corp  \\\n",
       "Dates                                                                   \n",
       "2012-11-19       32.449538     0.795313                       101.750   \n",
       "2012-11-20       32.419332     0.796068                       100.000   \n",
       "2012-11-21       32.439763     0.795665                       101.333   \n",
       "2012-11-22       32.439763     0.796695                       100.838   \n",
       "2012-11-23       32.169437     0.808282                       100.169   \n",
       "\n",
       "            BRAZIL CDS USD SR 5Y D14 Corp  ...  BRL 10Y Bond  CHL 10Y Bond  \\\n",
       "Dates                                      ...                               \n",
       "2012-11-19                        104.625  ...         9.441         5.437   \n",
       "2012-11-20                        103.813  ...         9.447         5.459   \n",
       "2012-11-21                        104.667  ...         9.509         5.493   \n",
       "2012-11-22                        104.503  ...         9.515         5.539   \n",
       "2012-11-23                        103.846  ...         9.455         5.573   \n",
       "\n",
       "            US 10Y- COL 10Y  USD/BRL  USD/COP  USD/CLP  USD/MXN  EUR/USD  \\\n",
       "Dates                                                                      \n",
       "2012-11-19           4.4699   2.0823   1818.5   480.08  13.0579   1.2814   \n",
       "2012-11-20           4.4021   2.0806   1816.0   478.11  13.0044   1.2817   \n",
       "2012-11-21           4.3754   2.0985   1815.7   477.95  13.0600   1.2829   \n",
       "2012-11-22           4.3784   2.1045   1815.7   476.85  13.0298   1.2884   \n",
       "2012-11-23           4.3071   2.0815   1823.5   478.77  12.9647   1.2976   \n",
       "\n",
       "            GBP/USD     DXY  \n",
       "Dates                        \n",
       "2012-11-19   1.5909  80.874  \n",
       "2012-11-20   1.5927  80.957  \n",
       "2012-11-21   1.5952  80.932  \n",
       "2012-11-22   1.5937  80.699  \n",
       "2012-11-23   1.6028  80.192  \n",
       "\n",
       "[5 rows x 29 columns]"
      ]
     },
     "execution_count": 58,
     "metadata": {},
     "output_type": "execute_result"
    }
   ],
   "source": [
    "base.head()"
   ]
  },
  {
   "cell_type": "code",
   "execution_count": 59,
   "metadata": {},
   "outputs": [
    {
     "data": {
      "text/plain": [
       "Index(['S&P 500 INDEX', 'ISHARES MSCI EAFE ETF', 'BRAZIL IBOVESPA INDEX',\n",
       "       'S&P/CLX IPSA (CLP) TR', 'S&P/BMV IPC', 'COLOMBIA COLCAP INDEX',\n",
       "       'SPX 500 vs ROW', 'SPX  vs COL', 'COLOM CDS USD SR 5Y D14 Corp',\n",
       "       'BRAZIL CDS USD SR 5Y D14 Corp', 'CHILE CDS USD SR 5Y D14 Corp',\n",
       "       'MEX CDS USD SR 5Y D14 Corp', 'CL1 Comdty', 'SCO1 Comdty',\n",
       "       'LMCADS03 Comdty'],\n",
       "      dtype='object')"
      ]
     },
     "execution_count": 59,
     "metadata": {},
     "output_type": "execute_result"
    }
   ],
   "source": [
    "base[base.columns[:15]].columns"
   ]
  },
  {
   "cell_type": "code",
   "execution_count": 229,
   "metadata": {},
   "outputs": [
    {
     "data": {
      "text/plain": [
       "Index(['US 10Y Bond', 'UK 10Y Bond', 'COP 10Y Bond', 'MEX 10Y Bond',\n",
       "       'BRL 10Y Bond', 'CHL 10Y Bond', 'US 10Y- COL 10Y', 'USD/BRL'],\n",
       "      dtype='object')"
      ]
     },
     "execution_count": 229,
     "metadata": {},
     "output_type": "execute_result"
    }
   ],
   "source": [
    "base[base.columns[15:23]].columns"
   ]
  },
  {
   "cell_type": "code",
   "execution_count": 230,
   "metadata": {},
   "outputs": [
    {
     "data": {
      "text/plain": [
       "Index(['USD/COP', 'USD/CLP', 'USD/MXN', 'EUR/USD', 'GBP/USD', 'DXY'], dtype='object')"
      ]
     },
     "execution_count": 230,
     "metadata": {},
     "output_type": "execute_result"
    }
   ],
   "source": [
    "base[base.columns[23:]].columns"
   ]
  },
  {
   "cell_type": "markdown",
   "metadata": {},
   "source": [
    "### Crear retornos"
   ]
  },
  {
   "cell_type": "code",
   "execution_count": 606,
   "metadata": {},
   "outputs": [
    {
     "name": "stderr",
     "output_type": "stream",
     "text": [
      "C:\\ProgramData\\Anaconda3\\lib\\site-packages\\ipykernel_launcher.py:4: RuntimeWarning: invalid value encountered in log\n",
      "  after removing the cwd from sys.path.\n",
      "C:\\ProgramData\\Anaconda3\\lib\\site-packages\\ipykernel_launcher.py:6: RuntimeWarning: invalid value encountered in log\n",
      "  \n"
     ]
    }
   ],
   "source": [
    "#--------------------------------------------- crear retornos de la base -------------------------------------\n",
    "# Dado que la base contiene negativos o valores cercanos a ceros por los bonos en este caso solo lo voy a hacer con\n",
    "# los retornos compuestos, no logarítmicos \n",
    "retorno=pd.DataFrame(np.log(base[base.columns[:15]])-np.log(base[base.columns[:15]].shift(1))).fillna(0)*100\n",
    "retorno=retorno.join(pd.DataFrame(base[base.columns[15:23]]-base[base.columns[15:23]].shift(1)))\n",
    "retorno=retorno.join((np.log(base[base.columns[23:]])-np.log(base[base.columns[23:]].shift(1)))*100)\n",
    "retorno=retorno.dropna()\n",
    "#retorno['USD/MXN']=-retorno['USD/MXN']"
   ]
  },
  {
   "cell_type": "code",
   "execution_count": 607,
   "metadata": {},
   "outputs": [
    {
     "data": {
      "text/html": [
       "<div>\n",
       "<style scoped>\n",
       "    .dataframe tbody tr th:only-of-type {\n",
       "        vertical-align: middle;\n",
       "    }\n",
       "\n",
       "    .dataframe tbody tr th {\n",
       "        vertical-align: top;\n",
       "    }\n",
       "\n",
       "    .dataframe thead th {\n",
       "        text-align: right;\n",
       "    }\n",
       "</style>\n",
       "<table border=\"1\" class=\"dataframe\">\n",
       "  <thead>\n",
       "    <tr style=\"text-align: right;\">\n",
       "      <th></th>\n",
       "      <th>S&amp;P 500 INDEX</th>\n",
       "      <th>ISHARES MSCI EAFE ETF</th>\n",
       "      <th>BRAZIL IBOVESPA INDEX</th>\n",
       "      <th>S&amp;P/CLX IPSA (CLP) TR</th>\n",
       "      <th>S&amp;P/BMV IPC</th>\n",
       "      <th>COLOMBIA COLCAP INDEX</th>\n",
       "      <th>SPX 500 vs ROW</th>\n",
       "      <th>SPX  vs COL</th>\n",
       "      <th>COLOM CDS USD SR 5Y D14 Corp</th>\n",
       "      <th>BRAZIL CDS USD SR 5Y D14 Corp</th>\n",
       "      <th>...</th>\n",
       "      <th>BRL 10Y Bond</th>\n",
       "      <th>CHL 10Y Bond</th>\n",
       "      <th>US 10Y- COL 10Y</th>\n",
       "      <th>USD/BRL</th>\n",
       "      <th>USD/COP</th>\n",
       "      <th>USD/CLP</th>\n",
       "      <th>USD/MXN</th>\n",
       "      <th>EUR/USD</th>\n",
       "      <th>GBP/USD</th>\n",
       "      <th>DXY</th>\n",
       "    </tr>\n",
       "    <tr>\n",
       "      <th>Dates</th>\n",
       "      <th></th>\n",
       "      <th></th>\n",
       "      <th></th>\n",
       "      <th></th>\n",
       "      <th></th>\n",
       "      <th></th>\n",
       "      <th></th>\n",
       "      <th></th>\n",
       "      <th></th>\n",
       "      <th></th>\n",
       "      <th></th>\n",
       "      <th></th>\n",
       "      <th></th>\n",
       "      <th></th>\n",
       "      <th></th>\n",
       "      <th></th>\n",
       "      <th></th>\n",
       "      <th></th>\n",
       "      <th></th>\n",
       "      <th></th>\n",
       "      <th></th>\n",
       "    </tr>\n",
       "  </thead>\n",
       "  <tbody>\n",
       "    <tr>\n",
       "      <td>2012-11-20</td>\n",
       "      <td>0.066313</td>\n",
       "      <td>0.159443</td>\n",
       "      <td>0.000000</td>\n",
       "      <td>-0.272853</td>\n",
       "      <td>0.861803</td>\n",
       "      <td>-0.028677</td>\n",
       "      <td>-0.093129</td>\n",
       "      <td>0.094990</td>\n",
       "      <td>-1.734864</td>\n",
       "      <td>-0.779133</td>\n",
       "      <td>...</td>\n",
       "      <td>0.006</td>\n",
       "      <td>0.022</td>\n",
       "      <td>-0.0678</td>\n",
       "      <td>-0.0017</td>\n",
       "      <td>-0.137571</td>\n",
       "      <td>-0.411193</td>\n",
       "      <td>-0.410555</td>\n",
       "      <td>0.023409</td>\n",
       "      <td>0.113080</td>\n",
       "      <td>0.102576</td>\n",
       "    </tr>\n",
       "    <tr>\n",
       "      <td>2012-11-21</td>\n",
       "      <td>0.231751</td>\n",
       "      <td>0.168751</td>\n",
       "      <td>-0.370565</td>\n",
       "      <td>-0.823536</td>\n",
       "      <td>1.168506</td>\n",
       "      <td>0.282393</td>\n",
       "      <td>0.063001</td>\n",
       "      <td>-0.050642</td>\n",
       "      <td>1.324194</td>\n",
       "      <td>0.819268</td>\n",
       "      <td>...</td>\n",
       "      <td>0.062</td>\n",
       "      <td>0.034</td>\n",
       "      <td>-0.0267</td>\n",
       "      <td>0.0179</td>\n",
       "      <td>-0.016521</td>\n",
       "      <td>-0.033471</td>\n",
       "      <td>0.426636</td>\n",
       "      <td>0.093582</td>\n",
       "      <td>0.156843</td>\n",
       "      <td>-0.030885</td>\n",
       "    </tr>\n",
       "    <tr>\n",
       "      <td>2012-11-22</td>\n",
       "      <td>0.000000</td>\n",
       "      <td>0.000000</td>\n",
       "      <td>0.345939</td>\n",
       "      <td>-0.138562</td>\n",
       "      <td>0.870467</td>\n",
       "      <td>-0.129355</td>\n",
       "      <td>0.000000</td>\n",
       "      <td>0.129355</td>\n",
       "      <td>-0.489685</td>\n",
       "      <td>-0.156810</td>\n",
       "      <td>...</td>\n",
       "      <td>0.006</td>\n",
       "      <td>0.046</td>\n",
       "      <td>0.0030</td>\n",
       "      <td>0.0060</td>\n",
       "      <td>0.000000</td>\n",
       "      <td>-0.230415</td>\n",
       "      <td>-0.231508</td>\n",
       "      <td>0.427800</td>\n",
       "      <td>-0.094076</td>\n",
       "      <td>-0.288311</td>\n",
       "    </tr>\n",
       "    <tr>\n",
       "      <td>2012-11-23</td>\n",
       "      <td>1.294221</td>\n",
       "      <td>2.131029</td>\n",
       "      <td>1.994611</td>\n",
       "      <td>0.086201</td>\n",
       "      <td>-0.268725</td>\n",
       "      <td>-0.149596</td>\n",
       "      <td>-0.836809</td>\n",
       "      <td>1.443817</td>\n",
       "      <td>-0.665651</td>\n",
       "      <td>-0.630675</td>\n",
       "      <td>...</td>\n",
       "      <td>-0.060</td>\n",
       "      <td>0.034</td>\n",
       "      <td>-0.0713</td>\n",
       "      <td>-0.0230</td>\n",
       "      <td>0.428666</td>\n",
       "      <td>0.401834</td>\n",
       "      <td>-0.500876</td>\n",
       "      <td>0.711527</td>\n",
       "      <td>0.569374</td>\n",
       "      <td>-0.630242</td>\n",
       "    </tr>\n",
       "    <tr>\n",
       "      <td>2012-11-26</td>\n",
       "      <td>-0.203165</td>\n",
       "      <td>-0.238619</td>\n",
       "      <td>-1.464276</td>\n",
       "      <td>-0.253746</td>\n",
       "      <td>-0.098523</td>\n",
       "      <td>-0.478950</td>\n",
       "      <td>0.035453</td>\n",
       "      <td>0.275784</td>\n",
       "      <td>1.809445</td>\n",
       "      <td>1.734575</td>\n",
       "      <td>...</td>\n",
       "      <td>-0.039</td>\n",
       "      <td>-0.018</td>\n",
       "      <td>-0.0366</td>\n",
       "      <td>-0.0001</td>\n",
       "      <td>0.016451</td>\n",
       "      <td>0.593511</td>\n",
       "      <td>0.394909</td>\n",
       "      <td>-0.030831</td>\n",
       "      <td>-0.006239</td>\n",
       "      <td>0.073546</td>\n",
       "    </tr>\n",
       "  </tbody>\n",
       "</table>\n",
       "<p>5 rows × 29 columns</p>\n",
       "</div>"
      ],
      "text/plain": [
       "            S&P 500 INDEX  ISHARES MSCI EAFE ETF  BRAZIL IBOVESPA INDEX  \\\n",
       "Dates                                                                     \n",
       "2012-11-20       0.066313               0.159443               0.000000   \n",
       "2012-11-21       0.231751               0.168751              -0.370565   \n",
       "2012-11-22       0.000000               0.000000               0.345939   \n",
       "2012-11-23       1.294221               2.131029               1.994611   \n",
       "2012-11-26      -0.203165              -0.238619              -1.464276   \n",
       "\n",
       "            S&P/CLX IPSA (CLP) TR  S&P/BMV IPC  COLOMBIA COLCAP INDEX  \\\n",
       "Dates                                                                   \n",
       "2012-11-20              -0.272853     0.861803              -0.028677   \n",
       "2012-11-21              -0.823536     1.168506               0.282393   \n",
       "2012-11-22              -0.138562     0.870467              -0.129355   \n",
       "2012-11-23               0.086201    -0.268725              -0.149596   \n",
       "2012-11-26              -0.253746    -0.098523              -0.478950   \n",
       "\n",
       "            SPX 500 vs ROW  SPX  vs COL  COLOM CDS USD SR 5Y D14 Corp  \\\n",
       "Dates                                                                   \n",
       "2012-11-20       -0.093129     0.094990                     -1.734864   \n",
       "2012-11-21        0.063001    -0.050642                      1.324194   \n",
       "2012-11-22        0.000000     0.129355                     -0.489685   \n",
       "2012-11-23       -0.836809     1.443817                     -0.665651   \n",
       "2012-11-26        0.035453     0.275784                      1.809445   \n",
       "\n",
       "            BRAZIL CDS USD SR 5Y D14 Corp  ...  BRL 10Y Bond  CHL 10Y Bond  \\\n",
       "Dates                                      ...                               \n",
       "2012-11-20                      -0.779133  ...         0.006         0.022   \n",
       "2012-11-21                       0.819268  ...         0.062         0.034   \n",
       "2012-11-22                      -0.156810  ...         0.006         0.046   \n",
       "2012-11-23                      -0.630675  ...        -0.060         0.034   \n",
       "2012-11-26                       1.734575  ...        -0.039        -0.018   \n",
       "\n",
       "            US 10Y- COL 10Y  USD/BRL   USD/COP   USD/CLP   USD/MXN   EUR/USD  \\\n",
       "Dates                                                                          \n",
       "2012-11-20          -0.0678  -0.0017 -0.137571 -0.411193 -0.410555  0.023409   \n",
       "2012-11-21          -0.0267   0.0179 -0.016521 -0.033471  0.426636  0.093582   \n",
       "2012-11-22           0.0030   0.0060  0.000000 -0.230415 -0.231508  0.427800   \n",
       "2012-11-23          -0.0713  -0.0230  0.428666  0.401834 -0.500876  0.711527   \n",
       "2012-11-26          -0.0366  -0.0001  0.016451  0.593511  0.394909 -0.030831   \n",
       "\n",
       "             GBP/USD       DXY  \n",
       "Dates                           \n",
       "2012-11-20  0.113080  0.102576  \n",
       "2012-11-21  0.156843 -0.030885  \n",
       "2012-11-22 -0.094076 -0.288311  \n",
       "2012-11-23  0.569374 -0.630242  \n",
       "2012-11-26 -0.006239  0.073546  \n",
       "\n",
       "[5 rows x 29 columns]"
      ]
     },
     "execution_count": 607,
     "metadata": {},
     "output_type": "execute_result"
    }
   ],
   "source": [
    "retorno.head()"
   ]
  },
  {
   "cell_type": "code",
   "execution_count": 608,
   "metadata": {},
   "outputs": [
    {
     "data": {
      "text/plain": [
       "(1846, 29)"
      ]
     },
     "execution_count": 608,
     "metadata": {},
     "output_type": "execute_result"
    }
   ],
   "source": [
    "retorno.shape"
   ]
  },
  {
   "cell_type": "code",
   "execution_count": null,
   "metadata": {},
   "outputs": [],
   "source": []
  },
  {
   "cell_type": "markdown",
   "metadata": {},
   "source": [
    "### PCA - para ver pares similares"
   ]
  },
  {
   "cell_type": "markdown",
   "metadata": {},
   "source": [
    "Para indentificar que activos se pueden parecer más al peso colombiano voy a utilizar PCA. Con el objetivo de descomponer los componentes principales de los retornos y ver que factores se asemejan entre los principales activos"
   ]
  },
  {
   "cell_type": "code",
   "execution_count": 609,
   "metadata": {},
   "outputs": [
    {
     "name": "stdout",
     "output_type": "stream",
     "text": [
      "96.40% of the variance is explained by the first 2 PCs\n"
     ]
    }
   ],
   "source": [
    "#12\n",
    "N_PRIN_COMPONENTS = 12\n",
    "pca = PCA(n_components=N_PRIN_COMPONENTS)\n",
    "pca.fit(retorno)\n",
    "percentage =  pca.explained_variance_ratio_\n",
    "percentage_cum = np.cumsum(percentage)\n",
    "print ('{0:.2f}% of the variance is explained by the first 2 PCs'.format(percentage_cum[-1]*100))\n"
   ]
  },
  {
   "cell_type": "code",
   "execution_count": 610,
   "metadata": {},
   "outputs": [
    {
     "data": {
      "text/plain": [
       "(12, 29)"
      ]
     },
     "execution_count": 610,
     "metadata": {},
     "output_type": "execute_result"
    }
   ],
   "source": [
    "pca.components_[:].shape"
   ]
  },
  {
   "cell_type": "code",
   "execution_count": 611,
   "metadata": {},
   "outputs": [
    {
     "name": "stdout",
     "output_type": "stream",
     "text": [
      "(29, 12)\n"
     ]
    }
   ],
   "source": [
    "X=pca.components_[:].T\n",
    "print(X.shape)"
   ]
  },
  {
   "cell_type": "code",
   "execution_count": 612,
   "metadata": {},
   "outputs": [
    {
     "name": "stdout",
     "output_type": "stream",
     "text": [
      "(29, 12)\n"
     ]
    }
   ],
   "source": [
    "# ---------------------- arreglar los datos escalandolos con el caso estandar -------------------------\n",
    "X = preprocessing.StandardScaler().fit_transform(X) # Z=(x-u)/sigma\n",
    "print (X.shape)"
   ]
  },
  {
   "cell_type": "markdown",
   "metadata": {},
   "source": [
    "### USar algorirmo de clustering DBSCA"
   ]
  },
  {
   "cell_type": "code",
   "execution_count": 613,
   "metadata": {},
   "outputs": [
    {
     "name": "stdout",
     "output_type": "stream",
     "text": [
      "DBSCAN(algorithm='auto', eps=1.9, leaf_size=30, metric='euclidean',\n",
      "       metric_params=None, min_samples=2, n_jobs=None, p=None)\n",
      "\n",
      "Clusters discovered: 4\n"
     ]
    }
   ],
   "source": [
    "clf = DBSCAN(eps=1.9, min_samples=2)\n",
    "print (clf)\n",
    "\n",
    "clf.fit(X)\n",
    "labels = clf.labels_\n",
    "n_clusters_ = len(set(labels)) - (1 if -1 in labels else 0)\n",
    "print (\"\\nClusters discovered: %d\" % n_clusters_)\n",
    "\n",
    "clustered = (clf.labels_)"
   ]
  },
  {
   "cell_type": "code",
   "execution_count": 614,
   "metadata": {},
   "outputs": [
    {
     "data": {
      "text/plain": [
       "array([-1, -1, -1,  0,  0, -1,  1, -1, -1, -1, -1, -1, -1, -1, -1,  2,  2,\n",
       "        2,  2,  2,  2,  2,  2,  1,  1,  1,  3,  3,  1], dtype=int64)"
      ]
     },
     "execution_count": 614,
     "metadata": {},
     "output_type": "execute_result"
    }
   ],
   "source": [
    "labels"
   ]
  },
  {
   "cell_type": "code",
   "execution_count": 615,
   "metadata": {},
   "outputs": [],
   "source": [
    "clustered_series = pd.Series(index=retorno.columns, data=clustered.flatten())\n",
    "clustered_series_all = pd.Series(index=retorno.columns, data=clustered.flatten())\n",
    "clustered_series = clustered_series[clustered_series != -1]"
   ]
  },
  {
   "cell_type": "code",
   "execution_count": 616,
   "metadata": {},
   "outputs": [],
   "source": [
    "X_tsne = TSNE(learning_rate=1000, perplexity=25, random_state=1337).fit_transform(X)"
   ]
  },
  {
   "cell_type": "code",
   "execution_count": 617,
   "metadata": {},
   "outputs": [
    {
     "data": {
      "image/png": "[encoded data removed]",
      "text/plain": [
       "<Figure size 432x288 with 1 Axes>"
      ]
     },
     "metadata": {},
     "output_type": "display_data"
    }
   ],
   "source": [
    "import matplotlib.cm as cm\n",
    "plt.figure(1, facecolor='white')\n",
    "plt.clf()\n",
    "plt.axis('off')\n",
    "\n",
    "plt.scatter(\n",
    "    X_tsne[(labels!=-1), 0],\n",
    "    X_tsne[(labels!=-1), 1],\n",
    "    s=100,\n",
    "    alpha=0.85,\n",
    "    c=labels[labels!=-1],\n",
    "    cmap=cm.Paired\n",
    ")\n",
    "\n",
    "plt.scatter(\n",
    "    X_tsne[(clustered_series_all==-1).values, 0],\n",
    "    X_tsne[(clustered_series_all==-1).values, 1],\n",
    "    s=100,\n",
    "    alpha=0.05\n",
    ")\n",
    "\n",
    "plt.title('T-SNE of all assets with DBSCAN Clusters Noted');"
   ]
  },
  {
   "cell_type": "code",
   "execution_count": 618,
   "metadata": {},
   "outputs": [
    {
     "data": {
      "image/png": "[encoded data removed]",
      "text/plain": [
       "<Figure size 432x288 with 1 Axes>"
      ]
     },
     "metadata": {
      "needs_background": "light"
     },
     "output_type": "display_data"
    }
   ],
   "source": [
    "plt.barh(\n",
    "    range(len(clustered_series.value_counts())),\n",
    "    clustered_series.value_counts()\n",
    ")\n",
    "plt.title('Cluster Member Counts')\n",
    "plt.xlabel('Stocks in Cluster')\n",
    "plt.ylabel('Cluster Number');"
   ]
  },
  {
   "cell_type": "code",
   "execution_count": 619,
   "metadata": {},
   "outputs": [
    {
     "data": {
      "image/png": "[encoded data removed]",
      "text/plain": [
       "<Figure size 432x288 with 1 Axes>"
      ]
     },
     "metadata": {
      "needs_background": "light"
     },
     "output_type": "display_data"
    },
    {
     "data": {
      "image/png": "[encoded data removed]",
      "text/plain": [
       "<Figure size 432x288 with 1 Axes>"
      ]
     },
     "metadata": {
      "needs_background": "light"
     },
     "output_type": "display_data"
    },
    {
     "data": {
      "image/png": "[encoded data removed]",
      "text/plain": [
       "<Figure size 432x288 with 1 Axes>"
      ]
     },
     "metadata": {
      "needs_background": "light"
     },
     "output_type": "display_data"
    }
   ],
   "source": [
    "# get the number of stocks in each cluster\n",
    "counts = clustered_series.value_counts()\n",
    "\n",
    "# let's visualize some clusters\n",
    "cluster_vis_list = list(counts[(counts<20) & (counts>1)].index)[::-1]\n",
    "\n",
    "# plot a handful of the smallest clusters\n",
    "for clust in cluster_vis_list[0:min(len(cluster_vis_list), 3)]:\n",
    "    tickers = list(clustered_series[clustered_series==clust].index)\n",
    "    means = np.log(base[tickers].mean())\n",
    "    data = np.log(base[tickers]).sub(means)\n",
    "    data.plot(title='Stock Time Series for Cluster %d' % clust)"
   ]
  },
  {
   "cell_type": "markdown",
   "metadata": {},
   "source": [
    "Ahora voy a identificar de que cluster es el USD/COP"
   ]
  },
  {
   "cell_type": "code",
   "execution_count": 620,
   "metadata": {},
   "outputs": [
    {
     "data": {
      "text/plain": [
       "SPX 500 vs ROW    1\n",
       "USD/COP           1\n",
       "USD/CLP           1\n",
       "USD/MXN           1\n",
       "DXY               1\n",
       "dtype: int64"
      ]
     },
     "execution_count": 620,
     "metadata": {},
     "output_type": "execute_result"
    }
   ],
   "source": [
    "which_cluster = clustered_series.loc[\"USD/COP\"]\n",
    "clustered_series[clustered_series == which_cluster]"
   ]
  },
  {
   "cell_type": "markdown",
   "metadata": {},
   "source": [
    "Gráfico para el cluster"
   ]
  },
  {
   "cell_type": "code",
   "execution_count": 621,
   "metadata": {},
   "outputs": [
    {
     "data": {
      "image/png": "[encoded data removed]",
      "text/plain": [
       "<Figure size 432x288 with 1 Axes>"
      ]
     },
     "metadata": {
      "needs_background": "light"
     },
     "output_type": "display_data"
    }
   ],
   "source": [
    "tickers = list(clustered_series[clustered_series==which_cluster].index)\n",
    "means = np.log(base[tickers].mean())\n",
    "data = np.log(base[tickers]).sub(means)\n",
    "data.plot(legend=False, title=\"Stock Time Series for Cluster %d\" % which_cluster);"
   ]
  },
  {
   "cell_type": "markdown",
   "metadata": {},
   "source": [
    "# Prueba de cointegración"
   ]
  },
  {
   "cell_type": "code",
   "execution_count": 393,
   "metadata": {},
   "outputs": [],
   "source": [
    "def find_cointegrated_pairs(data, significance=0.05):\n",
    "    # This function is from https://www.quantopian.com/lectures/introduction-to-pairs-trading\n",
    "    n = data.shape[1]\n",
    "    score_matrix = np.zeros((n, n))\n",
    "    pvalue_matrix = np.ones((n, n))\n",
    "    keys = data.keys()\n",
    "    pairs = []\n",
    "    for i in range(n):\n",
    "        for j in range(i+1, n):\n",
    "            S1 = data[keys[i]]\n",
    "            S2 = data[keys[j]]\n",
    "            result = coint(S1, S2)\n",
    "            score = result[0]\n",
    "            pvalue = result[1]\n",
    "            score_matrix[i, j] = score\n",
    "            pvalue_matrix[i, j] = pvalue\n",
    "            if pvalue < significance:\n",
    "                pairs.append((keys[i], keys[j]))\n",
    "    return score_matrix, pvalue_matrix, pairs"
   ]
  },
  {
   "cell_type": "code",
   "execution_count": 407,
   "metadata": {},
   "outputs": [
    {
     "name": "stdout",
     "output_type": "stream",
     "text": [
      "2\n",
      "1\n",
      "3\n",
      "0\n"
     ]
    }
   ],
   "source": [
    "for i, which_clust in enumerate(ticker_count_reduced.index):\n",
    "    print (which_clust)"
   ]
  },
  {
   "cell_type": "code",
   "execution_count": 572,
   "metadata": {},
   "outputs": [],
   "source": [
    "CLUSTER_SIZE_LIMIT = 9999\n",
    "counts = clustered_series.value_counts()\n",
    "ticker_count_reduced = counts[(counts>1) & (counts<=CLUSTER_SIZE_LIMIT)]\n",
    "cluster_dict = {}\n",
    "for i, which_clust in enumerate(ticker_count_reduced.index):\n",
    "    tickers = clustered_series[clustered_series == which_clust].index\n",
    "    score_matrix, pvalue_matrix, pairs = find_cointegrated_pairs(\n",
    "        np.log(base[tickers])\n",
    "    )\n",
    "    cluster_dict[which_clust] = {}\n",
    "    cluster_dict[which_clust]['score_matrix'] = score_matrix\n",
    "    cluster_dict[which_clust]['pvalue_matrix'] = pvalue_matrix\n",
    "    cluster_dict[which_clust]['pairs'] = pairs"
   ]
  },
  {
   "cell_type": "code",
   "execution_count": 573,
   "metadata": {},
   "outputs": [
    {
     "data": {
      "text/plain": [
       "{2: {'score_matrix': array([[ 0.        , -2.54789675, -2.41653009, -2.3246854 , -2.44385577,\n",
       "          -2.89668258, -2.65436013, -2.48403221],\n",
       "         [ 0.        ,  0.        , -1.39166841, -2.00981794, -2.17696379,\n",
       "          -2.77695357, -1.36657281, -2.51443049],\n",
       "         [ 0.        ,  0.        ,  0.        , -2.28531814, -3.00751426,\n",
       "          -2.44537396, -2.41209167, -2.22098729],\n",
       "         [ 0.        ,  0.        ,  0.        ,  0.        , -2.04556553,\n",
       "          -1.87990571, -1.73380247, -1.71652089],\n",
       "         [ 0.        ,  0.        ,  0.        ,  0.        ,  0.        ,\n",
       "          -1.79511685, -0.95670456, -0.57548831],\n",
       "         [ 0.        ,  0.        ,  0.        ,  0.        ,  0.        ,\n",
       "           0.        , -0.76957263, -1.58305726],\n",
       "         [ 0.        ,  0.        ,  0.        ,  0.        ,  0.        ,\n",
       "           0.        ,  0.        , -2.02868564],\n",
       "         [ 0.        ,  0.        ,  0.        ,  0.        ,  0.        ,\n",
       "           0.        ,  0.        ,  0.        ]]),\n",
       "  'pvalue_matrix': array([[1.        , 0.25836332, 0.31706642, 0.36130183, 0.30437507,\n",
       "          0.13685016, 0.21642101, 0.28615636],\n",
       "         [1.        , 1.        , 0.80035481, 0.52347089, 0.43627265,\n",
       "          0.17312781, 0.80874132, 0.2727421 ],\n",
       "         [1.        , 1.        , 1.        , 0.38090133, 0.10843015,\n",
       "          0.30367689, 0.31914966, 0.41356867],\n",
       "         [1.        , 1.        , 1.        , 1.        , 0.50482602,\n",
       "          0.59016262, 0.66128402, 0.66931461],\n",
       "         [1.        , 1.        , 1.        , 1.        , 1.        ,\n",
       "          0.632091  , 0.91075569, 0.95850233],\n",
       "         [1.        , 1.        , 1.        , 1.        , 1.        ,\n",
       "          1.        , 0.93858661, 0.72798792],\n",
       "         [1.        , 1.        , 1.        , 1.        , 1.        ,\n",
       "          1.        , 1.        , 0.51363821],\n",
       "         [1.        , 1.        , 1.        , 1.        , 1.        ,\n",
       "          1.        , 1.        , 1.        ]]),\n",
       "  'pairs': []},\n",
       " 1: {'score_matrix': array([[ 0.        , -2.5993416 , -2.35801403, -2.1457822 , -1.54164161],\n",
       "         [ 0.        ,  0.        , -2.36311015, -2.44575291, -2.68610643],\n",
       "         [ 0.        ,  0.        ,  0.        , -1.8754857 , -2.44420324],\n",
       "         [ 0.        ,  0.        ,  0.        ,  0.        , -2.38977069],\n",
       "         [ 0.        ,  0.        ,  0.        ,  0.        ,  0.        ]]),\n",
       "  'pvalue_matrix': array([[1.        , 0.23709545, 0.34498931, 0.45247277, 0.7448805 ],\n",
       "         [1.        , 1.        , 0.34251983, 0.30350273, 0.20461536],\n",
       "         [1.        , 1.        , 1.        , 0.59238647, 0.30421521],\n",
       "         [1.        , 1.        , 1.        , 1.        , 0.32971502],\n",
       "         [1.        , 1.        , 1.        , 1.        , 1.        ]]),\n",
       "  'pairs': []},\n",
       " 3: {'score_matrix': array([[ 0.        , -1.61624747],\n",
       "         [ 0.        ,  0.        ]]),\n",
       "  'pvalue_matrix': array([[1.        , 0.71398356],\n",
       "         [1.        , 1.        ]]),\n",
       "  'pairs': []},\n",
       " 0: {'score_matrix': array([[ 0.        , -1.37792316],\n",
       "         [ 0.        ,  0.        ]]),\n",
       "  'pvalue_matrix': array([[1.        , 0.80498033],\n",
       "         [1.        , 1.        ]]),\n",
       "  'pairs': []}}"
      ]
     },
     "execution_count": 573,
     "metadata": {},
     "output_type": "execute_result"
    }
   ],
   "source": [
    "cluster_dict"
   ]
  },
  {
   "cell_type": "code",
   "execution_count": 574,
   "metadata": {},
   "outputs": [],
   "source": [
    "pairs = []\n",
    "for clust in cluster_dict.keys():\n",
    "    pairs.extend(cluster_dict[clust]['pairs'])"
   ]
  },
  {
   "cell_type": "code",
   "execution_count": 575,
   "metadata": {},
   "outputs": [
    {
     "data": {
      "text/plain": [
       "[]"
      ]
     },
     "execution_count": 575,
     "metadata": {},
     "output_type": "execute_result"
    }
   ],
   "source": [
    "pairs"
   ]
  },
  {
   "cell_type": "markdown",
   "metadata": {},
   "source": [
    "#### Ejercicio para tres activos\n",
    "voy a intentar explicar el USD/COP con el CLP y BRL."
   ]
  },
  {
   "cell_type": "code",
   "execution_count": 95,
   "metadata": {},
   "outputs": [
    {
     "data": {
      "image/png": "[encoded data removed]",
      "text/plain": [
       "<Figure size 432x288 with 3 Axes>"
      ]
     },
     "metadata": {
      "needs_background": "light"
     },
     "output_type": "display_data"
    },
    {
     "data": {
      "image/png": "[encoded data removed]",
      "text/plain": [
       "<Figure size 432x288 with 1 Axes>"
      ]
     },
     "metadata": {
      "needs_background": "light"
     },
     "output_type": "display_data"
    }
   ],
   "source": [
    "if __name__ == \"__main__\":\n",
    "    file_name = 'KalmanExample.txt'\n",
    "    #df = pd.read_csv(file_name, index_col = 0)\n",
    "    prices = base[['USD/COP', 'USD/CLP', 'USD/BRL']]\n",
    "    delta = 1e-3\n",
    "    trans_cov = delta / (1 - delta) * np.eye(3)\n",
    "    obs_mat = np.vstack( [prices['USD/CLP'], prices['USD/BRL'],  \n",
    "                          np.ones(prices['USD/CLP'].shape)]).T[:, np.newaxis]\n",
    "    kf = KalmanFilter(\n",
    "        n_dim_obs=1,\n",
    "        n_dim_state=3,\n",
    "        initial_state_mean=np.zeros(3),\n",
    "        initial_state_covariance=np.ones((3, 3)),\n",
    "        transition_matrices=np.eye(3),\n",
    "        observation_matrices=obs_mat,\n",
    "        observation_covariance=1.0,\n",
    "        transition_covariance=trans_cov        \n",
    "    )\n",
    "\n",
    "    # state_means, state_covs = kf.em(prices['ETF'].values).smooth(prices['ETF'].values)\n",
    "    state_means, state_covs = kf.filter(prices['USD/COP'].values)\n",
    "\n",
    "\n",
    "    # Re-construct ETF from coefficients and 'ASSET_1' and ASSET_2 values:\n",
    "    ETF_est = np.array([a.dot(b) for a, b in zip(np.squeeze(obs_mat), state_means)])\n",
    "\n",
    "    # Draw slope and intercept...\n",
    "    pd.DataFrame(\n",
    "        dict(\n",
    "            slope1=state_means[:, 0],\n",
    "            slope2=state_means[:, 1],\n",
    "            intercept=state_means[:, 2],\n",
    "        ), index=prices.index\n",
    "    ).plot(subplots=True)\n",
    "    plt.show()\n",
    "\n",
    "    # Draw actual y, and estimated y:\n",
    "    datos_prediccion=pd.DataFrame(\n",
    "        dict(\n",
    "            ETF_est=ETF_est,\n",
    "            ETF_act=prices['USD/COP'].values\n",
    "        ), index=prices.index\n",
    "    )\n",
    "    datos_prediccion.plot()\n",
    "    plt.show()"
   ]
  },
  {
   "cell_type": "code",
   "execution_count": 96,
   "metadata": {},
   "outputs": [
    {
     "data": {
      "text/plain": [
       "<matplotlib.axes._subplots.AxesSubplot at 0x19ee1331e48>"
      ]
     },
     "execution_count": 96,
     "metadata": {},
     "output_type": "execute_result"
    },
    {
     "data": {
      "image/png": "[encoded data removed]",
      "text/plain": [
       "<Figure size 432x288 with 1 Axes>"
      ]
     },
     "metadata": {
      "needs_background": "light"
     },
     "output_type": "display_data"
    }
   ],
   "source": [
    "datos_prediccion[-300:].plot()"
   ]
  },
  {
   "cell_type": "markdown",
   "metadata": {},
   "source": [
    "### Para multiples activos y sus rezagos\n",
    "Voy a hacer dos ejercicio uno con los datos en el momento t y otro con los datos en t-1. Primero voy a hacerlo en el momento t."
   ]
  },
  {
   "cell_type": "markdown",
   "metadata": {},
   "source": [
    "#### Momento t\n",
    "Creo una base de datos que contenga los activos a analizar. Debe dejar el USD/COP de primera y luego agregar los otros activos que quiera usar"
   ]
  },
  {
   "cell_type": "code",
   "execution_count": 415,
   "metadata": {},
   "outputs": [],
   "source": [
    "activos=clustered_series[clustered_series == which_cluster].index.drop(\"USD/COP\")"
   ]
  },
  {
   "cell_type": "code",
   "execution_count": 493,
   "metadata": {},
   "outputs": [],
   "source": [
    "df_1=base[activos].shift(0)\n",
    "df_2=base[activos].shift(1)\n",
    "df=pd.DataFrame(base['USD/COP'])\n",
    "df=df.join(df_1).bfill()\n",
    "\n",
    "#f[\"rezago\"]=base[\"USD/COP\"].shift(1)"
   ]
  },
  {
   "cell_type": "code",
   "execution_count": 494,
   "metadata": {},
   "outputs": [
    {
     "data": {
      "text/html": [
       "<div>\n",
       "<style scoped>\n",
       "    .dataframe tbody tr th:only-of-type {\n",
       "        vertical-align: middle;\n",
       "    }\n",
       "\n",
       "    .dataframe tbody tr th {\n",
       "        vertical-align: top;\n",
       "    }\n",
       "\n",
       "    .dataframe thead th {\n",
       "        text-align: right;\n",
       "    }\n",
       "</style>\n",
       "<table border=\"1\" class=\"dataframe\">\n",
       "  <thead>\n",
       "    <tr style=\"text-align: right;\">\n",
       "      <th></th>\n",
       "      <th>USD/COP</th>\n",
       "      <th>SPX 500 vs ROW</th>\n",
       "      <th>USD/CLP</th>\n",
       "      <th>USD/MXN</th>\n",
       "      <th>DXY</th>\n",
       "    </tr>\n",
       "    <tr>\n",
       "      <th>Dates</th>\n",
       "      <th></th>\n",
       "      <th></th>\n",
       "      <th></th>\n",
       "      <th></th>\n",
       "      <th></th>\n",
       "    </tr>\n",
       "  </thead>\n",
       "  <tbody>\n",
       "    <tr>\n",
       "      <td>2012-11-19</td>\n",
       "      <td>1818.5</td>\n",
       "      <td>32.449538</td>\n",
       "      <td>480.08</td>\n",
       "      <td>13.0579</td>\n",
       "      <td>80.874</td>\n",
       "    </tr>\n",
       "    <tr>\n",
       "      <td>2012-11-20</td>\n",
       "      <td>1816.0</td>\n",
       "      <td>32.419332</td>\n",
       "      <td>478.11</td>\n",
       "      <td>13.0044</td>\n",
       "      <td>80.957</td>\n",
       "    </tr>\n",
       "    <tr>\n",
       "      <td>2012-11-21</td>\n",
       "      <td>1815.7</td>\n",
       "      <td>32.439763</td>\n",
       "      <td>477.95</td>\n",
       "      <td>13.0600</td>\n",
       "      <td>80.932</td>\n",
       "    </tr>\n",
       "    <tr>\n",
       "      <td>2012-11-22</td>\n",
       "      <td>1815.7</td>\n",
       "      <td>32.439763</td>\n",
       "      <td>476.85</td>\n",
       "      <td>13.0298</td>\n",
       "      <td>80.699</td>\n",
       "    </tr>\n",
       "    <tr>\n",
       "      <td>2012-11-23</td>\n",
       "      <td>1823.5</td>\n",
       "      <td>32.169437</td>\n",
       "      <td>478.77</td>\n",
       "      <td>12.9647</td>\n",
       "      <td>80.192</td>\n",
       "    </tr>\n",
       "  </tbody>\n",
       "</table>\n",
       "</div>"
      ],
      "text/plain": [
       "            USD/COP  SPX 500 vs ROW  USD/CLP  USD/MXN     DXY\n",
       "Dates                                                        \n",
       "2012-11-19   1818.5       32.449538   480.08  13.0579  80.874\n",
       "2012-11-20   1816.0       32.419332   478.11  13.0044  80.957\n",
       "2012-11-21   1815.7       32.439763   477.95  13.0600  80.932\n",
       "2012-11-22   1815.7       32.439763   476.85  13.0298  80.699\n",
       "2012-11-23   1823.5       32.169437   478.77  12.9647  80.192"
      ]
     },
     "execution_count": 494,
     "metadata": {},
     "output_type": "execute_result"
    }
   ],
   "source": [
    "df.head()"
   ]
  },
  {
   "cell_type": "code",
   "execution_count": 495,
   "metadata": {},
   "outputs": [
    {
     "data": {
      "text/html": [
       "<div>\n",
       "<style scoped>\n",
       "    .dataframe tbody tr th:only-of-type {\n",
       "        vertical-align: middle;\n",
       "    }\n",
       "\n",
       "    .dataframe tbody tr th {\n",
       "        vertical-align: top;\n",
       "    }\n",
       "\n",
       "    .dataframe thead th {\n",
       "        text-align: right;\n",
       "    }\n",
       "</style>\n",
       "<table border=\"1\" class=\"dataframe\">\n",
       "  <thead>\n",
       "    <tr style=\"text-align: right;\">\n",
       "      <th></th>\n",
       "      <th>SPX 500 vs ROW</th>\n",
       "      <th>USD/CLP</th>\n",
       "      <th>USD/MXN</th>\n",
       "      <th>DXY</th>\n",
       "    </tr>\n",
       "    <tr>\n",
       "      <th>Dates</th>\n",
       "      <th></th>\n",
       "      <th></th>\n",
       "      <th></th>\n",
       "      <th></th>\n",
       "    </tr>\n",
       "  </thead>\n",
       "  <tbody>\n",
       "    <tr>\n",
       "      <td>2012-11-19</td>\n",
       "      <td>32.449538</td>\n",
       "      <td>480.08</td>\n",
       "      <td>13.0579</td>\n",
       "      <td>80.874</td>\n",
       "    </tr>\n",
       "    <tr>\n",
       "      <td>2012-11-20</td>\n",
       "      <td>32.419332</td>\n",
       "      <td>478.11</td>\n",
       "      <td>13.0044</td>\n",
       "      <td>80.957</td>\n",
       "    </tr>\n",
       "    <tr>\n",
       "      <td>2012-11-21</td>\n",
       "      <td>32.439763</td>\n",
       "      <td>477.95</td>\n",
       "      <td>13.0600</td>\n",
       "      <td>80.932</td>\n",
       "    </tr>\n",
       "    <tr>\n",
       "      <td>2012-11-22</td>\n",
       "      <td>32.439763</td>\n",
       "      <td>476.85</td>\n",
       "      <td>13.0298</td>\n",
       "      <td>80.699</td>\n",
       "    </tr>\n",
       "    <tr>\n",
       "      <td>2012-11-23</td>\n",
       "      <td>32.169437</td>\n",
       "      <td>478.77</td>\n",
       "      <td>12.9647</td>\n",
       "      <td>80.192</td>\n",
       "    </tr>\n",
       "  </tbody>\n",
       "</table>\n",
       "</div>"
      ],
      "text/plain": [
       "            SPX 500 vs ROW  USD/CLP  USD/MXN     DXY\n",
       "Dates                                               \n",
       "2012-11-19       32.449538   480.08  13.0579  80.874\n",
       "2012-11-20       32.419332   478.11  13.0044  80.957\n",
       "2012-11-21       32.439763   477.95  13.0600  80.932\n",
       "2012-11-22       32.439763   476.85  13.0298  80.699\n",
       "2012-11-23       32.169437   478.77  12.9647  80.192"
      ]
     },
     "execution_count": 495,
     "metadata": {},
     "output_type": "execute_result"
    }
   ],
   "source": [
    "base[activos].head()"
   ]
  },
  {
   "cell_type": "code",
   "execution_count": 622,
   "metadata": {},
   "outputs": [],
   "source": [
    "def filtro_de_kalman(df):########################## Parámetros ##########################\n",
    "    numero_activos=len(df.columns)\n",
    "    prices = df.bfill()\n",
    "    delta = 1e-3\n",
    "    trans_cov = delta / (1 - delta) * np.eye(numero_activos)\n",
    "\n",
    "    ########################## Matriz de observaciones #################\n",
    "    # Empiezo en 1 porque 0 es el USD/COP\n",
    "    obs_mat=prices[prices.columns[1]]\n",
    "    for i in range(2,len(prices.columns)):\n",
    "        obs_mat=np.vstack([obs_mat,prices[prices.columns[i]]])\n",
    "    obs_mat=np.vstack([obs_mat,np.ones(prices[prices.columns[1]].shape)]).T[:, np.newaxis]\n",
    "\n",
    "    #obs_mat = np.vstack( [prices['USD/BRL'],prices['USD/CLP'],prices['USD/MXN'], prices[\"DXY\"],prices['COLOM CDS USD SR 5Y D14 Corp'],\n",
    "    #                      prices['CL1 Comdty'],\n",
    "    #                          np.ones(prices['USD/CLP'].shape)]).T[:, np.newaxis]\n",
    "\n",
    "    ##################### Modelo del Filtro de kalman ####################\n",
    "    kf = KalmanFilter(\n",
    "        n_dim_obs=1,\n",
    "        n_dim_state=numero_activos,\n",
    "        initial_state_mean=np.zeros(numero_activos),\n",
    "        initial_state_covariance=np.ones((numero_activos, numero_activos)),\n",
    "        transition_matrices=np.eye(numero_activos),\n",
    "        observation_matrices=obs_mat,\n",
    "        observation_covariance=1.0,\n",
    "        transition_covariance=trans_cov        \n",
    "        )\n",
    "\n",
    "        # state_means, state_covs = kf.em(prices['ETF'].values).smooth(prices['ETF'].values)\n",
    "    state_means, state_covs = kf.filter(prices[prices.columns[0]].values)\n",
    "\n",
    "    ################## Crear data frame de los betas ####################\n",
    "    dict_1={}\n",
    "    for i in range(0,len(prices.columns)-1):\n",
    "        dict_1[prices.columns[i+1]]=state_means[:, i]\n",
    "    dict_1[\"intercept\"]=state_means[:,len(prices.columns)-1]\n",
    "    datos_betas=pd.DataFrame(dict_1,index=prices.index)\n",
    "    \n",
    "    #datos_betas=pd.DataFrame(\n",
    "#    dict(\n",
    "#        #beta_rezago=state_means[:, 0],\n",
    "#        beta_real=state_means[:, 0],\n",
    "#        beta_clp=state_means[:, 1],\n",
    "#        beta_mxn=state_means[:, 2],\n",
    "#        beta_dxy=state_means[:, 3],\n",
    "#        beta_cds=state_means[:, 4],\n",
    "#        beta_cl1=state_means[:, 5],\n",
    "#        intercept=state_means[:, 6],\n",
    "#        ), index=prices.index\n",
    "#    )\n",
    "    return datos_betas"
   ]
  },
  {
   "cell_type": "code",
   "execution_count": 654,
   "metadata": {},
   "outputs": [
    {
     "ename": "IndexError",
     "evalue": "index 0 is out of bounds for axis 0 with size 0",
     "output_type": "error",
     "traceback": [
      "\u001b[1;31m---------------------------------------------------------------------------\u001b[0m",
      "\u001b[1;31mIndexError\u001b[0m                                Traceback (most recent call last)",
      "\u001b[1;32m<ipython-input-654-a2e60242a7f9>\u001b[0m in \u001b[0;36m<module>\u001b[1;34m\u001b[0m\n\u001b[0;32m      4\u001b[0m     \u001b[0mdf\u001b[0m\u001b[1;33m=\u001b[0m\u001b[1;33m(\u001b[0m\u001b[0mdf\u001b[0m\u001b[1;33m[\u001b[0m\u001b[1;33m:\u001b[0m\u001b[0mlen\u001b[0m\u001b[1;33m(\u001b[0m\u001b[0mdf\u001b[0m\u001b[1;33m)\u001b[0m\u001b[1;33m-\u001b[0m\u001b[0mprueba\u001b[0m\u001b[1;33m+\u001b[0m\u001b[0mi\u001b[0m\u001b[1;33m]\u001b[0m\u001b[1;33m[\u001b[0m\u001b[1;33m-\u001b[0m\u001b[1;36m1\u001b[0m\u001b[1;33m:\u001b[0m\u001b[1;33m]\u001b[0m\u001b[1;33m)\u001b[0m\u001b[1;33m\u001b[0m\u001b[1;33m\u001b[0m\u001b[0m\n\u001b[0;32m      5\u001b[0m \u001b[1;33m\u001b[0m\u001b[0m\n\u001b[1;32m----> 6\u001b[1;33m     \u001b[0mbetas_out\u001b[0m\u001b[1;33m=\u001b[0m\u001b[0mbetas_out\u001b[0m\u001b[1;33m.\u001b[0m\u001b[0mappend\u001b[0m\u001b[1;33m(\u001b[0m\u001b[0mfiltro_de_kalman\u001b[0m\u001b[1;33m(\u001b[0m\u001b[0mdf\u001b[0m\u001b[1;33m)\u001b[0m\u001b[1;33m[\u001b[0m\u001b[1;33m-\u001b[0m\u001b[1;36m1\u001b[0m\u001b[1;33m:\u001b[0m\u001b[1;33m]\u001b[0m\u001b[1;33m,\u001b[0m\u001b[0msort\u001b[0m\u001b[1;33m=\u001b[0m\u001b[1;32mTrue\u001b[0m\u001b[1;33m)\u001b[0m\u001b[1;33m\u001b[0m\u001b[1;33m\u001b[0m\u001b[0m\n\u001b[0m",
      "\u001b[1;32m<ipython-input-622-1b27886bc12a>\u001b[0m in \u001b[0;36mfiltro_de_kalman\u001b[1;34m(df)\u001b[0m\n\u001b[0;32m     29\u001b[0m \u001b[1;33m\u001b[0m\u001b[0m\n\u001b[0;32m     30\u001b[0m         \u001b[1;31m# state_means, state_covs = kf.em(prices['ETF'].values).smooth(prices['ETF'].values)\u001b[0m\u001b[1;33m\u001b[0m\u001b[1;33m\u001b[0m\u001b[1;33m\u001b[0m\u001b[0m\n\u001b[1;32m---> 31\u001b[1;33m     \u001b[0mstate_means\u001b[0m\u001b[1;33m,\u001b[0m \u001b[0mstate_covs\u001b[0m \u001b[1;33m=\u001b[0m \u001b[0mkf\u001b[0m\u001b[1;33m.\u001b[0m\u001b[0mfilter\u001b[0m\u001b[1;33m(\u001b[0m\u001b[0mprices\u001b[0m\u001b[1;33m[\u001b[0m\u001b[0mprices\u001b[0m\u001b[1;33m.\u001b[0m\u001b[0mcolumns\u001b[0m\u001b[1;33m[\u001b[0m\u001b[1;36m0\u001b[0m\u001b[1;33m]\u001b[0m\u001b[1;33m]\u001b[0m\u001b[1;33m.\u001b[0m\u001b[0mvalues\u001b[0m\u001b[1;33m)\u001b[0m\u001b[1;33m\u001b[0m\u001b[1;33m\u001b[0m\u001b[0m\n\u001b[0m\u001b[0;32m     32\u001b[0m \u001b[1;33m\u001b[0m\u001b[0m\n\u001b[0;32m     33\u001b[0m     \u001b[1;31m################## Crear data frame de los betas ####################\u001b[0m\u001b[1;33m\u001b[0m\u001b[1;33m\u001b[0m\u001b[1;33m\u001b[0m\u001b[0m\n",
      "\u001b[1;32mC:\\ProgramData\\Anaconda3\\lib\\site-packages\\pykalman\\standard.py\u001b[0m in \u001b[0;36mfilter\u001b[1;34m(self, X)\u001b[0m\n\u001b[0;32m   1173\u001b[0m                 \u001b[0mtransition_offsets\u001b[0m\u001b[1;33m,\u001b[0m \u001b[0mobservation_offsets\u001b[0m\u001b[1;33m,\u001b[0m\u001b[1;33m\u001b[0m\u001b[1;33m\u001b[0m\u001b[0m\n\u001b[0;32m   1174\u001b[0m                 \u001b[0minitial_state_mean\u001b[0m\u001b[1;33m,\u001b[0m \u001b[0minitial_state_covariance\u001b[0m\u001b[1;33m,\u001b[0m\u001b[1;33m\u001b[0m\u001b[1;33m\u001b[0m\u001b[0m\n\u001b[1;32m-> 1175\u001b[1;33m                 \u001b[0mZ\u001b[0m\u001b[1;33m\u001b[0m\u001b[1;33m\u001b[0m\u001b[0m\n\u001b[0m\u001b[0;32m   1176\u001b[0m             )\n\u001b[0;32m   1177\u001b[0m         )\n",
      "\u001b[1;32mC:\\ProgramData\\Anaconda3\\lib\\site-packages\\pykalman\\standard.py\u001b[0m in \u001b[0;36m_filter\u001b[1;34m(transition_matrices, observation_matrices, transition_covariance, observation_covariance, transition_offsets, observation_offsets, initial_state_mean, initial_state_covariance, observations)\u001b[0m\n\u001b[0;32m    381\u001b[0m             )\n\u001b[0;32m    382\u001b[0m \u001b[1;33m\u001b[0m\u001b[0m\n\u001b[1;32m--> 383\u001b[1;33m         \u001b[0mobservation_matrix\u001b[0m \u001b[1;33m=\u001b[0m \u001b[0m_last_dims\u001b[0m\u001b[1;33m(\u001b[0m\u001b[0mobservation_matrices\u001b[0m\u001b[1;33m,\u001b[0m \u001b[0mt\u001b[0m\u001b[1;33m)\u001b[0m\u001b[1;33m\u001b[0m\u001b[1;33m\u001b[0m\u001b[0m\n\u001b[0m\u001b[0;32m    384\u001b[0m         \u001b[0mobservation_covariance\u001b[0m \u001b[1;33m=\u001b[0m \u001b[0m_last_dims\u001b[0m\u001b[1;33m(\u001b[0m\u001b[0mobservation_covariance\u001b[0m\u001b[1;33m,\u001b[0m \u001b[0mt\u001b[0m\u001b[1;33m)\u001b[0m\u001b[1;33m\u001b[0m\u001b[1;33m\u001b[0m\u001b[0m\n\u001b[0;32m    385\u001b[0m         \u001b[0mobservation_offset\u001b[0m \u001b[1;33m=\u001b[0m \u001b[0m_last_dims\u001b[0m\u001b[1;33m(\u001b[0m\u001b[0mobservation_offsets\u001b[0m\u001b[1;33m,\u001b[0m \u001b[0mt\u001b[0m\u001b[1;33m,\u001b[0m \u001b[0mndims\u001b[0m\u001b[1;33m=\u001b[0m\u001b[1;36m1\u001b[0m\u001b[1;33m)\u001b[0m\u001b[1;33m\u001b[0m\u001b[1;33m\u001b[0m\u001b[0m\n",
      "\u001b[1;32mC:\\ProgramData\\Anaconda3\\lib\\site-packages\\pykalman\\standard.py\u001b[0m in \u001b[0;36m_last_dims\u001b[1;34m(X, t, ndims)\u001b[0m\n\u001b[0;32m    102\u001b[0m     \u001b[0mX\u001b[0m \u001b[1;33m=\u001b[0m \u001b[0mnp\u001b[0m\u001b[1;33m.\u001b[0m\u001b[0masarray\u001b[0m\u001b[1;33m(\u001b[0m\u001b[0mX\u001b[0m\u001b[1;33m)\u001b[0m\u001b[1;33m\u001b[0m\u001b[1;33m\u001b[0m\u001b[0m\n\u001b[0;32m    103\u001b[0m     \u001b[1;32mif\u001b[0m \u001b[0mlen\u001b[0m\u001b[1;33m(\u001b[0m\u001b[0mX\u001b[0m\u001b[1;33m.\u001b[0m\u001b[0mshape\u001b[0m\u001b[1;33m)\u001b[0m \u001b[1;33m==\u001b[0m \u001b[0mndims\u001b[0m \u001b[1;33m+\u001b[0m \u001b[1;36m1\u001b[0m\u001b[1;33m:\u001b[0m\u001b[1;33m\u001b[0m\u001b[1;33m\u001b[0m\u001b[0m\n\u001b[1;32m--> 104\u001b[1;33m         \u001b[1;32mreturn\u001b[0m \u001b[0mX\u001b[0m\u001b[1;33m[\u001b[0m\u001b[0mt\u001b[0m\u001b[1;33m]\u001b[0m\u001b[1;33m\u001b[0m\u001b[1;33m\u001b[0m\u001b[0m\n\u001b[0m\u001b[0;32m    105\u001b[0m     \u001b[1;32melif\u001b[0m \u001b[0mlen\u001b[0m\u001b[1;33m(\u001b[0m\u001b[0mX\u001b[0m\u001b[1;33m.\u001b[0m\u001b[0mshape\u001b[0m\u001b[1;33m)\u001b[0m \u001b[1;33m==\u001b[0m \u001b[0mndims\u001b[0m\u001b[1;33m:\u001b[0m\u001b[1;33m\u001b[0m\u001b[1;33m\u001b[0m\u001b[0m\n\u001b[0;32m    106\u001b[0m         \u001b[1;32mreturn\u001b[0m \u001b[0mX\u001b[0m\u001b[1;33m\u001b[0m\u001b[1;33m\u001b[0m\u001b[0m\n",
      "\u001b[1;31mIndexError\u001b[0m: index 0 is out of bounds for axis 0 with size 0"
     ]
    }
   ],
   "source": [
    "prueba=20\n",
    "betas_out=pd.DataFrame()\n",
    "for i in range(0,prueba+1):\n",
    "    df=(df[:len(df)-prueba+i][-1:])\n",
    "    \n",
    "    betas_out=betas_out.append(filtro_de_kalman(df)[-1:],sort=True)"
   ]
  },
  {
   "cell_type": "code",
   "execution_count": 651,
   "metadata": {},
   "outputs": [
    {
     "data": {
      "text/plain": [
       "21"
      ]
     },
     "execution_count": 651,
     "metadata": {},
     "output_type": "execute_result"
    }
   ],
   "source": [
    "len(betas_out)"
   ]
  },
  {
   "cell_type": "code",
   "execution_count": 653,
   "metadata": {},
   "outputs": [
    {
     "data": {
      "text/html": [
       "<div>\n",
       "<style scoped>\n",
       "    .dataframe tbody tr th:only-of-type {\n",
       "        vertical-align: middle;\n",
       "    }\n",
       "\n",
       "    .dataframe tbody tr th {\n",
       "        vertical-align: top;\n",
       "    }\n",
       "\n",
       "    .dataframe thead th {\n",
       "        text-align: right;\n",
       "    }\n",
       "</style>\n",
       "<table border=\"1\" class=\"dataframe\">\n",
       "  <thead>\n",
       "    <tr style=\"text-align: right;\">\n",
       "      <th></th>\n",
       "      <th>DXY</th>\n",
       "      <th>SPX 500 vs ROW</th>\n",
       "      <th>USD/CLP</th>\n",
       "      <th>USD/COP</th>\n",
       "      <th>USD/MXN</th>\n",
       "    </tr>\n",
       "    <tr>\n",
       "      <th>Dates</th>\n",
       "      <th></th>\n",
       "      <th></th>\n",
       "      <th></th>\n",
       "      <th></th>\n",
       "      <th></th>\n",
       "    </tr>\n",
       "  </thead>\n",
       "  <tbody>\n",
       "    <tr>\n",
       "      <td>2019-11-19</td>\n",
       "      <td>97.856</td>\n",
       "      <td>46.191221</td>\n",
       "      <td>787.14</td>\n",
       "      <td>3444.00</td>\n",
       "      <td>19.3440</td>\n",
       "    </tr>\n",
       "    <tr>\n",
       "      <td>2019-11-20</td>\n",
       "      <td>97.934</td>\n",
       "      <td>46.309219</td>\n",
       "      <td>795.35</td>\n",
       "      <td>3443.90</td>\n",
       "      <td>19.4634</td>\n",
       "    </tr>\n",
       "    <tr>\n",
       "      <td>2019-11-21</td>\n",
       "      <td>97.993</td>\n",
       "      <td>46.297307</td>\n",
       "      <td>795.28</td>\n",
       "      <td>3420.90</td>\n",
       "      <td>19.3840</td>\n",
       "    </tr>\n",
       "    <tr>\n",
       "      <td>2019-11-22</td>\n",
       "      <td>98.270</td>\n",
       "      <td>46.268310</td>\n",
       "      <td>798.86</td>\n",
       "      <td>3425.50</td>\n",
       "      <td>19.3761</td>\n",
       "    </tr>\n",
       "    <tr>\n",
       "      <td>2019-11-25</td>\n",
       "      <td>98.323</td>\n",
       "      <td>46.248279</td>\n",
       "      <td>795.59</td>\n",
       "      <td>3436.25</td>\n",
       "      <td>19.4447</td>\n",
       "    </tr>\n",
       "    <tr>\n",
       "      <td>2019-11-26</td>\n",
       "      <td>98.252</td>\n",
       "      <td>46.376923</td>\n",
       "      <td>799.26</td>\n",
       "      <td>3477.00</td>\n",
       "      <td>19.5191</td>\n",
       "    </tr>\n",
       "    <tr>\n",
       "      <td>2019-11-27</td>\n",
       "      <td>98.370</td>\n",
       "      <td>46.448429</td>\n",
       "      <td>818.80</td>\n",
       "      <td>3511.11</td>\n",
       "      <td>19.5270</td>\n",
       "    </tr>\n",
       "    <tr>\n",
       "      <td>2019-11-28</td>\n",
       "      <td>98.370</td>\n",
       "      <td>46.448429</td>\n",
       "      <td>828.36</td>\n",
       "      <td>3511.11</td>\n",
       "      <td>19.4715</td>\n",
       "    </tr>\n",
       "    <tr>\n",
       "      <td>2019-11-29</td>\n",
       "      <td>98.273</td>\n",
       "      <td>46.587769</td>\n",
       "      <td>809.46</td>\n",
       "      <td>3516.50</td>\n",
       "      <td>19.5302</td>\n",
       "    </tr>\n",
       "    <tr>\n",
       "      <td>2019-12-02</td>\n",
       "      <td>97.856</td>\n",
       "      <td>46.423982</td>\n",
       "      <td>803.36</td>\n",
       "      <td>3509.20</td>\n",
       "      <td>19.5770</td>\n",
       "    </tr>\n",
       "    <tr>\n",
       "      <td>2019-12-03</td>\n",
       "      <td>97.737</td>\n",
       "      <td>46.286403</td>\n",
       "      <td>802.92</td>\n",
       "      <td>3503.90</td>\n",
       "      <td>19.5565</td>\n",
       "    </tr>\n",
       "    <tr>\n",
       "      <td>2019-12-04</td>\n",
       "      <td>97.648</td>\n",
       "      <td>46.155648</td>\n",
       "      <td>791.14</td>\n",
       "      <td>3471.00</td>\n",
       "      <td>19.4345</td>\n",
       "    </tr>\n",
       "    <tr>\n",
       "      <td>2019-12-05</td>\n",
       "      <td>97.410</td>\n",
       "      <td>46.313208</td>\n",
       "      <td>783.47</td>\n",
       "      <td>3457.90</td>\n",
       "      <td>19.3619</td>\n",
       "    </tr>\n",
       "    <tr>\n",
       "      <td>2019-12-06</td>\n",
       "      <td>97.700</td>\n",
       "      <td>46.314464</td>\n",
       "      <td>778.27</td>\n",
       "      <td>3425.00</td>\n",
       "      <td>19.3063</td>\n",
       "    </tr>\n",
       "    <tr>\n",
       "      <td>2019-12-09</td>\n",
       "      <td>97.644</td>\n",
       "      <td>46.411224</td>\n",
       "      <td>775.60</td>\n",
       "      <td>3417.80</td>\n",
       "      <td>19.2319</td>\n",
       "    </tr>\n",
       "    <tr>\n",
       "      <td>2019-12-10</td>\n",
       "      <td>97.413</td>\n",
       "      <td>46.339944</td>\n",
       "      <td>778.79</td>\n",
       "      <td>3405.00</td>\n",
       "      <td>19.2564</td>\n",
       "    </tr>\n",
       "    <tr>\n",
       "      <td>2019-12-11</td>\n",
       "      <td>97.078</td>\n",
       "      <td>46.231239</td>\n",
       "      <td>769.78</td>\n",
       "      <td>3375.10</td>\n",
       "      <td>19.1176</td>\n",
       "    </tr>\n",
       "    <tr>\n",
       "      <td>2019-12-12</td>\n",
       "      <td>97.452</td>\n",
       "      <td>46.317690</td>\n",
       "      <td>769.45</td>\n",
       "      <td>3372.00</td>\n",
       "      <td>19.0597</td>\n",
       "    </tr>\n",
       "    <tr>\n",
       "      <td>2019-12-13</td>\n",
       "      <td>97.171</td>\n",
       "      <td>46.001841</td>\n",
       "      <td>763.63</td>\n",
       "      <td>3385.00</td>\n",
       "      <td>19.0407</td>\n",
       "    </tr>\n",
       "    <tr>\n",
       "      <td>2019-12-16</td>\n",
       "      <td>96.965</td>\n",
       "      <td>45.840994</td>\n",
       "      <td>761.71</td>\n",
       "      <td>3354.10</td>\n",
       "      <td>18.9323</td>\n",
       "    </tr>\n",
       "    <tr>\n",
       "      <td>2019-12-17</td>\n",
       "      <td>96.777</td>\n",
       "      <td>46.114112</td>\n",
       "      <td>756.17</td>\n",
       "      <td>3341.60</td>\n",
       "      <td>18.9283</td>\n",
       "    </tr>\n",
       "  </tbody>\n",
       "</table>\n",
       "</div>"
      ],
      "text/plain": [
       "               DXY  SPX 500 vs ROW  USD/CLP  USD/COP  USD/MXN\n",
       "Dates                                                        \n",
       "2019-11-19  97.856       46.191221   787.14  3444.00  19.3440\n",
       "2019-11-20  97.934       46.309219   795.35  3443.90  19.4634\n",
       "2019-11-21  97.993       46.297307   795.28  3420.90  19.3840\n",
       "2019-11-22  98.270       46.268310   798.86  3425.50  19.3761\n",
       "2019-11-25  98.323       46.248279   795.59  3436.25  19.4447\n",
       "2019-11-26  98.252       46.376923   799.26  3477.00  19.5191\n",
       "2019-11-27  98.370       46.448429   818.80  3511.11  19.5270\n",
       "2019-11-28  98.370       46.448429   828.36  3511.11  19.4715\n",
       "2019-11-29  98.273       46.587769   809.46  3516.50  19.5302\n",
       "2019-12-02  97.856       46.423982   803.36  3509.20  19.5770\n",
       "2019-12-03  97.737       46.286403   802.92  3503.90  19.5565\n",
       "2019-12-04  97.648       46.155648   791.14  3471.00  19.4345\n",
       "2019-12-05  97.410       46.313208   783.47  3457.90  19.3619\n",
       "2019-12-06  97.700       46.314464   778.27  3425.00  19.3063\n",
       "2019-12-09  97.644       46.411224   775.60  3417.80  19.2319\n",
       "2019-12-10  97.413       46.339944   778.79  3405.00  19.2564\n",
       "2019-12-11  97.078       46.231239   769.78  3375.10  19.1176\n",
       "2019-12-12  97.452       46.317690   769.45  3372.00  19.0597\n",
       "2019-12-13  97.171       46.001841   763.63  3385.00  19.0407\n",
       "2019-12-16  96.965       45.840994   761.71  3354.10  18.9323\n",
       "2019-12-17  96.777       46.114112   756.17  3341.60  18.9283"
      ]
     },
     "execution_count": 653,
     "metadata": {},
     "output_type": "execute_result"
    }
   ],
   "source": [
    "betas_out"
   ]
  },
  {
   "cell_type": "code",
   "execution_count": 626,
   "metadata": {},
   "outputs": [
    {
     "data": {
      "text/html": [
       "<div>\n",
       "<style scoped>\n",
       "    .dataframe tbody tr th:only-of-type {\n",
       "        vertical-align: middle;\n",
       "    }\n",
       "\n",
       "    .dataframe tbody tr th {\n",
       "        vertical-align: top;\n",
       "    }\n",
       "\n",
       "    .dataframe thead th {\n",
       "        text-align: right;\n",
       "    }\n",
       "</style>\n",
       "<table border=\"1\" class=\"dataframe\">\n",
       "  <thead>\n",
       "    <tr style=\"text-align: right;\">\n",
       "      <th></th>\n",
       "      <th>SPX 500 vs ROW</th>\n",
       "      <th>USD/CLP</th>\n",
       "      <th>USD/MXN</th>\n",
       "      <th>DXY</th>\n",
       "      <th>intercept</th>\n",
       "    </tr>\n",
       "    <tr>\n",
       "      <th>Dates</th>\n",
       "      <th></th>\n",
       "      <th></th>\n",
       "      <th></th>\n",
       "      <th></th>\n",
       "      <th></th>\n",
       "    </tr>\n",
       "  </thead>\n",
       "  <tbody>\n",
       "    <tr>\n",
       "      <td>2019-12-17</td>\n",
       "      <td>3.91388</td>\n",
       "      <td>3.221922</td>\n",
       "      <td>5.653444</td>\n",
       "      <td>6.352052</td>\n",
       "      <td>3.042474</td>\n",
       "    </tr>\n",
       "  </tbody>\n",
       "</table>\n",
       "</div>"
      ],
      "text/plain": [
       "            SPX 500 vs ROW   USD/CLP   USD/MXN       DXY  intercept\n",
       "Dates                                                              \n",
       "2019-12-17         3.91388  3.221922  5.653444  6.352052   3.042474"
      ]
     },
     "execution_count": 626,
     "metadata": {},
     "output_type": "execute_result"
    }
   ],
   "source": []
  },
  {
   "cell_type": "code",
   "execution_count": 497,
   "metadata": {},
   "outputs": [],
   "source": []
  },
  {
   "cell_type": "code",
   "execution_count": 498,
   "metadata": {},
   "outputs": [],
   "source": []
  },
  {
   "cell_type": "code",
   "execution_count": 499,
   "metadata": {
    "scrolled": true
   },
   "outputs": [
    {
     "data": {
      "text/html": [
       "<div>\n",
       "<style scoped>\n",
       "    .dataframe tbody tr th:only-of-type {\n",
       "        vertical-align: middle;\n",
       "    }\n",
       "\n",
       "    .dataframe tbody tr th {\n",
       "        vertical-align: top;\n",
       "    }\n",
       "\n",
       "    .dataframe thead th {\n",
       "        text-align: right;\n",
       "    }\n",
       "</style>\n",
       "<table border=\"1\" class=\"dataframe\">\n",
       "  <thead>\n",
       "    <tr style=\"text-align: right;\">\n",
       "      <th></th>\n",
       "      <th>SPX 500 vs ROW</th>\n",
       "      <th>USD/CLP</th>\n",
       "      <th>USD/MXN</th>\n",
       "      <th>DXY</th>\n",
       "      <th>intercept</th>\n",
       "    </tr>\n",
       "    <tr>\n",
       "      <th>Dates</th>\n",
       "      <th></th>\n",
       "      <th></th>\n",
       "      <th></th>\n",
       "      <th></th>\n",
       "      <th></th>\n",
       "    </tr>\n",
       "  </thead>\n",
       "  <tbody>\n",
       "    <tr>\n",
       "      <td>2019-12-11</td>\n",
       "      <td>3.907124</td>\n",
       "      <td>3.208441</td>\n",
       "      <td>5.635867</td>\n",
       "      <td>6.323626</td>\n",
       "      <td>3.041904</td>\n",
       "    </tr>\n",
       "    <tr>\n",
       "      <td>2019-12-12</td>\n",
       "      <td>3.906380</td>\n",
       "      <td>3.203227</td>\n",
       "      <td>5.636634</td>\n",
       "      <td>6.319781</td>\n",
       "      <td>3.041913</td>\n",
       "    </tr>\n",
       "    <tr>\n",
       "      <td>2019-12-13</td>\n",
       "      <td>3.904629</td>\n",
       "      <td>3.244194</td>\n",
       "      <td>5.648371</td>\n",
       "      <td>6.353401</td>\n",
       "      <td>3.042599</td>\n",
       "    </tr>\n",
       "    <tr>\n",
       "      <td>2019-12-16</td>\n",
       "      <td>3.905906</td>\n",
       "      <td>3.215861</td>\n",
       "      <td>5.651672</td>\n",
       "      <td>6.347560</td>\n",
       "      <td>3.042391</td>\n",
       "    </tr>\n",
       "    <tr>\n",
       "      <td>2019-12-17</td>\n",
       "      <td>3.913880</td>\n",
       "      <td>3.221922</td>\n",
       "      <td>5.653444</td>\n",
       "      <td>6.352052</td>\n",
       "      <td>3.042474</td>\n",
       "    </tr>\n",
       "  </tbody>\n",
       "</table>\n",
       "</div>"
      ],
      "text/plain": [
       "            SPX 500 vs ROW   USD/CLP   USD/MXN       DXY  intercept\n",
       "Dates                                                              \n",
       "2019-12-11        3.907124  3.208441  5.635867  6.323626   3.041904\n",
       "2019-12-12        3.906380  3.203227  5.636634  6.319781   3.041913\n",
       "2019-12-13        3.904629  3.244194  5.648371  6.353401   3.042599\n",
       "2019-12-16        3.905906  3.215861  5.651672  6.347560   3.042391\n",
       "2019-12-17        3.913880  3.221922  5.653444  6.352052   3.042474"
      ]
     },
     "execution_count": 499,
     "metadata": {},
     "output_type": "execute_result"
    }
   ],
   "source": []
  },
  {
   "cell_type": "code",
   "execution_count": 500,
   "metadata": {},
   "outputs": [],
   "source": [
    "datos_betas.tail(1).sort_values(by=datos_betas.index[len(datos_betas)-1],axis=1,ascending=False)\n",
    "orden=datos_betas.tail(1).sort_values(by=datos_betas.index[len(datos_betas)-1],axis=1,ascending=False).columns"
   ]
  },
  {
   "cell_type": "code",
   "execution_count": 501,
   "metadata": {},
   "outputs": [
    {
     "data": {
      "image/png": "[encoded data removed]",
      "text/plain": [
       "<Figure size 1080x1080 with 5 Axes>"
      ]
     },
     "metadata": {
      "needs_background": "light"
     },
     "output_type": "display_data"
    }
   ],
   "source": [
    "datos_betas[orden].plot(subplots=True,figsize=(15,15))\n",
    "plt.show()"
   ]
  },
  {
   "cell_type": "markdown",
   "metadata": {},
   "source": [
    "# Prueba"
   ]
  },
  {
   "cell_type": "code",
   "execution_count": 518,
   "metadata": {},
   "outputs": [
    {
     "data": {
      "text/html": [
       "<div>\n",
       "<style scoped>\n",
       "    .dataframe tbody tr th:only-of-type {\n",
       "        vertical-align: middle;\n",
       "    }\n",
       "\n",
       "    .dataframe tbody tr th {\n",
       "        vertical-align: top;\n",
       "    }\n",
       "\n",
       "    .dataframe thead th {\n",
       "        text-align: right;\n",
       "    }\n",
       "</style>\n",
       "<table border=\"1\" class=\"dataframe\">\n",
       "  <thead>\n",
       "    <tr style=\"text-align: right;\">\n",
       "      <th></th>\n",
       "      <th>SPX 500 vs ROW</th>\n",
       "      <th>USD/CLP</th>\n",
       "      <th>USD/MXN</th>\n",
       "      <th>DXY</th>\n",
       "      <th>intercept</th>\n",
       "    </tr>\n",
       "    <tr>\n",
       "      <th>Dates</th>\n",
       "      <th></th>\n",
       "      <th></th>\n",
       "      <th></th>\n",
       "      <th></th>\n",
       "      <th></th>\n",
       "    </tr>\n",
       "  </thead>\n",
       "  <tbody>\n",
       "    <tr>\n",
       "      <td>2019-12-11</td>\n",
       "      <td>3.907124</td>\n",
       "      <td>3.208441</td>\n",
       "      <td>5.635867</td>\n",
       "      <td>6.323626</td>\n",
       "      <td>3.041904</td>\n",
       "    </tr>\n",
       "    <tr>\n",
       "      <td>2019-12-12</td>\n",
       "      <td>3.906380</td>\n",
       "      <td>3.203227</td>\n",
       "      <td>5.636634</td>\n",
       "      <td>6.319781</td>\n",
       "      <td>3.041913</td>\n",
       "    </tr>\n",
       "    <tr>\n",
       "      <td>2019-12-13</td>\n",
       "      <td>3.904629</td>\n",
       "      <td>3.244194</td>\n",
       "      <td>5.648371</td>\n",
       "      <td>6.353401</td>\n",
       "      <td>3.042599</td>\n",
       "    </tr>\n",
       "    <tr>\n",
       "      <td>2019-12-16</td>\n",
       "      <td>3.905906</td>\n",
       "      <td>3.215861</td>\n",
       "      <td>5.651672</td>\n",
       "      <td>6.347560</td>\n",
       "      <td>3.042391</td>\n",
       "    </tr>\n",
       "    <tr>\n",
       "      <td>2019-12-17</td>\n",
       "      <td>3.913880</td>\n",
       "      <td>3.221922</td>\n",
       "      <td>5.653444</td>\n",
       "      <td>6.352052</td>\n",
       "      <td>3.042474</td>\n",
       "    </tr>\n",
       "  </tbody>\n",
       "</table>\n",
       "</div>"
      ],
      "text/plain": [
       "            SPX 500 vs ROW   USD/CLP   USD/MXN       DXY  intercept\n",
       "Dates                                                              \n",
       "2019-12-11        3.907124  3.208441  5.635867  6.323626   3.041904\n",
       "2019-12-12        3.906380  3.203227  5.636634  6.319781   3.041913\n",
       "2019-12-13        3.904629  3.244194  5.648371  6.353401   3.042599\n",
       "2019-12-16        3.905906  3.215861  5.651672  6.347560   3.042391\n",
       "2019-12-17        3.913880  3.221922  5.653444  6.352052   3.042474"
      ]
     },
     "execution_count": 518,
     "metadata": {},
     "output_type": "execute_result"
    }
   ],
   "source": [
    "# Betas normal\n",
    "datos_betas.tail()"
   ]
  },
  {
   "cell_type": "code",
   "execution_count": 526,
   "metadata": {},
   "outputs": [
    {
     "data": {
      "text/html": [
       "<div>\n",
       "<style scoped>\n",
       "    .dataframe tbody tr th:only-of-type {\n",
       "        vertical-align: middle;\n",
       "    }\n",
       "\n",
       "    .dataframe tbody tr th {\n",
       "        vertical-align: top;\n",
       "    }\n",
       "\n",
       "    .dataframe thead th {\n",
       "        text-align: right;\n",
       "    }\n",
       "</style>\n",
       "<table border=\"1\" class=\"dataframe\">\n",
       "  <thead>\n",
       "    <tr style=\"text-align: right;\">\n",
       "      <th></th>\n",
       "      <th>SPX 500 vs ROW</th>\n",
       "      <th>USD/CLP</th>\n",
       "      <th>USD/MXN</th>\n",
       "      <th>DXY</th>\n",
       "      <th>intercept</th>\n",
       "    </tr>\n",
       "    <tr>\n",
       "      <th>Dates</th>\n",
       "      <th></th>\n",
       "      <th></th>\n",
       "      <th></th>\n",
       "      <th></th>\n",
       "      <th></th>\n",
       "    </tr>\n",
       "  </thead>\n",
       "  <tbody>\n",
       "    <tr>\n",
       "      <td>2019-12-11</td>\n",
       "      <td>3.906380</td>\n",
       "      <td>3.203227</td>\n",
       "      <td>5.636634</td>\n",
       "      <td>6.319781</td>\n",
       "      <td>3.041913</td>\n",
       "    </tr>\n",
       "    <tr>\n",
       "      <td>2019-12-12</td>\n",
       "      <td>3.904629</td>\n",
       "      <td>3.244194</td>\n",
       "      <td>5.648371</td>\n",
       "      <td>6.353401</td>\n",
       "      <td>3.042599</td>\n",
       "    </tr>\n",
       "    <tr>\n",
       "      <td>2019-12-13</td>\n",
       "      <td>3.905906</td>\n",
       "      <td>3.215861</td>\n",
       "      <td>5.651672</td>\n",
       "      <td>6.347560</td>\n",
       "      <td>3.042391</td>\n",
       "    </tr>\n",
       "    <tr>\n",
       "      <td>2019-12-16</td>\n",
       "      <td>3.913880</td>\n",
       "      <td>3.221922</td>\n",
       "      <td>5.653444</td>\n",
       "      <td>6.352052</td>\n",
       "      <td>3.042474</td>\n",
       "    </tr>\n",
       "    <tr>\n",
       "      <td>2019-12-17</td>\n",
       "      <td>3.913880</td>\n",
       "      <td>3.221922</td>\n",
       "      <td>5.653444</td>\n",
       "      <td>6.352052</td>\n",
       "      <td>3.042474</td>\n",
       "    </tr>\n",
       "  </tbody>\n",
       "</table>\n",
       "</div>"
      ],
      "text/plain": [
       "            SPX 500 vs ROW   USD/CLP   USD/MXN       DXY  intercept\n",
       "Dates                                                              \n",
       "2019-12-11        3.906380  3.203227  5.636634  6.319781   3.041913\n",
       "2019-12-12        3.904629  3.244194  5.648371  6.353401   3.042599\n",
       "2019-12-13        3.905906  3.215861  5.651672  6.347560   3.042391\n",
       "2019-12-16        3.913880  3.221922  5.653444  6.352052   3.042474\n",
       "2019-12-17        3.913880  3.221922  5.653444  6.352052   3.042474"
      ]
     },
     "execution_count": 526,
     "metadata": {},
     "output_type": "execute_result"
    }
   ],
   "source": [
    "# Betas rezagados un periodo \n",
    "betas=datos_betas.shift(-1).ffill()\n",
    "betas.tail()"
   ]
  },
  {
   "cell_type": "code",
   "execution_count": 527,
   "metadata": {},
   "outputs": [
    {
     "data": {
      "text/html": [
       "<div>\n",
       "<style scoped>\n",
       "    .dataframe tbody tr th:only-of-type {\n",
       "        vertical-align: middle;\n",
       "    }\n",
       "\n",
       "    .dataframe tbody tr th {\n",
       "        vertical-align: top;\n",
       "    }\n",
       "\n",
       "    .dataframe thead th {\n",
       "        text-align: right;\n",
       "    }\n",
       "</style>\n",
       "<table border=\"1\" class=\"dataframe\">\n",
       "  <thead>\n",
       "    <tr style=\"text-align: right;\">\n",
       "      <th></th>\n",
       "      <th>SPX 500 vs ROW</th>\n",
       "      <th>USD/CLP</th>\n",
       "      <th>USD/MXN</th>\n",
       "      <th>DXY</th>\n",
       "      <th>intercepto</th>\n",
       "    </tr>\n",
       "    <tr>\n",
       "      <th>Dates</th>\n",
       "      <th></th>\n",
       "      <th></th>\n",
       "      <th></th>\n",
       "      <th></th>\n",
       "      <th></th>\n",
       "    </tr>\n",
       "  </thead>\n",
       "  <tbody>\n",
       "    <tr>\n",
       "      <td>2019-12-11</td>\n",
       "      <td>46.339944</td>\n",
       "      <td>778.79</td>\n",
       "      <td>19.2564</td>\n",
       "      <td>97.413</td>\n",
       "      <td>1</td>\n",
       "    </tr>\n",
       "    <tr>\n",
       "      <td>2019-12-12</td>\n",
       "      <td>46.231239</td>\n",
       "      <td>769.78</td>\n",
       "      <td>19.1176</td>\n",
       "      <td>97.078</td>\n",
       "      <td>1</td>\n",
       "    </tr>\n",
       "    <tr>\n",
       "      <td>2019-12-13</td>\n",
       "      <td>46.317690</td>\n",
       "      <td>769.45</td>\n",
       "      <td>19.0597</td>\n",
       "      <td>97.452</td>\n",
       "      <td>1</td>\n",
       "    </tr>\n",
       "    <tr>\n",
       "      <td>2019-12-16</td>\n",
       "      <td>46.001841</td>\n",
       "      <td>763.63</td>\n",
       "      <td>19.0407</td>\n",
       "      <td>97.171</td>\n",
       "      <td>1</td>\n",
       "    </tr>\n",
       "    <tr>\n",
       "      <td>2019-12-17</td>\n",
       "      <td>45.840994</td>\n",
       "      <td>761.71</td>\n",
       "      <td>18.9323</td>\n",
       "      <td>96.965</td>\n",
       "      <td>1</td>\n",
       "    </tr>\n",
       "  </tbody>\n",
       "</table>\n",
       "</div>"
      ],
      "text/plain": [
       "            SPX 500 vs ROW  USD/CLP  USD/MXN     DXY  intercepto\n",
       "Dates                                                           \n",
       "2019-12-11       46.339944   778.79  19.2564  97.413           1\n",
       "2019-12-12       46.231239   769.78  19.1176  97.078           1\n",
       "2019-12-13       46.317690   769.45  19.0597  97.452           1\n",
       "2019-12-16       46.001841   763.63  19.0407  97.171           1\n",
       "2019-12-17       45.840994   761.71  18.9323  96.965           1"
      ]
     },
     "execution_count": 527,
     "metadata": {},
     "output_type": "execute_result"
    }
   ],
   "source": [
    "precios_prueba=pd.DataFrame(base[activos]).shift()\n",
    "precios_prueba[\"intercepto\"]=1\n",
    "precios_prueba.tail()"
   ]
  },
  {
   "cell_type": "code",
   "execution_count": 528,
   "metadata": {},
   "outputs": [
    {
     "data": {
      "text/plain": [
       "Dates\n",
       "2019-12-11    3375.1\n",
       "2019-12-12    3372.0\n",
       "2019-12-13    3385.0\n",
       "2019-12-16    3354.1\n",
       "2019-12-17    3341.6\n",
       "Name: USD/COP, dtype: float64"
      ]
     },
     "execution_count": 528,
     "metadata": {},
     "output_type": "execute_result"
    }
   ],
   "source": [
    "prices['USD/COP'].tail()"
   ]
  },
  {
   "cell_type": "code",
   "execution_count": 529,
   "metadata": {},
   "outputs": [
    {
     "data": {
      "text/html": [
       "<div>\n",
       "<style scoped>\n",
       "    .dataframe tbody tr th:only-of-type {\n",
       "        vertical-align: middle;\n",
       "    }\n",
       "\n",
       "    .dataframe tbody tr th {\n",
       "        vertical-align: top;\n",
       "    }\n",
       "\n",
       "    .dataframe thead th {\n",
       "        text-align: right;\n",
       "    }\n",
       "</style>\n",
       "<table border=\"1\" class=\"dataframe\">\n",
       "  <thead>\n",
       "    <tr style=\"text-align: right;\">\n",
       "      <th></th>\n",
       "      <th>pronostico</th>\n",
       "    </tr>\n",
       "    <tr>\n",
       "      <th>Dates</th>\n",
       "      <th></th>\n",
       "    </tr>\n",
       "  </thead>\n",
       "  <tbody>\n",
       "    <tr>\n",
       "      <td>2019-12-11</td>\n",
       "      <td>3402.874604</td>\n",
       "    </tr>\n",
       "    <tr>\n",
       "      <td>2019-12-12</td>\n",
       "      <td>3405.632877</td>\n",
       "    </tr>\n",
       "    <tr>\n",
       "      <td>2019-12-13</td>\n",
       "      <td>3384.701084</td>\n",
       "    </tr>\n",
       "    <tr>\n",
       "      <td>2019-12-16</td>\n",
       "      <td>3368.325026</td>\n",
       "    </tr>\n",
       "    <tr>\n",
       "      <td>2019-12-17</td>\n",
       "      <td>3359.588046</td>\n",
       "    </tr>\n",
       "  </tbody>\n",
       "</table>\n",
       "</div>"
      ],
      "text/plain": [
       "             pronostico\n",
       "Dates                  \n",
       "2019-12-11  3402.874604\n",
       "2019-12-12  3405.632877\n",
       "2019-12-13  3384.701084\n",
       "2019-12-16  3368.325026\n",
       "2019-12-17  3359.588046"
      ]
     },
     "execution_count": 529,
     "metadata": {},
     "output_type": "execute_result"
    }
   ],
   "source": [
    "pronostico=pd.DataFrame(np.multiply(np.array(precios_prueba), np.array(betas)).sum(axis=1), index=precios_prueba.index,columns=[\"pronostico\"])\n",
    "pronostico.tail()"
   ]
  },
  {
   "cell_type": "code",
   "execution_count": 530,
   "metadata": {},
   "outputs": [
    {
     "data": {
      "text/html": [
       "<div>\n",
       "<style scoped>\n",
       "    .dataframe tbody tr th:only-of-type {\n",
       "        vertical-align: middle;\n",
       "    }\n",
       "\n",
       "    .dataframe tbody tr th {\n",
       "        vertical-align: top;\n",
       "    }\n",
       "\n",
       "    .dataframe thead th {\n",
       "        text-align: right;\n",
       "    }\n",
       "</style>\n",
       "<table border=\"1\" class=\"dataframe\">\n",
       "  <thead>\n",
       "    <tr style=\"text-align: right;\">\n",
       "      <th></th>\n",
       "      <th>pronostico</th>\n",
       "    </tr>\n",
       "    <tr>\n",
       "      <th>Dates</th>\n",
       "      <th></th>\n",
       "    </tr>\n",
       "  </thead>\n",
       "  <tbody>\n",
       "    <tr>\n",
       "      <td>2019-12-11</td>\n",
       "      <td>3398.695959</td>\n",
       "    </tr>\n",
       "    <tr>\n",
       "      <td>2019-12-12</td>\n",
       "      <td>3402.874604</td>\n",
       "    </tr>\n",
       "    <tr>\n",
       "      <td>2019-12-13</td>\n",
       "      <td>3405.632877</td>\n",
       "    </tr>\n",
       "    <tr>\n",
       "      <td>2019-12-16</td>\n",
       "      <td>3384.701084</td>\n",
       "    </tr>\n",
       "    <tr>\n",
       "      <td>2019-12-17</td>\n",
       "      <td>3368.325026</td>\n",
       "    </tr>\n",
       "  </tbody>\n",
       "</table>\n",
       "</div>"
      ],
      "text/plain": [
       "             pronostico\n",
       "Dates                  \n",
       "2019-12-11  3398.695959\n",
       "2019-12-12  3402.874604\n",
       "2019-12-13  3405.632877\n",
       "2019-12-16  3384.701084\n",
       "2019-12-17  3368.325026"
      ]
     },
     "execution_count": 530,
     "metadata": {},
     "output_type": "execute_result"
    }
   ],
   "source": [
    "pronostico[-300:].shift(1).tail()"
   ]
  },
  {
   "cell_type": "code",
   "execution_count": 531,
   "metadata": {},
   "outputs": [
    {
     "data": {
      "image/png": "[encoded data removed]",
      "text/plain": [
       "<Figure size 1080x432 with 1 Axes>"
      ]
     },
     "metadata": {
      "needs_background": "light"
     },
     "output_type": "display_data"
    }
   ],
   "source": [
    "(pronostico[-300:].shift(1)).plot(figsize=(15,6))\n",
    "prices['USD/COP'][-300:].plot(figsize=(15,6))\n",
    "plt.show()\n"
   ]
  },
  {
   "cell_type": "code",
   "execution_count": 258,
   "metadata": {},
   "outputs": [
    {
     "data": {
      "text/plain": [
       "array([[480.87  ,   2.136 ,  12.9667,  80.153 , 101.075 ,  88.91  ,\n",
       "          1.    ]])"
      ]
     },
     "execution_count": 258,
     "metadata": {},
     "output_type": "execute_result"
    }
   ],
   "source": [
    "obs_mat[1]"
   ]
  },
  {
   "cell_type": "markdown",
   "metadata": {},
   "source": [
    "# Johansen test"
   ]
  },
  {
   "cell_type": "code",
   "execution_count": 38,
   "metadata": {},
   "outputs": [],
   "source": [
    "'''\n",
    "function result = johansen(x,p,k)\n",
    "% PURPOSE: perform Johansen cointegration tests\n",
    "% -------------------------------------------------------\n",
    "% USAGE: result = johansen(x,p,k)\n",
    "% where:      x = input matrix of time-series in levels, (nobs x m)\n",
    "%             p = order of time polynomial in the null-hypothesis\n",
    "%                 p = -1, no deterministic part\n",
    "%                 p =  0, for constant term\n",
    "%                 p =  1, for constant plus time-trend\n",
    "%                 p >  1, for higher order polynomial\n",
    "%             k = number of lagged difference terms used when\n",
    "%                 computing the estimator\n",
    "% -------------------------------------------------------\n",
    "% RETURNS: a results structure:\n",
    "%          result.eig  = eigenvalues  (m x 1)\n",
    "%          result.evec = eigenvectors (m x m), where first\n",
    "%                        r columns are normalized coint vectors\n",
    "%          result.lr1  = likelihood ratio trace statistic for r=0 to m-1\n",
    "%                        (m x 1) vector\n",
    "%          result.lr2  = maximum eigenvalue statistic for r=0 to m-1\n",
    "%                        (m x 1) vector\n",
    "%          result.cvt  = critical values for trace statistic\n",
    "%                        (m x 3) vector [90% 95% 99%]\n",
    "%          result.cvm  = critical values for max eigen value statistic\n",
    "%                        (m x 3) vector [90% 95% 99%]\n",
    "%          result.ind  = index of co-integrating variables ordered by\n",
    "%                        size of the eigenvalues from large to small\n",
    "% -------------------------------------------------------\n",
    "% NOTE: c_sja(), c_sjt() provide critical values generated using\n",
    "%       a method of MacKinnon (1994, 1996).\n",
    "%       critical values are available for n<=12 and -1 <= p <= 1,\n",
    "%       zeros are returned for other cases.\n",
    "% -------------------------------------------------------\n",
    "% SEE ALSO: prt_coint, a function that prints results\n",
    "% -------------------------------------------------------\n",
    "% References: Johansen (1988), 'Statistical Analysis of Co-integration\n",
    "% vectors', Journal of Economic Dynamics and Control, 12, pp. 231-254.\n",
    "% MacKinnon, Haug, Michelis (1996) 'Numerical distribution\n",
    "% functions of likelihood ratio tests for cointegration',\n",
    "% Queen's University Institute for Economic Research Discussion paper.\n",
    "% (see also: MacKinnon's JBES 1994 article\n",
    "% -------------------------------------------------------\n",
    "\n",
    "% written by:\n",
    "% James P. LeSage, Dept of Economics\n",
    "% University of Toledo\n",
    "% 2801 W. Bancroft St,\n",
    "% Toledo, OH 43606\n",
    "% jlesage@spatial-econometrics.com\n",
    "\n",
    "% ****************************************************************\n",
    "% NOTE: Adina Enache provided some bug fixes and corrections that\n",
    "%       she notes below in comments. 4/10/2000\n",
    "% ****************************************************************\n",
    "'''\n",
    "\n",
    "import numpy as np\n",
    "from numpy import zeros, ones, flipud, log\n",
    "from numpy.linalg import inv, eig, cholesky as chol\n",
    "from statsmodels.regression.linear_model import OLS\n",
    "\n",
    "\n",
    "tdiff = np.diff\n",
    "\n",
    "class Holder(object):\n",
    "    pass\n",
    "\n",
    "def rows(x):\n",
    "    return x.shape[0]\n",
    "\n",
    "def trimr(x, front, end):\n",
    "    if end > 0:\n",
    "        return x[front:-end]\n",
    "    else:\n",
    "        return x[front:]\n",
    "\n",
    "import statsmodels.tsa.tsatools as tsat\n",
    "mlag = tsat.lagmat\n",
    "\n",
    "def mlag_(x, maxlag):\n",
    "    '''return all lags up to maxlag\n",
    "    '''\n",
    "    return x[:-lag]\n",
    "\n",
    "def lag(x, lag):\n",
    "    return x[:-lag]\n",
    "\n",
    "def detrend(y, order):\n",
    "    if order == -1:\n",
    "        return y\n",
    "    return OLS(y, np.vander(np.linspace(-1, 1, len(y)), order + 1)).fit().resid\n",
    "\n",
    "def resid(y, x):\n",
    "    r = y - np.dot(x, np.dot(np.linalg.pinv(x), y))\n",
    "    return r\n",
    "\n",
    "\n",
    "\n",
    "\n",
    "def coint_johansen(x, p, k, print_on_console=True):\n",
    "\n",
    "    #    % error checking on inputs\n",
    "    #    if (nargin ~= 3)\n",
    "    #     error('Wrong # of inputs to johansen')\n",
    "    #    end\n",
    "    nobs, m = x.shape\n",
    "\n",
    "    # why this?  f is detrend transformed series, p is detrend data\n",
    "    if (p > -1):\n",
    "        f = 0\n",
    "    else:\n",
    "        f = p\n",
    "\n",
    "    x = detrend(x, p)\n",
    "    dx = tdiff(x, 1, axis=0)\n",
    "    # dx    = trimr(dx,1,0)\n",
    "    z = mlag(dx, k)  # [k-1:]\n",
    "#    print z.shape\n",
    "    z = trimr(z, k, 0)\n",
    "    z = detrend(z, f)\n",
    "#    print dx.shape\n",
    "    dx = trimr(dx, k, 0)\n",
    "\n",
    "    dx = detrend(dx, f)\n",
    "    # r0t   = dx - z*(z\\dx)\n",
    "    r0t = resid(dx, z)  # diff on lagged diffs\n",
    "    # lx = trimr(lag(x,k),k,0)\n",
    "    lx = lag(x, k)\n",
    "    lx = trimr(lx, 1, 0)\n",
    "    dx = detrend(lx, f)\n",
    "#    print 'rkt', dx.shape, z.shape\n",
    "    # rkt   = dx - z*(z\\dx)\n",
    "    rkt = resid(dx, z)  # level on lagged diffs\n",
    "    skk = np.dot(rkt.T, rkt) / rows(rkt)\n",
    "    sk0 = np.dot(rkt.T, r0t) / rows(rkt)\n",
    "    s00 = np.dot(r0t.T, r0t) / rows(r0t)\n",
    "    sig = np.dot(sk0, np.dot(inv(s00), (sk0.T)))\n",
    "    tmp = inv(skk)\n",
    "    # du, au = eig(np.dot(tmp, sig))\n",
    "    au, du = eig(np.dot(tmp, sig))  # au is eval, du is evec\n",
    "    # orig = np.dot(tmp, sig)\n",
    "\n",
    "    # % Normalize the eigen vectors such that (du'skk*du) = I\n",
    "    temp = inv(chol(np.dot(du.T, np.dot(skk, du))))\n",
    "    dt = np.dot(du, temp)\n",
    "\n",
    "\n",
    "    # JP: the next part can be done much  easier\n",
    "\n",
    "    # %      NOTE: At this point, the eigenvectors are aligned by column. To\n",
    "    # %            physically move the column elements using the MATLAB sort,\n",
    "    # %            take the transpose to put the eigenvectors across the row\n",
    "\n",
    "    # dt = transpose(dt)\n",
    "\n",
    "    # % sort eigenvalues and vectors\n",
    "\n",
    "    # au, auind = np.sort(diag(au))\n",
    "    auind = np.argsort(au)\n",
    "    # a = flipud(au)\n",
    "    aind = flipud(auind)\n",
    "    a = au[aind]\n",
    "    # d = dt[aind,:]\n",
    "    d = dt[:, aind]\n",
    "\n",
    "    # %NOTE: The eigenvectors have been sorted by row based on auind and moved to array \"d\".\n",
    "    # %      Put the eigenvectors back in column format after the sort by taking the\n",
    "    # %      transpose of \"d\". Since the eigenvectors have been physically moved, there is\n",
    "    # %      no need for aind at all. To preserve existing programming, aind is reset back to\n",
    "    # %      1, 2, 3, ....\n",
    "\n",
    "    # d  =  transpose(d)\n",
    "    # test = np.dot(transpose(d), np.dot(skk, d))\n",
    "\n",
    "    # %EXPLANATION:  The MATLAB sort function sorts from low to high. The flip realigns\n",
    "    # %auind to go from the largest to the smallest eigenvalue (now aind). The original procedure\n",
    "    # %physically moved the rows of dt (to d) based on the alignment in aind and then used\n",
    "    # %aind as a column index to address the eigenvectors from high to low. This is a double\n",
    "    # %sort. If you wanted to extract the eigenvector corresponding to the largest eigenvalue by,\n",
    "    # %using aind as a reference, you would get the correct eigenvector, but with sorted\n",
    "    # %coefficients and, therefore, any follow-on calculation would seem to be in error.\n",
    "    # %If alternative programming methods are used to evaluate the eigenvalues, e.g. Frame method\n",
    "    # %followed by a root extraction on the characteristic equation, then the roots can be\n",
    "    # %quickly sorted. One by one, the corresponding eigenvectors can be generated. The resultant\n",
    "    # %array can be operated on using the Cholesky transformation, which enables a unit\n",
    "    # %diagonalization of skk. But nowhere along the way are the coefficients within the\n",
    "    # %eigenvector array ever changed. The final value of the \"beta\" array using either method\n",
    "    # %should be the same.\n",
    "\n",
    "\n",
    "    # % Compute the trace and max eigenvalue statistics */\n",
    "    lr1 = zeros(m)\n",
    "    lr2 = zeros(m)\n",
    "    cvm = zeros((m, 3))\n",
    "    cvt = zeros((m, 3))\n",
    "    iota = ones(m)\n",
    "    t, junk = rkt.shape\n",
    "    for i in range(0, m):\n",
    "        tmp = trimr(log(iota - a), i , 0)\n",
    "        lr1[i] = -t * np.sum(tmp, 0)  # columnsum ?\n",
    "        # tmp = np.log(1-a)\n",
    "        # lr1[i] = -t * np.sum(tmp[i:])\n",
    "        lr2[i] = -t * log(1 - a[i])\n",
    "        cvm[i, :] = c_sja(m - i, p)\n",
    "        cvt[i, :] = c_sjt(m - i, p)\n",
    "        aind[i] = i\n",
    "    # end\n",
    "\n",
    "    result = Holder()\n",
    "    # % set up results structure\n",
    "    # estimation results, residuals\n",
    "    result.rkt = rkt\n",
    "    result.r0t = r0t\n",
    "    result.eig = a\n",
    "    result.evec = d  # transposed compared to matlab ?\n",
    "    result.lr1 = lr1\n",
    "    result.lr2 = lr2\n",
    "    result.cvt = cvt\n",
    "    result.cvm = cvm\n",
    "    result.ind = aind\n",
    "    result.meth = 'johansen'\n",
    "\n",
    "    if print_on_console == True:\n",
    "        print ('--------------------------------------------------')\n",
    "        print ('--> Trace Statistics')\n",
    "        print ('variable statistic Crit-90% Crit-95%  Crit-99%')\n",
    "        for i in range(len(result.lr1)):\n",
    "            print ('r =', i, '\\t', round(result.lr1[i], 4), result.cvt[i, 0], result.cvt[i, 1], result.cvt[i, 2])\n",
    "        print ('--------------------------------------------------')\n",
    "        print ('--> Eigen Statistics')\n",
    "        print ('variable statistic Crit-90% Crit-95%  Crit-99%')\n",
    "        for i in range(len(result.lr2)):\n",
    "            print ('r =', i, '\\t', round(result.lr2[i], 4), result.cvm[i, 0], result.cvm[i, 1], result.cvm[i, 2])\n",
    "        print ('--------------------------------------------------')\n",
    "        print ('eigenvectors:\\n', result.evec)\n",
    "        print ('--------------------------------------------------')\n",
    "        print ('eigenvalues:\\n', result.eig)\n",
    "        print ('--------------------------------------------------')\n",
    "\n",
    "\n",
    "    return result\n",
    "\n",
    "def c_sjt(n, p):\n",
    "\n",
    "# PURPOSE: find critical values for Johansen trace statistic\n",
    "# ------------------------------------------------------------\n",
    "# USAGE:  jc = c_sjt(n,p)\n",
    "# where:    n = dimension of the VAR system\n",
    "#               NOTE: routine doesn't work for n > 12\n",
    "#           p = order of time polynomial in the null-hypothesis\n",
    "#                 p = -1, no deterministic part\n",
    "#                 p =  0, for constant term\n",
    "#                 p =  1, for constant plus time-trend\n",
    "#                 p >  1  returns no critical values\n",
    "# ------------------------------------------------------------\n",
    "# RETURNS: a (3x1) vector of percentiles for the trace\n",
    "#          statistic for [90# 95# 99#]\n",
    "# ------------------------------------------------------------\n",
    "# NOTES: for n > 12, the function returns a (3x1) vector of zeros.\n",
    "#        The values returned by the function were generated using\n",
    "#        a method described in MacKinnon (1996), using his FORTRAN\n",
    "#        program johdist.f\n",
    "# ------------------------------------------------------------\n",
    "# SEE ALSO: johansen()\n",
    "# ------------------------------------------------------------\n",
    "# # References: MacKinnon, Haug, Michelis (1996) 'Numerical distribution\n",
    "# functions of likelihood ratio tests for cointegration',\n",
    "# Queen's University Institute for Economic Research Discussion paper.\n",
    "# -------------------------------------------------------\n",
    "\n",
    "# written by:\n",
    "# James P. LeSage, Dept of Economics\n",
    "# University of Toledo\n",
    "# 2801 W. Bancroft St,\n",
    "# Toledo, OH 43606\n",
    "# jlesage@spatial-econometrics.com\n",
    "#\n",
    "# Ported to Python by Javier Garcia\n",
    "# javier.macro.trader@gmail.com\n",
    "\n",
    "# these are the values from Johansen's 1995 book\n",
    "# for comparison to the MacKinnon values\n",
    "# jcp0 = [ 2.98   4.14   7.02\n",
    "#        10.35  12.21  16.16\n",
    "#        21.58  24.08  29.19\n",
    "#        36.58  39.71  46.00\n",
    "#        55.54  59.24  66.71\n",
    "#        78.30  86.36  91.12\n",
    "#       104.93 109.93 119.58\n",
    "#       135.16 140.74 151.70\n",
    "#       169.30 175.47 187.82\n",
    "#       207.21 214.07 226.95\n",
    "#       248.77 256.23 270.47\n",
    "#       293.83 301.95 318.14];\n",
    "\n",
    "\n",
    "\n",
    "\n",
    "    jcp0 = ((2.9762, 4.1296, 6.9406),\n",
    "            (10.4741, 12.3212, 16.3640),\n",
    "            (21.7781, 24.2761, 29.5147),\n",
    "            (37.0339, 40.1749, 46.5716),\n",
    "            (56.2839, 60.0627, 67.6367),\n",
    "            (79.5329, 83.9383, 92.7136),\n",
    "            (106.7351, 111.7797, 121.7375),\n",
    "            (137.9954, 143.6691, 154.7977),\n",
    "            (173.2292, 179.5199, 191.8122),\n",
    "            (212.4721, 219.4051, 232.8291),\n",
    "            (255.6732, 263.2603, 277.9962),\n",
    "            (302.9054, 311.1288, 326.9716))\n",
    "\n",
    "\n",
    "    jcp1 = ((2.7055, 3.8415, 6.6349),\n",
    "            (13.4294, 15.4943, 19.9349),\n",
    "            (27.0669, 29.7961, 35.4628),\n",
    "            (44.4929, 47.8545, 54.6815),\n",
    "            (65.8202, 69.8189, 77.8202),\n",
    "            (91.1090, 95.7542, 104.9637),\n",
    "            (120.3673, 125.6185, 135.9825),\n",
    "            (153.6341, 159.5290, 171.0905),\n",
    "            (190.8714, 197.3772, 210.0366),\n",
    "            (232.1030, 239.2468, 253.2526),\n",
    "            (277.3740, 285.1402, 300.2821),\n",
    "            (326.5354, 334.9795, 351.2150))\n",
    "\n",
    "    jcp2 = ((2.7055, 3.8415, 6.6349),\n",
    "            (16.1619, 18.3985, 23.1485),\n",
    "            (32.0645, 35.0116, 41.0815),\n",
    "            (51.6492, 55.2459, 62.5202),\n",
    "            (75.1027, 79.3422, 87.7748),\n",
    "            (102.4674, 107.3429, 116.9829),\n",
    "            (133.7852, 139.2780, 150.0778),\n",
    "            (169.0618, 175.1584, 187.1891),\n",
    "            (208.3582, 215.1268, 228.2226),\n",
    "            (251.6293, 259.0267, 273.3838),\n",
    "            (298.8836, 306.8988, 322.4264),\n",
    "            (350.1125, 358.7190, 375.3203))\n",
    "\n",
    "\n",
    "\n",
    "    if (p > 1) or (p < -1):\n",
    "        jc = (0, 0, 0)\n",
    "    elif (n > 12) or (n < 1):\n",
    "        jc = (0, 0, 0)\n",
    "    elif p == -1:\n",
    "        jc = jcp0[n - 1]\n",
    "    elif p == 0:\n",
    "        jc = jcp1[n - 1]\n",
    "    elif p == 1:\n",
    "        jc = jcp2[n - 1]\n",
    "\n",
    "\n",
    "\n",
    "    return jc\n",
    "\n",
    "def c_sja(n, p):\n",
    "\n",
    "# PURPOSE: find critical values for Johansen maximum eigenvalue statistic\n",
    "# ------------------------------------------------------------\n",
    "# USAGE:  jc = c_sja(n,p)\n",
    "# where:    n = dimension of the VAR system\n",
    "#           p = order of time polynomial in the null-hypothesis\n",
    "#                 p = -1, no deterministic part\n",
    "#                 p =  0, for constant term\n",
    "#                 p =  1, for constant plus time-trend\n",
    "#                 p >  1  returns no critical values\n",
    "# ------------------------------------------------------------\n",
    "# RETURNS: a (3x1) vector of percentiles for the maximum eigenvalue\n",
    "#          statistic for: [90# 95# 99#]\n",
    "# ------------------------------------------------------------\n",
    "# NOTES: for n > 12, the function returns a (3x1) vector of zeros.\n",
    "#        The values returned by the function were generated using\n",
    "#        a method described in MacKinnon (1996), using his FORTRAN\n",
    "#        program johdist.f\n",
    "# ------------------------------------------------------------\n",
    "# SEE ALSO: johansen()\n",
    "# ------------------------------------------------------------\n",
    "# References: MacKinnon, Haug, Michelis (1996) 'Numerical distribution\n",
    "# functions of likelihood ratio tests for cointegration',\n",
    "# Queen's University Institute for Economic Research Discussion paper.\n",
    "# -------------------------------------------------------\n",
    "\n",
    "# written by:\n",
    "# James P. LeSage, Dept of Economics\n",
    "# University of Toledo\n",
    "# 2801 W. Bancroft St,\n",
    "# Toledo, OH 43606\n",
    "# jlesage@spatial-econometrics.com\n",
    "# Ported to Python by Javier Garcia\n",
    "# javier.macro.trader@gmail.com\n",
    "\n",
    "\n",
    "    jcp0 = ((2.9762, 4.1296, 6.9406),\n",
    "            (9.4748, 11.2246, 15.0923),\n",
    "            (15.7175, 17.7961, 22.2519),\n",
    "            (21.8370, 24.1592, 29.0609),\n",
    "            (27.9160, 30.4428, 35.7359),\n",
    "            (33.9271, 36.6301, 42.2333),\n",
    "            (39.9085, 42.7679, 48.6606),\n",
    "            (45.8930, 48.8795, 55.0335),\n",
    "            (51.8528, 54.9629, 61.3449),\n",
    "            (57.7954, 61.0404, 67.6415),\n",
    "            (63.7248, 67.0756, 73.8856),\n",
    "            (69.6513, 73.0946, 80.0937))\n",
    "\n",
    "    jcp1 = ((2.7055, 3.8415, 6.6349),\n",
    "            (12.2971, 14.2639, 18.5200),\n",
    "            (18.8928, 21.1314, 25.8650),\n",
    "            (25.1236, 27.5858, 32.7172),\n",
    "            (31.2379, 33.8777, 39.3693),\n",
    "            (37.2786, 40.0763, 45.8662),\n",
    "            (43.2947, 46.2299, 52.3069),\n",
    "            (49.2855, 52.3622, 58.6634),\n",
    "            (55.2412, 58.4332, 64.9960),\n",
    "            (61.2041, 64.5040, 71.2525),\n",
    "            (67.1307, 70.5392, 77.4877),\n",
    "            (73.0563, 76.5734, 83.7105))\n",
    "\n",
    "    jcp2 = ((2.7055, 3.8415, 6.6349),\n",
    "            (15.0006, 17.1481, 21.7465),\n",
    "            (21.8731, 24.2522, 29.2631),\n",
    "            (28.2398, 30.8151, 36.1930),\n",
    "            (34.4202, 37.1646, 42.8612),\n",
    "            (40.5244, 43.4183, 49.4095),\n",
    "            (46.5583, 49.5875, 55.8171),\n",
    "            (52.5858, 55.7302, 62.1741),\n",
    "            (58.5316, 61.8051, 68.5030),\n",
    "            (64.5292, 67.9040, 74.7434),\n",
    "            (70.4630, 73.9355, 81.0678),\n",
    "            (76.4081, 79.9878, 87.2395))\n",
    "\n",
    "\n",
    "    if (p > 1) or (p < -1):\n",
    "        jc = (0, 0, 0)\n",
    "    elif (n > 12) or (n < 1):\n",
    "        jc = (0, 0, 0)\n",
    "    elif p == -1:\n",
    "        jc = jcp0[n - 1]\n",
    "    elif p == 0:\n",
    "        jc = jcp1[n - 1]\n",
    "    elif p == 1:\n",
    "        jc = jcp2[n - 1]\n",
    "\n",
    "\n",
    "    return jc"
   ]
  },
  {
   "cell_type": "code",
   "execution_count": null,
   "metadata": {},
   "outputs": [],
   "source": []
  }
 ],
 "metadata": {
  "kernelspec": {
   "display_name": "Python 3",
   "language": "python",
   "name": "python3"
  },
  "language_info": {
   "codemirror_mode": {
    "name": "ipython",
    "version": 3
   },
   "file_extension": ".py",
   "mimetype": "text/x-python",
   "name": "python",
   "nbconvert_exporter": "python",
   "pygments_lexer": "ipython3",
   "version": "3.7.4"
  }
 },
 "nbformat": 4,
 "nbformat_minor": 2
}
