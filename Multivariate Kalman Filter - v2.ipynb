{
 "cells": [
  {
   "cell_type": "markdown",
   "metadata": {},
   "source": [
    "# Kalman Filter Multivariado \n",
    "Este archivo esta basado en lo siguiente: \n",
    "https://www.quantopian.com/posts/pairs-trading-with-machine-learning"
   ]
  },
  {
   "cell_type": "code",
   "execution_count": 1,
   "metadata": {
    "scrolled": false
   },
   "outputs": [
    {
     "name": "stdout",
     "output_type": "stream",
     "text": [
      "Requirement already satisfied: pykalman in c:\\users\\mariaalejandra\\anaconda3\\lib\\site-packages (0.9.5)\n",
      "Requirement already satisfied: johansen in c:\\users\\mariaalejandra\\anaconda3\\lib\\site-packages (0.0.4)\n",
      "Requirement already satisfied: pandas>=0.18.1 in c:\\users\\mariaalejandra\\anaconda3\\lib\\site-packages (from johansen) (0.25.1)\n",
      "Requirement already satisfied: statsmodels>=0.6.1 in c:\\users\\mariaalejandra\\anaconda3\\lib\\site-packages (from johansen) (0.10.1)\n",
      "Requirement already satisfied: numpy>=1.11.1 in c:\\users\\mariaalejandra\\anaconda3\\lib\\site-packages (from johansen) (1.16.5)\n",
      "Requirement already satisfied: scipy>=0.18.0 in c:\\users\\mariaalejandra\\anaconda3\\lib\\site-packages (from johansen) (1.3.1)\n",
      "Requirement already satisfied: pytz>=2017.2 in c:\\users\\mariaalejandra\\anaconda3\\lib\\site-packages (from pandas>=0.18.1->johansen) (2019.3)\n",
      "Requirement already satisfied: python-dateutil>=2.6.1 in c:\\users\\mariaalejandra\\anaconda3\\lib\\site-packages (from pandas>=0.18.1->johansen) (2.8.0)\n",
      "Requirement already satisfied: patsy>=0.4.0 in c:\\users\\mariaalejandra\\anaconda3\\lib\\site-packages (from statsmodels>=0.6.1->johansen) (0.5.1)\n",
      "Requirement already satisfied: six>=1.5 in c:\\users\\mariaalejandra\\anaconda3\\lib\\site-packages (from python-dateutil>=2.6.1->pandas>=0.18.1->johansen) (1.12.0)\n",
      "Requirement already satisfied: sklearn in c:\\users\\mariaalejandra\\appdata\\roaming\\python\\python37\\site-packages (0.0)\n",
      "Requirement already satisfied: scikit-learn in c:\\users\\mariaalejandra\\anaconda3\\lib\\site-packages (from sklearn) (0.21.3)\n",
      "Requirement already satisfied: scipy>=0.17.0 in c:\\users\\mariaalejandra\\anaconda3\\lib\\site-packages (from scikit-learn->sklearn) (1.3.1)\n",
      "Requirement already satisfied: numpy>=1.11.0 in c:\\users\\mariaalejandra\\anaconda3\\lib\\site-packages (from scikit-learn->sklearn) (1.16.5)\n",
      "Requirement already satisfied: joblib>=0.11 in c:\\users\\mariaalejandra\\anaconda3\\lib\\site-packages (from scikit-learn->sklearn) (0.13.2)\n"
     ]
    }
   ],
   "source": [
    "!pip install pykalman\n",
    "!pip install johansen \n",
    "!pip install sklearn"
   ]
  },
  {
   "cell_type": "code",
   "execution_count": 2,
   "metadata": {},
   "outputs": [],
   "source": [
    "import numpy as np\n",
    "import pandas as pd\n",
    "\n",
    "import statsmodels\n",
    "import statsmodels.api as sm\n",
    "from statsmodels.tsa.stattools import coint, adfuller\n",
    "import matplotlib.pyplot as plt\n",
    "from sklearn.cluster import KMeans, DBSCAN\n",
    "from sklearn.decomposition import PCA\n",
    "from sklearn.manifold import TSNE\n",
    "from sklearn import preprocessing\n"
   ]
  },
  {
   "cell_type": "code",
   "execution_count": 3,
   "metadata": {},
   "outputs": [],
   "source": [
    "\n",
    "from pykalman import KalmanFilter\n",
    "import statsmodels.api as sm"
   ]
  },
  {
   "cell_type": "markdown",
   "metadata": {},
   "source": [
    "## Importar base de datos"
   ]
  },
  {
   "cell_type": "code",
   "execution_count": 4,
   "metadata": {},
   "outputs": [],
   "source": [
    "base=pd.read_excel(\"base_kalman_multivariado.xlsx\",index_col=0).bfill()#.resample(\"w\").last()"
   ]
  },
  {
   "cell_type": "code",
   "execution_count": 5,
   "metadata": {
    "scrolled": true
   },
   "outputs": [
    {
     "data": {
      "text/plain": [
       "Index(['S&P 500 INDEX', 'ISHARES MSCI EAFE ETF', 'BRAZIL IBOVESPA INDEX',\n",
       "       'S&P/CLX IPSA (CLP) TR', 'S&P/BMV IPC', 'COLOMBIA COLCAP INDEX',\n",
       "       'SPX 500 vs ROW', 'SPX  vs COL', 'COLOM CDS USD SR 5Y D14 Corp',\n",
       "       'BRAZIL CDS USD SR 5Y D14 Corp', 'CHILE CDS USD SR 5Y D14 Corp',\n",
       "       'MEX CDS USD SR 5Y D14 Corp', 'CL1 Comdty', 'SCO1 Comdty',\n",
       "       'LMCADS03 Comdty', 'US 10Y Bond', 'UK 10Y Bond', 'COP 10Y Bond',\n",
       "       'MEX 10Y Bond', 'BRL 10Y Bond', 'CHL 10Y Bond', 'US 10Y- COL 10Y',\n",
       "       'USD/BRL', 'USD/COP', 'USD/CLP', 'USD/MXN', 'EUR/USD', 'GBP/USD',\n",
       "       'DXY'],\n",
       "      dtype='object')"
      ]
     },
     "execution_count": 5,
     "metadata": {},
     "output_type": "execute_result"
    }
   ],
   "source": [
    "base.columns"
   ]
  },
  {
   "cell_type": "code",
   "execution_count": 6,
   "metadata": {},
   "outputs": [
    {
     "data": {
      "text/html": [
       "<div>\n",
       "<style scoped>\n",
       "    .dataframe tbody tr th:only-of-type {\n",
       "        vertical-align: middle;\n",
       "    }\n",
       "\n",
       "    .dataframe tbody tr th {\n",
       "        vertical-align: top;\n",
       "    }\n",
       "\n",
       "    .dataframe thead th {\n",
       "        text-align: right;\n",
       "    }\n",
       "</style>\n",
       "<table border=\"1\" class=\"dataframe\">\n",
       "  <thead>\n",
       "    <tr style=\"text-align: right;\">\n",
       "      <th></th>\n",
       "      <th>S&amp;P 500 INDEX</th>\n",
       "      <th>ISHARES MSCI EAFE ETF</th>\n",
       "      <th>BRAZIL IBOVESPA INDEX</th>\n",
       "      <th>S&amp;P/CLX IPSA (CLP) TR</th>\n",
       "      <th>S&amp;P/BMV IPC</th>\n",
       "      <th>COLOMBIA COLCAP INDEX</th>\n",
       "      <th>SPX 500 vs ROW</th>\n",
       "      <th>SPX  vs COL</th>\n",
       "      <th>COLOM CDS USD SR 5Y D14 Corp</th>\n",
       "      <th>BRAZIL CDS USD SR 5Y D14 Corp</th>\n",
       "      <th>...</th>\n",
       "      <th>BRL 10Y Bond</th>\n",
       "      <th>CHL 10Y Bond</th>\n",
       "      <th>US 10Y- COL 10Y</th>\n",
       "      <th>USD/BRL</th>\n",
       "      <th>USD/COP</th>\n",
       "      <th>USD/CLP</th>\n",
       "      <th>USD/MXN</th>\n",
       "      <th>EUR/USD</th>\n",
       "      <th>GBP/USD</th>\n",
       "      <th>DXY</th>\n",
       "    </tr>\n",
       "    <tr>\n",
       "      <th>Dates</th>\n",
       "      <th></th>\n",
       "      <th></th>\n",
       "      <th></th>\n",
       "      <th></th>\n",
       "      <th></th>\n",
       "      <th></th>\n",
       "      <th></th>\n",
       "      <th></th>\n",
       "      <th></th>\n",
       "      <th></th>\n",
       "      <th></th>\n",
       "      <th></th>\n",
       "      <th></th>\n",
       "      <th></th>\n",
       "      <th></th>\n",
       "      <th></th>\n",
       "      <th></th>\n",
       "      <th></th>\n",
       "      <th></th>\n",
       "      <th></th>\n",
       "      <th></th>\n",
       "    </tr>\n",
       "  </thead>\n",
       "  <tbody>\n",
       "    <tr>\n",
       "      <td>2012-11-19</td>\n",
       "      <td>1386.89</td>\n",
       "      <td>42.7399</td>\n",
       "      <td>56450.9</td>\n",
       "      <td>4191.12</td>\n",
       "      <td>40830.60</td>\n",
       "      <td>1743.83</td>\n",
       "      <td>32.449538</td>\n",
       "      <td>0.795313</td>\n",
       "      <td>101.750</td>\n",
       "      <td>104.625</td>\n",
       "      <td>...</td>\n",
       "      <td>9.441</td>\n",
       "      <td>5.437</td>\n",
       "      <td>4.4699</td>\n",
       "      <td>2.0823</td>\n",
       "      <td>1818.5</td>\n",
       "      <td>480.08</td>\n",
       "      <td>13.0579</td>\n",
       "      <td>1.2814</td>\n",
       "      <td>1.5909</td>\n",
       "      <td>80.874</td>\n",
       "    </tr>\n",
       "    <tr>\n",
       "      <td>2012-11-20</td>\n",
       "      <td>1387.81</td>\n",
       "      <td>42.8081</td>\n",
       "      <td>56450.9</td>\n",
       "      <td>4179.70</td>\n",
       "      <td>41184.00</td>\n",
       "      <td>1743.33</td>\n",
       "      <td>32.419332</td>\n",
       "      <td>0.796068</td>\n",
       "      <td>100.000</td>\n",
       "      <td>103.813</td>\n",
       "      <td>...</td>\n",
       "      <td>9.447</td>\n",
       "      <td>5.459</td>\n",
       "      <td>4.4021</td>\n",
       "      <td>2.0806</td>\n",
       "      <td>1816.0</td>\n",
       "      <td>478.11</td>\n",
       "      <td>13.0044</td>\n",
       "      <td>1.2817</td>\n",
       "      <td>1.5927</td>\n",
       "      <td>80.957</td>\n",
       "    </tr>\n",
       "    <tr>\n",
       "      <td>2012-11-21</td>\n",
       "      <td>1391.03</td>\n",
       "      <td>42.8804</td>\n",
       "      <td>56242.1</td>\n",
       "      <td>4145.42</td>\n",
       "      <td>41668.06</td>\n",
       "      <td>1748.26</td>\n",
       "      <td>32.439763</td>\n",
       "      <td>0.795665</td>\n",
       "      <td>101.333</td>\n",
       "      <td>104.667</td>\n",
       "      <td>...</td>\n",
       "      <td>9.509</td>\n",
       "      <td>5.493</td>\n",
       "      <td>4.3754</td>\n",
       "      <td>2.0985</td>\n",
       "      <td>1815.7</td>\n",
       "      <td>477.95</td>\n",
       "      <td>13.0600</td>\n",
       "      <td>1.2829</td>\n",
       "      <td>1.5952</td>\n",
       "      <td>80.932</td>\n",
       "    </tr>\n",
       "    <tr>\n",
       "      <td>2012-11-22</td>\n",
       "      <td>1391.03</td>\n",
       "      <td>42.8804</td>\n",
       "      <td>56437.0</td>\n",
       "      <td>4139.68</td>\n",
       "      <td>42032.35</td>\n",
       "      <td>1746.00</td>\n",
       "      <td>32.439763</td>\n",
       "      <td>0.796695</td>\n",
       "      <td>100.838</td>\n",
       "      <td>104.503</td>\n",
       "      <td>...</td>\n",
       "      <td>9.515</td>\n",
       "      <td>5.539</td>\n",
       "      <td>4.3784</td>\n",
       "      <td>2.1045</td>\n",
       "      <td>1815.7</td>\n",
       "      <td>476.85</td>\n",
       "      <td>13.0298</td>\n",
       "      <td>1.2884</td>\n",
       "      <td>1.5937</td>\n",
       "      <td>80.699</td>\n",
       "    </tr>\n",
       "    <tr>\n",
       "      <td>2012-11-23</td>\n",
       "      <td>1409.15</td>\n",
       "      <td>43.8040</td>\n",
       "      <td>57574.0</td>\n",
       "      <td>4143.25</td>\n",
       "      <td>41919.55</td>\n",
       "      <td>1743.39</td>\n",
       "      <td>32.169437</td>\n",
       "      <td>0.808282</td>\n",
       "      <td>100.169</td>\n",
       "      <td>103.846</td>\n",
       "      <td>...</td>\n",
       "      <td>9.455</td>\n",
       "      <td>5.573</td>\n",
       "      <td>4.3071</td>\n",
       "      <td>2.0815</td>\n",
       "      <td>1823.5</td>\n",
       "      <td>478.77</td>\n",
       "      <td>12.9647</td>\n",
       "      <td>1.2976</td>\n",
       "      <td>1.6028</td>\n",
       "      <td>80.192</td>\n",
       "    </tr>\n",
       "  </tbody>\n",
       "</table>\n",
       "<p>5 rows × 29 columns</p>\n",
       "</div>"
      ],
      "text/plain": [
       "            S&P 500 INDEX  ISHARES MSCI EAFE ETF  BRAZIL IBOVESPA INDEX  \\\n",
       "Dates                                                                     \n",
       "2012-11-19        1386.89                42.7399                56450.9   \n",
       "2012-11-20        1387.81                42.8081                56450.9   \n",
       "2012-11-21        1391.03                42.8804                56242.1   \n",
       "2012-11-22        1391.03                42.8804                56437.0   \n",
       "2012-11-23        1409.15                43.8040                57574.0   \n",
       "\n",
       "            S&P/CLX IPSA (CLP) TR  S&P/BMV IPC  COLOMBIA COLCAP INDEX  \\\n",
       "Dates                                                                   \n",
       "2012-11-19                4191.12     40830.60                1743.83   \n",
       "2012-11-20                4179.70     41184.00                1743.33   \n",
       "2012-11-21                4145.42     41668.06                1748.26   \n",
       "2012-11-22                4139.68     42032.35                1746.00   \n",
       "2012-11-23                4143.25     41919.55                1743.39   \n",
       "\n",
       "            SPX 500 vs ROW  SPX  vs COL  COLOM CDS USD SR 5Y D14 Corp  \\\n",
       "Dates                                                                   \n",
       "2012-11-19       32.449538     0.795313                       101.750   \n",
       "2012-11-20       32.419332     0.796068                       100.000   \n",
       "2012-11-21       32.439763     0.795665                       101.333   \n",
       "2012-11-22       32.439763     0.796695                       100.838   \n",
       "2012-11-23       32.169437     0.808282                       100.169   \n",
       "\n",
       "            BRAZIL CDS USD SR 5Y D14 Corp  ...  BRL 10Y Bond  CHL 10Y Bond  \\\n",
       "Dates                                      ...                               \n",
       "2012-11-19                        104.625  ...         9.441         5.437   \n",
       "2012-11-20                        103.813  ...         9.447         5.459   \n",
       "2012-11-21                        104.667  ...         9.509         5.493   \n",
       "2012-11-22                        104.503  ...         9.515         5.539   \n",
       "2012-11-23                        103.846  ...         9.455         5.573   \n",
       "\n",
       "            US 10Y- COL 10Y  USD/BRL  USD/COP  USD/CLP  USD/MXN  EUR/USD  \\\n",
       "Dates                                                                      \n",
       "2012-11-19           4.4699   2.0823   1818.5   480.08  13.0579   1.2814   \n",
       "2012-11-20           4.4021   2.0806   1816.0   478.11  13.0044   1.2817   \n",
       "2012-11-21           4.3754   2.0985   1815.7   477.95  13.0600   1.2829   \n",
       "2012-11-22           4.3784   2.1045   1815.7   476.85  13.0298   1.2884   \n",
       "2012-11-23           4.3071   2.0815   1823.5   478.77  12.9647   1.2976   \n",
       "\n",
       "            GBP/USD     DXY  \n",
       "Dates                        \n",
       "2012-11-19   1.5909  80.874  \n",
       "2012-11-20   1.5927  80.957  \n",
       "2012-11-21   1.5952  80.932  \n",
       "2012-11-22   1.5937  80.699  \n",
       "2012-11-23   1.6028  80.192  \n",
       "\n",
       "[5 rows x 29 columns]"
      ]
     },
     "execution_count": 6,
     "metadata": {},
     "output_type": "execute_result"
    }
   ],
   "source": [
    "base.head()"
   ]
  },
  {
   "cell_type": "code",
   "execution_count": 7,
   "metadata": {},
   "outputs": [
    {
     "data": {
      "text/plain": [
       "Index(['S&P 500 INDEX', 'ISHARES MSCI EAFE ETF', 'BRAZIL IBOVESPA INDEX',\n",
       "       'S&P/CLX IPSA (CLP) TR', 'S&P/BMV IPC', 'COLOMBIA COLCAP INDEX',\n",
       "       'SPX 500 vs ROW', 'SPX  vs COL', 'COLOM CDS USD SR 5Y D14 Corp',\n",
       "       'BRAZIL CDS USD SR 5Y D14 Corp', 'CHILE CDS USD SR 5Y D14 Corp',\n",
       "       'MEX CDS USD SR 5Y D14 Corp', 'CL1 Comdty', 'SCO1 Comdty',\n",
       "       'LMCADS03 Comdty'],\n",
       "      dtype='object')"
      ]
     },
     "execution_count": 7,
     "metadata": {},
     "output_type": "execute_result"
    }
   ],
   "source": [
    "base[base.columns[:15]].columns"
   ]
  },
  {
   "cell_type": "code",
   "execution_count": 8,
   "metadata": {},
   "outputs": [
    {
     "data": {
      "text/plain": [
       "Index(['US 10Y Bond', 'UK 10Y Bond', 'COP 10Y Bond', 'MEX 10Y Bond',\n",
       "       'BRL 10Y Bond', 'CHL 10Y Bond', 'US 10Y- COL 10Y', 'USD/BRL'],\n",
       "      dtype='object')"
      ]
     },
     "execution_count": 8,
     "metadata": {},
     "output_type": "execute_result"
    }
   ],
   "source": [
    "base[base.columns[15:23]].columns"
   ]
  },
  {
   "cell_type": "code",
   "execution_count": 9,
   "metadata": {},
   "outputs": [
    {
     "data": {
      "text/plain": [
       "Index(['USD/COP', 'USD/CLP', 'USD/MXN', 'EUR/USD', 'GBP/USD', 'DXY'], dtype='object')"
      ]
     },
     "execution_count": 9,
     "metadata": {},
     "output_type": "execute_result"
    }
   ],
   "source": [
    "base[base.columns[23:]].columns"
   ]
  },
  {
   "cell_type": "markdown",
   "metadata": {},
   "source": [
    "### Crear retornos"
   ]
  },
  {
   "cell_type": "code",
   "execution_count": 10,
   "metadata": {},
   "outputs": [
    {
     "name": "stderr",
     "output_type": "stream",
     "text": [
      "C:\\Users\\mariaalejandra\\Anaconda3\\lib\\site-packages\\ipykernel_launcher.py:4: RuntimeWarning: invalid value encountered in log\n",
      "  after removing the cwd from sys.path.\n",
      "C:\\Users\\mariaalejandra\\Anaconda3\\lib\\site-packages\\ipykernel_launcher.py:6: RuntimeWarning: invalid value encountered in log\n",
      "  \n"
     ]
    }
   ],
   "source": [
    "#--------------------------------------------- crear retornos de la base -------------------------------------\n",
    "# Dado que la base contiene negativos o valores cercanos a ceros por los bonos en este caso solo lo voy a hacer con\n",
    "# los retornos compuestos, no logarítmicos \n",
    "retorno=pd.DataFrame(np.log(base[base.columns[:15]])-np.log(base[base.columns[:15]].shift(1))).fillna(0)*100\n",
    "retorno=retorno.join(pd.DataFrame(base[base.columns[15:23]]-base[base.columns[15:23]].shift(1)))\n",
    "retorno=retorno.join((np.log(base[base.columns[23:]])-np.log(base[base.columns[23:]].shift(1)))*100)\n",
    "retorno=retorno.dropna()\n",
    "#retorno['USD/MXN']=-retorno['USD/MXN']"
   ]
  },
  {
   "cell_type": "code",
   "execution_count": 11,
   "metadata": {},
   "outputs": [
    {
     "data": {
      "text/html": [
       "<div>\n",
       "<style scoped>\n",
       "    .dataframe tbody tr th:only-of-type {\n",
       "        vertical-align: middle;\n",
       "    }\n",
       "\n",
       "    .dataframe tbody tr th {\n",
       "        vertical-align: top;\n",
       "    }\n",
       "\n",
       "    .dataframe thead th {\n",
       "        text-align: right;\n",
       "    }\n",
       "</style>\n",
       "<table border=\"1\" class=\"dataframe\">\n",
       "  <thead>\n",
       "    <tr style=\"text-align: right;\">\n",
       "      <th></th>\n",
       "      <th>S&amp;P 500 INDEX</th>\n",
       "      <th>ISHARES MSCI EAFE ETF</th>\n",
       "      <th>BRAZIL IBOVESPA INDEX</th>\n",
       "      <th>S&amp;P/CLX IPSA (CLP) TR</th>\n",
       "      <th>S&amp;P/BMV IPC</th>\n",
       "      <th>COLOMBIA COLCAP INDEX</th>\n",
       "      <th>SPX 500 vs ROW</th>\n",
       "      <th>SPX  vs COL</th>\n",
       "      <th>COLOM CDS USD SR 5Y D14 Corp</th>\n",
       "      <th>BRAZIL CDS USD SR 5Y D14 Corp</th>\n",
       "      <th>...</th>\n",
       "      <th>BRL 10Y Bond</th>\n",
       "      <th>CHL 10Y Bond</th>\n",
       "      <th>US 10Y- COL 10Y</th>\n",
       "      <th>USD/BRL</th>\n",
       "      <th>USD/COP</th>\n",
       "      <th>USD/CLP</th>\n",
       "      <th>USD/MXN</th>\n",
       "      <th>EUR/USD</th>\n",
       "      <th>GBP/USD</th>\n",
       "      <th>DXY</th>\n",
       "    </tr>\n",
       "    <tr>\n",
       "      <th>Dates</th>\n",
       "      <th></th>\n",
       "      <th></th>\n",
       "      <th></th>\n",
       "      <th></th>\n",
       "      <th></th>\n",
       "      <th></th>\n",
       "      <th></th>\n",
       "      <th></th>\n",
       "      <th></th>\n",
       "      <th></th>\n",
       "      <th></th>\n",
       "      <th></th>\n",
       "      <th></th>\n",
       "      <th></th>\n",
       "      <th></th>\n",
       "      <th></th>\n",
       "      <th></th>\n",
       "      <th></th>\n",
       "      <th></th>\n",
       "      <th></th>\n",
       "      <th></th>\n",
       "    </tr>\n",
       "  </thead>\n",
       "  <tbody>\n",
       "    <tr>\n",
       "      <td>2012-11-20</td>\n",
       "      <td>0.066313</td>\n",
       "      <td>0.159443</td>\n",
       "      <td>0.000000</td>\n",
       "      <td>-0.272853</td>\n",
       "      <td>0.861803</td>\n",
       "      <td>-0.028677</td>\n",
       "      <td>-0.093129</td>\n",
       "      <td>0.094990</td>\n",
       "      <td>-1.734864</td>\n",
       "      <td>-0.779133</td>\n",
       "      <td>...</td>\n",
       "      <td>0.006</td>\n",
       "      <td>0.022</td>\n",
       "      <td>-0.0678</td>\n",
       "      <td>-0.0017</td>\n",
       "      <td>-0.137571</td>\n",
       "      <td>-0.411193</td>\n",
       "      <td>-0.410555</td>\n",
       "      <td>0.023409</td>\n",
       "      <td>0.113080</td>\n",
       "      <td>0.102576</td>\n",
       "    </tr>\n",
       "    <tr>\n",
       "      <td>2012-11-21</td>\n",
       "      <td>0.231751</td>\n",
       "      <td>0.168751</td>\n",
       "      <td>-0.370565</td>\n",
       "      <td>-0.823536</td>\n",
       "      <td>1.168506</td>\n",
       "      <td>0.282393</td>\n",
       "      <td>0.063001</td>\n",
       "      <td>-0.050642</td>\n",
       "      <td>1.324194</td>\n",
       "      <td>0.819268</td>\n",
       "      <td>...</td>\n",
       "      <td>0.062</td>\n",
       "      <td>0.034</td>\n",
       "      <td>-0.0267</td>\n",
       "      <td>0.0179</td>\n",
       "      <td>-0.016521</td>\n",
       "      <td>-0.033471</td>\n",
       "      <td>0.426636</td>\n",
       "      <td>0.093582</td>\n",
       "      <td>0.156843</td>\n",
       "      <td>-0.030885</td>\n",
       "    </tr>\n",
       "    <tr>\n",
       "      <td>2012-11-22</td>\n",
       "      <td>0.000000</td>\n",
       "      <td>0.000000</td>\n",
       "      <td>0.345939</td>\n",
       "      <td>-0.138562</td>\n",
       "      <td>0.870467</td>\n",
       "      <td>-0.129355</td>\n",
       "      <td>0.000000</td>\n",
       "      <td>0.129355</td>\n",
       "      <td>-0.489685</td>\n",
       "      <td>-0.156810</td>\n",
       "      <td>...</td>\n",
       "      <td>0.006</td>\n",
       "      <td>0.046</td>\n",
       "      <td>0.0030</td>\n",
       "      <td>0.0060</td>\n",
       "      <td>0.000000</td>\n",
       "      <td>-0.230415</td>\n",
       "      <td>-0.231508</td>\n",
       "      <td>0.427800</td>\n",
       "      <td>-0.094076</td>\n",
       "      <td>-0.288311</td>\n",
       "    </tr>\n",
       "    <tr>\n",
       "      <td>2012-11-23</td>\n",
       "      <td>1.294221</td>\n",
       "      <td>2.131029</td>\n",
       "      <td>1.994611</td>\n",
       "      <td>0.086201</td>\n",
       "      <td>-0.268725</td>\n",
       "      <td>-0.149596</td>\n",
       "      <td>-0.836809</td>\n",
       "      <td>1.443817</td>\n",
       "      <td>-0.665651</td>\n",
       "      <td>-0.630675</td>\n",
       "      <td>...</td>\n",
       "      <td>-0.060</td>\n",
       "      <td>0.034</td>\n",
       "      <td>-0.0713</td>\n",
       "      <td>-0.0230</td>\n",
       "      <td>0.428666</td>\n",
       "      <td>0.401834</td>\n",
       "      <td>-0.500876</td>\n",
       "      <td>0.711527</td>\n",
       "      <td>0.569374</td>\n",
       "      <td>-0.630242</td>\n",
       "    </tr>\n",
       "    <tr>\n",
       "      <td>2012-11-26</td>\n",
       "      <td>-0.203165</td>\n",
       "      <td>-0.238619</td>\n",
       "      <td>-1.464276</td>\n",
       "      <td>-0.253746</td>\n",
       "      <td>-0.098523</td>\n",
       "      <td>-0.478950</td>\n",
       "      <td>0.035453</td>\n",
       "      <td>0.275784</td>\n",
       "      <td>1.809445</td>\n",
       "      <td>1.734575</td>\n",
       "      <td>...</td>\n",
       "      <td>-0.039</td>\n",
       "      <td>-0.018</td>\n",
       "      <td>-0.0366</td>\n",
       "      <td>-0.0001</td>\n",
       "      <td>0.016451</td>\n",
       "      <td>0.593511</td>\n",
       "      <td>0.394909</td>\n",
       "      <td>-0.030831</td>\n",
       "      <td>-0.006239</td>\n",
       "      <td>0.073546</td>\n",
       "    </tr>\n",
       "  </tbody>\n",
       "</table>\n",
       "<p>5 rows × 29 columns</p>\n",
       "</div>"
      ],
      "text/plain": [
       "            S&P 500 INDEX  ISHARES MSCI EAFE ETF  BRAZIL IBOVESPA INDEX  \\\n",
       "Dates                                                                     \n",
       "2012-11-20       0.066313               0.159443               0.000000   \n",
       "2012-11-21       0.231751               0.168751              -0.370565   \n",
       "2012-11-22       0.000000               0.000000               0.345939   \n",
       "2012-11-23       1.294221               2.131029               1.994611   \n",
       "2012-11-26      -0.203165              -0.238619              -1.464276   \n",
       "\n",
       "            S&P/CLX IPSA (CLP) TR  S&P/BMV IPC  COLOMBIA COLCAP INDEX  \\\n",
       "Dates                                                                   \n",
       "2012-11-20              -0.272853     0.861803              -0.028677   \n",
       "2012-11-21              -0.823536     1.168506               0.282393   \n",
       "2012-11-22              -0.138562     0.870467              -0.129355   \n",
       "2012-11-23               0.086201    -0.268725              -0.149596   \n",
       "2012-11-26              -0.253746    -0.098523              -0.478950   \n",
       "\n",
       "            SPX 500 vs ROW  SPX  vs COL  COLOM CDS USD SR 5Y D14 Corp  \\\n",
       "Dates                                                                   \n",
       "2012-11-20       -0.093129     0.094990                     -1.734864   \n",
       "2012-11-21        0.063001    -0.050642                      1.324194   \n",
       "2012-11-22        0.000000     0.129355                     -0.489685   \n",
       "2012-11-23       -0.836809     1.443817                     -0.665651   \n",
       "2012-11-26        0.035453     0.275784                      1.809445   \n",
       "\n",
       "            BRAZIL CDS USD SR 5Y D14 Corp  ...  BRL 10Y Bond  CHL 10Y Bond  \\\n",
       "Dates                                      ...                               \n",
       "2012-11-20                      -0.779133  ...         0.006         0.022   \n",
       "2012-11-21                       0.819268  ...         0.062         0.034   \n",
       "2012-11-22                      -0.156810  ...         0.006         0.046   \n",
       "2012-11-23                      -0.630675  ...        -0.060         0.034   \n",
       "2012-11-26                       1.734575  ...        -0.039        -0.018   \n",
       "\n",
       "            US 10Y- COL 10Y  USD/BRL   USD/COP   USD/CLP   USD/MXN   EUR/USD  \\\n",
       "Dates                                                                          \n",
       "2012-11-20          -0.0678  -0.0017 -0.137571 -0.411193 -0.410555  0.023409   \n",
       "2012-11-21          -0.0267   0.0179 -0.016521 -0.033471  0.426636  0.093582   \n",
       "2012-11-22           0.0030   0.0060  0.000000 -0.230415 -0.231508  0.427800   \n",
       "2012-11-23          -0.0713  -0.0230  0.428666  0.401834 -0.500876  0.711527   \n",
       "2012-11-26          -0.0366  -0.0001  0.016451  0.593511  0.394909 -0.030831   \n",
       "\n",
       "             GBP/USD       DXY  \n",
       "Dates                           \n",
       "2012-11-20  0.113080  0.102576  \n",
       "2012-11-21  0.156843 -0.030885  \n",
       "2012-11-22 -0.094076 -0.288311  \n",
       "2012-11-23  0.569374 -0.630242  \n",
       "2012-11-26 -0.006239  0.073546  \n",
       "\n",
       "[5 rows x 29 columns]"
      ]
     },
     "execution_count": 11,
     "metadata": {},
     "output_type": "execute_result"
    }
   ],
   "source": [
    "retorno.head()"
   ]
  },
  {
   "cell_type": "code",
   "execution_count": 12,
   "metadata": {},
   "outputs": [
    {
     "data": {
      "text/plain": [
       "(1846, 29)"
      ]
     },
     "execution_count": 12,
     "metadata": {},
     "output_type": "execute_result"
    }
   ],
   "source": [
    "retorno.shape"
   ]
  },
  {
   "cell_type": "code",
   "execution_count": null,
   "metadata": {},
   "outputs": [],
   "source": []
  },
  {
   "cell_type": "markdown",
   "metadata": {},
   "source": [
    "### PCA - para ver pares similares"
   ]
  },
  {
   "cell_type": "markdown",
   "metadata": {},
   "source": [
    "Para indentificar que activos se pueden parecer más al peso colombiano voy a utilizar PCA. Con el objetivo de descomponer los componentes principales de los retornos y ver que factores se asemejan entre los principales activos"
   ]
  },
  {
   "cell_type": "code",
   "execution_count": 13,
   "metadata": {},
   "outputs": [
    {
     "name": "stdout",
     "output_type": "stream",
     "text": [
      "96.40% of the variance is explained by the first 2 PCs\n"
     ]
    }
   ],
   "source": [
    "#12\n",
    "N_PRIN_COMPONENTS = 12\n",
    "pca = PCA(n_components=N_PRIN_COMPONENTS)\n",
    "pca.fit(retorno)\n",
    "percentage =  pca.explained_variance_ratio_\n",
    "percentage_cum = np.cumsum(percentage)\n",
    "print ('{0:.2f}% of the variance is explained by the first 2 PCs'.format(percentage_cum[-1]*100))\n"
   ]
  },
  {
   "cell_type": "code",
   "execution_count": 14,
   "metadata": {},
   "outputs": [
    {
     "data": {
      "text/plain": [
       "(12, 29)"
      ]
     },
     "execution_count": 14,
     "metadata": {},
     "output_type": "execute_result"
    }
   ],
   "source": [
    "pca.components_[:].shape"
   ]
  },
  {
   "cell_type": "code",
   "execution_count": 15,
   "metadata": {},
   "outputs": [
    {
     "name": "stdout",
     "output_type": "stream",
     "text": [
      "(29, 12)\n"
     ]
    }
   ],
   "source": [
    "X=pca.components_[:].T\n",
    "print(X.shape)"
   ]
  },
  {
   "cell_type": "code",
   "execution_count": 16,
   "metadata": {},
   "outputs": [
    {
     "name": "stdout",
     "output_type": "stream",
     "text": [
      "(29, 12)\n"
     ]
    }
   ],
   "source": [
    "# ---------------------- arreglar los datos escalandolos con el caso estandar -------------------------\n",
    "X = preprocessing.StandardScaler().fit_transform(X) # Z=(x-u)/sigma\n",
    "print (X.shape)"
   ]
  },
  {
   "cell_type": "markdown",
   "metadata": {},
   "source": [
    "### USar algorirmo de clustering DBSCA"
   ]
  },
  {
   "cell_type": "code",
   "execution_count": 17,
   "metadata": {},
   "outputs": [
    {
     "name": "stdout",
     "output_type": "stream",
     "text": [
      "DBSCAN(algorithm='auto', eps=1.9, leaf_size=30, metric='euclidean',\n",
      "       metric_params=None, min_samples=2, n_jobs=None, p=None)\n",
      "\n",
      "Clusters discovered: 4\n"
     ]
    }
   ],
   "source": [
    "clf = DBSCAN(eps=1.9, min_samples=2)\n",
    "print (clf)\n",
    "\n",
    "clf.fit(X)\n",
    "labels = clf.labels_\n",
    "n_clusters_ = len(set(labels)) - (1 if -1 in labels else 0)\n",
    "print (\"\\nClusters discovered: %d\" % n_clusters_)\n",
    "\n",
    "clustered = (clf.labels_)"
   ]
  },
  {
   "cell_type": "code",
   "execution_count": 18,
   "metadata": {},
   "outputs": [
    {
     "data": {
      "text/plain": [
       "array([-1, -1, -1,  0,  0, -1,  1, -1, -1, -1, -1, -1, -1, -1, -1,  2,  2,\n",
       "        2,  2,  2,  2,  2,  2,  1,  1,  1,  3,  3,  1], dtype=int64)"
      ]
     },
     "execution_count": 18,
     "metadata": {},
     "output_type": "execute_result"
    }
   ],
   "source": [
    "labels"
   ]
  },
  {
   "cell_type": "code",
   "execution_count": 19,
   "metadata": {},
   "outputs": [],
   "source": [
    "clustered_series = pd.Series(index=retorno.columns, data=clustered.flatten())\n",
    "clustered_series_all = pd.Series(index=retorno.columns, data=clustered.flatten())\n",
    "clustered_series = clustered_series[clustered_series != -1]"
   ]
  },
  {
   "cell_type": "code",
   "execution_count": 20,
   "metadata": {},
   "outputs": [],
   "source": [
    "X_tsne = TSNE(learning_rate=1000, perplexity=25, random_state=1337).fit_transform(X)"
   ]
  },
  {
   "cell_type": "code",
   "execution_count": 21,
   "metadata": {},
   "outputs": [
    {
     "data": {
      "image/png": "[encoded data removed]",
      "text/plain": [
       "<Figure size 432x288 with 1 Axes>"
      ]
     },
     "metadata": {},
     "output_type": "display_data"
    }
   ],
   "source": [
    "import matplotlib.cm as cm\n",
    "plt.figure(1, facecolor='white')\n",
    "plt.clf()\n",
    "plt.axis('off')\n",
    "\n",
    "plt.scatter(\n",
    "    X_tsne[(labels!=-1), 0],\n",
    "    X_tsne[(labels!=-1), 1],\n",
    "    s=100,\n",
    "    alpha=0.85,\n",
    "    c=labels[labels!=-1],\n",
    "    cmap=cm.Paired\n",
    ")\n",
    "\n",
    "plt.scatter(\n",
    "    X_tsne[(clustered_series_all==-1).values, 0],\n",
    "    X_tsne[(clustered_series_all==-1).values, 1],\n",
    "    s=100,\n",
    "    alpha=0.05\n",
    ")\n",
    "\n",
    "plt.title('T-SNE of all assets with DBSCAN Clusters Noted');"
   ]
  },
  {
   "cell_type": "code",
   "execution_count": 22,
   "metadata": {},
   "outputs": [
    {
     "data": {
      "image/png": "[encoded data removed]",
      "text/plain": [
       "<Figure size 432x288 with 1 Axes>"
      ]
     },
     "metadata": {
      "needs_background": "light"
     },
     "output_type": "display_data"
    }
   ],
   "source": [
    "plt.barh(\n",
    "    range(len(clustered_series.value_counts())),\n",
    "    clustered_series.value_counts()\n",
    ")\n",
    "plt.title('Cluster Member Counts')\n",
    "plt.xlabel('Stocks in Cluster')\n",
    "plt.ylabel('Cluster Number');"
   ]
  },
  {
   "cell_type": "code",
   "execution_count": 23,
   "metadata": {},
   "outputs": [
    {
     "data": {
      "image/png": "[encoded data removed]",
      "text/plain": [
       "<Figure size 432x288 with 1 Axes>"
      ]
     },
     "metadata": {
      "needs_background": "light"
     },
     "output_type": "display_data"
    },
    {
     "data": {
      "image/png": "[encoded data removed]",
      "text/plain": [
       "<Figure size 432x288 with 1 Axes>"
      ]
     },
     "metadata": {
      "needs_background": "light"
     },
     "output_type": "display_data"
    },
    {
     "data": {
      "image/png": "[encoded data removed]",
      "text/plain": [
       "<Figure size 432x288 with 1 Axes>"
      ]
     },
     "metadata": {
      "needs_background": "light"
     },
     "output_type": "display_data"
    }
   ],
   "source": [
    "# get the number of stocks in each cluster\n",
    "counts = clustered_series.value_counts()\n",
    "\n",
    "# let's visualize some clusters\n",
    "cluster_vis_list = list(counts[(counts<20) & (counts>1)].index)[::-1]\n",
    "\n",
    "# plot a handful of the smallest clusters\n",
    "for clust in cluster_vis_list[0:min(len(cluster_vis_list), 3)]:\n",
    "    tickers = list(clustered_series[clustered_series==clust].index)\n",
    "    means = np.log(base[tickers].mean())\n",
    "    data = np.log(base[tickers]).sub(means)\n",
    "    data.plot(title='Stock Time Series for Cluster %d' % clust)"
   ]
  },
  {
   "cell_type": "markdown",
   "metadata": {},
   "source": [
    "Ahora voy a identificar de que cluster es el USD/COP"
   ]
  },
  {
   "cell_type": "code",
   "execution_count": 24,
   "metadata": {},
   "outputs": [
    {
     "data": {
      "text/plain": [
       "SPX 500 vs ROW    1\n",
       "USD/COP           1\n",
       "USD/CLP           1\n",
       "USD/MXN           1\n",
       "DXY               1\n",
       "dtype: int64"
      ]
     },
     "execution_count": 24,
     "metadata": {},
     "output_type": "execute_result"
    }
   ],
   "source": [
    "which_cluster = clustered_series.loc[\"USD/COP\"]\n",
    "clustered_series[clustered_series == which_cluster]"
   ]
  },
  {
   "cell_type": "markdown",
   "metadata": {},
   "source": [
    "Gráfico para el cluster"
   ]
  },
  {
   "cell_type": "code",
   "execution_count": 25,
   "metadata": {},
   "outputs": [
    {
     "data": {
      "image/png": "[encoded data removed]",
      "text/plain": [
       "<Figure size 432x288 with 1 Axes>"
      ]
     },
     "metadata": {
      "needs_background": "light"
     },
     "output_type": "display_data"
    }
   ],
   "source": [
    "tickers = list(clustered_series[clustered_series==which_cluster].index)\n",
    "means = np.log(base[tickers].mean())\n",
    "data = np.log(base[tickers]).sub(means)\n",
    "data.plot(legend=False, title=\"Stock Time Series for Cluster %d\" % which_cluster);"
   ]
  },
  {
   "cell_type": "markdown",
   "metadata": {},
   "source": [
    "# Prueba de cointegración"
   ]
  },
  {
   "cell_type": "code",
   "execution_count": 27,
   "metadata": {},
   "outputs": [],
   "source": [
    "def find_cointegrated_pairs(data, significance=0.05):\n",
    "    # This function is from https://www.quantopian.com/lectures/introduction-to-pairs-trading\n",
    "    n = data.shape[1]\n",
    "    score_matrix = np.zeros((n, n))\n",
    "    pvalue_matrix = np.ones((n, n))\n",
    "    keys = data.keys()\n",
    "    pairs = []\n",
    "    for i in range(n):\n",
    "        for j in range(i+1, n):\n",
    "            S1 = data[keys[i]]\n",
    "            S2 = data[keys[j]]\n",
    "            result = coint(S1, S2)\n",
    "            score = result[0]\n",
    "            pvalue = result[1]\n",
    "            score_matrix[i, j] = score\n",
    "            pvalue_matrix[i, j] = pvalue\n",
    "            if pvalue < significance:\n",
    "                pairs.append((keys[i], keys[j]))\n",
    "    return score_matrix, pvalue_matrix, pairs"
   ]
  },
  {
   "cell_type": "code",
   "execution_count": 28,
   "metadata": {},
   "outputs": [
    {
     "ename": "NameError",
     "evalue": "name 'ticker_count_reduced' is not defined",
     "output_type": "error",
     "traceback": [
      "\u001b[1;31m---------------------------------------------------------------------------\u001b[0m",
      "\u001b[1;31mNameError\u001b[0m                                 Traceback (most recent call last)",
      "\u001b[1;32m<ipython-input-28-a82461741532>\u001b[0m in \u001b[0;36m<module>\u001b[1;34m\u001b[0m\n\u001b[1;32m----> 1\u001b[1;33m \u001b[1;32mfor\u001b[0m \u001b[0mi\u001b[0m\u001b[1;33m,\u001b[0m \u001b[0mwhich_clust\u001b[0m \u001b[1;32min\u001b[0m \u001b[0menumerate\u001b[0m\u001b[1;33m(\u001b[0m\u001b[0mticker_count_reduced\u001b[0m\u001b[1;33m.\u001b[0m\u001b[0mindex\u001b[0m\u001b[1;33m)\u001b[0m\u001b[1;33m:\u001b[0m\u001b[1;33m\u001b[0m\u001b[1;33m\u001b[0m\u001b[0m\n\u001b[0m\u001b[0;32m      2\u001b[0m     \u001b[0mprint\u001b[0m \u001b[1;33m(\u001b[0m\u001b[0mwhich_clust\u001b[0m\u001b[1;33m)\u001b[0m\u001b[1;33m\u001b[0m\u001b[1;33m\u001b[0m\u001b[0m\n",
      "\u001b[1;31mNameError\u001b[0m: name 'ticker_count_reduced' is not defined"
     ]
    }
   ],
   "source": [
    "for i, which_clust in enumerate(ticker_count_reduced.index):\n",
    "    print (which_clust)"
   ]
  },
  {
   "cell_type": "code",
   "execution_count": null,
   "metadata": {},
   "outputs": [],
   "source": [
    "CLUSTER_SIZE_LIMIT = 9999\n",
    "counts = clustered_series.value_counts()\n",
    "ticker_count_reduced = counts[(counts>1) & (counts<=CLUSTER_SIZE_LIMIT)]\n",
    "cluster_dict = {}\n",
    "for i, which_clust in enumerate(ticker_count_reduced.index):\n",
    "    tickers = clustered_series[clustered_series == which_clust].index\n",
    "    score_matrix, pvalue_matrix, pairs = find_cointegrated_pairs(\n",
    "        np.log(base[tickers])\n",
    "    )\n",
    "    cluster_dict[which_clust] = {}\n",
    "    cluster_dict[which_clust]['score_matrix'] = score_matrix\n",
    "    cluster_dict[which_clust]['pvalue_matrix'] = pvalue_matrix\n",
    "    cluster_dict[which_clust]['pairs'] = pairs"
   ]
  },
  {
   "cell_type": "code",
   "execution_count": null,
   "metadata": {},
   "outputs": [],
   "source": [
    "cluster_dict"
   ]
  },
  {
   "cell_type": "code",
   "execution_count": null,
   "metadata": {},
   "outputs": [],
   "source": [
    "pairs = []\n",
    "for clust in cluster_dict.keys():\n",
    "    pairs.extend(cluster_dict[clust]['pairs'])"
   ]
  },
  {
   "cell_type": "code",
   "execution_count": null,
   "metadata": {},
   "outputs": [],
   "source": [
    "pairs"
   ]
  },
  {
   "cell_type": "markdown",
   "metadata": {},
   "source": [
    "#### Ejercicio para tres activos\n",
    "voy a intentar explicar el USD/COP con el CLP y BRL."
   ]
  },
  {
   "cell_type": "code",
   "execution_count": null,
   "metadata": {},
   "outputs": [],
   "source": [
    "if __name__ == \"__main__\":\n",
    "    file_name = 'KalmanExample.txt'\n",
    "    #df = pd.read_csv(file_name, index_col = 0)\n",
    "    prices = base[['USD/COP', 'USD/CLP', 'USD/BRL']]\n",
    "    delta = 1e-3\n",
    "    trans_cov = delta / (1 - delta) * np.eye(3)\n",
    "    obs_mat = np.vstack( [prices['USD/CLP'], prices['USD/BRL'],  \n",
    "                          np.ones(prices['USD/CLP'].shape)]).T[:, np.newaxis]\n",
    "    kf = KalmanFilter(\n",
    "        n_dim_obs=1,\n",
    "        n_dim_state=3,\n",
    "        initial_state_mean=np.zeros(3),\n",
    "        initial_state_covariance=np.ones((3, 3)),\n",
    "        transition_matrices=np.eye(3),\n",
    "        observation_matrices=obs_mat,\n",
    "        observation_covariance=1.0,\n",
    "        transition_covariance=trans_cov        \n",
    "    )\n",
    "\n",
    "    # state_means, state_covs = kf.em(prices['ETF'].values).smooth(prices['ETF'].values)\n",
    "    state_means, state_covs = kf.filter(prices['USD/COP'].values)\n",
    "\n",
    "\n",
    "    # Re-construct ETF from coefficients and 'ASSET_1' and ASSET_2 values:\n",
    "    ETF_est = np.array([a.dot(b) for a, b in zip(np.squeeze(obs_mat), state_means)])\n",
    "\n",
    "    # Draw slope and intercept...\n",
    "    pd.DataFrame(\n",
    "        dict(\n",
    "            slope1=state_means[:, 0],\n",
    "            slope2=state_means[:, 1],\n",
    "            intercept=state_means[:, 2],\n",
    "        ), index=prices.index\n",
    "    ).plot(subplots=True)\n",
    "    plt.show()\n",
    "\n",
    "    # Draw actual y, and estimated y:\n",
    "    datos_prediccion=pd.DataFrame(\n",
    "        dict(\n",
    "            ETF_est=ETF_est,\n",
    "            ETF_act=prices['USD/COP'].values\n",
    "        ), index=prices.index\n",
    "    )\n",
    "    datos_prediccion.plot()\n",
    "    plt.show()"
   ]
  },
  {
   "cell_type": "code",
   "execution_count": null,
   "metadata": {},
   "outputs": [],
   "source": [
    "datos_prediccion[-300:].plot()"
   ]
  },
  {
   "cell_type": "markdown",
   "metadata": {},
   "source": [
    "### Para multiples activos y sus rezagos\n",
    "Voy a hacer dos ejercicio uno con los datos en el momento t y otro con los datos en t-1. Primero voy a hacerlo en el momento t."
   ]
  },
  {
   "cell_type": "markdown",
   "metadata": {},
   "source": [
    "#### Momento t\n",
    "Creo una base de datos que contenga los activos a analizar. Debe dejar el USD/COP de primera y luego agregar los otros activos que quiera usar"
   ]
  },
  {
   "cell_type": "code",
   "execution_count": 26,
   "metadata": {},
   "outputs": [],
   "source": [
    "activos=clustered_series[clustered_series == which_cluster].index.drop(\"USD/COP\")"
   ]
  },
  {
   "cell_type": "code",
   "execution_count": 35,
   "metadata": {},
   "outputs": [],
   "source": [
    "df_1=base[activos].shift(0)\n",
    "df_2=base[activos].shift(1)\n",
    "df=pd.DataFrame(base['USD/COP'])\n",
    "df=df.join(df_2).bfill()\n",
    "\n",
    "df[\"rezago\"]=base[\"USD/COP\"].shift(1)"
   ]
  },
  {
   "cell_type": "code",
   "execution_count": 36,
   "metadata": {},
   "outputs": [
    {
     "data": {
      "text/html": [
       "<div>\n",
       "<style scoped>\n",
       "    .dataframe tbody tr th:only-of-type {\n",
       "        vertical-align: middle;\n",
       "    }\n",
       "\n",
       "    .dataframe tbody tr th {\n",
       "        vertical-align: top;\n",
       "    }\n",
       "\n",
       "    .dataframe thead th {\n",
       "        text-align: right;\n",
       "    }\n",
       "</style>\n",
       "<table border=\"1\" class=\"dataframe\">\n",
       "  <thead>\n",
       "    <tr style=\"text-align: right;\">\n",
       "      <th></th>\n",
       "      <th>USD/COP</th>\n",
       "      <th>SPX 500 vs ROW</th>\n",
       "      <th>USD/CLP</th>\n",
       "      <th>USD/MXN</th>\n",
       "      <th>DXY</th>\n",
       "      <th>rezago</th>\n",
       "    </tr>\n",
       "    <tr>\n",
       "      <th>Dates</th>\n",
       "      <th></th>\n",
       "      <th></th>\n",
       "      <th></th>\n",
       "      <th></th>\n",
       "      <th></th>\n",
       "      <th></th>\n",
       "    </tr>\n",
       "  </thead>\n",
       "  <tbody>\n",
       "    <tr>\n",
       "      <td>2012-11-19</td>\n",
       "      <td>1818.5</td>\n",
       "      <td>32.449538</td>\n",
       "      <td>480.08</td>\n",
       "      <td>13.0579</td>\n",
       "      <td>80.874</td>\n",
       "      <td>NaN</td>\n",
       "    </tr>\n",
       "    <tr>\n",
       "      <td>2012-11-20</td>\n",
       "      <td>1816.0</td>\n",
       "      <td>32.449538</td>\n",
       "      <td>480.08</td>\n",
       "      <td>13.0579</td>\n",
       "      <td>80.874</td>\n",
       "      <td>1818.5</td>\n",
       "    </tr>\n",
       "    <tr>\n",
       "      <td>2012-11-21</td>\n",
       "      <td>1815.7</td>\n",
       "      <td>32.419332</td>\n",
       "      <td>478.11</td>\n",
       "      <td>13.0044</td>\n",
       "      <td>80.957</td>\n",
       "      <td>1816.0</td>\n",
       "    </tr>\n",
       "    <tr>\n",
       "      <td>2012-11-22</td>\n",
       "      <td>1815.7</td>\n",
       "      <td>32.439763</td>\n",
       "      <td>477.95</td>\n",
       "      <td>13.0600</td>\n",
       "      <td>80.932</td>\n",
       "      <td>1815.7</td>\n",
       "    </tr>\n",
       "    <tr>\n",
       "      <td>2012-11-23</td>\n",
       "      <td>1823.5</td>\n",
       "      <td>32.439763</td>\n",
       "      <td>476.85</td>\n",
       "      <td>13.0298</td>\n",
       "      <td>80.699</td>\n",
       "      <td>1815.7</td>\n",
       "    </tr>\n",
       "  </tbody>\n",
       "</table>\n",
       "</div>"
      ],
      "text/plain": [
       "            USD/COP  SPX 500 vs ROW  USD/CLP  USD/MXN     DXY  rezago\n",
       "Dates                                                                \n",
       "2012-11-19   1818.5       32.449538   480.08  13.0579  80.874     NaN\n",
       "2012-11-20   1816.0       32.449538   480.08  13.0579  80.874  1818.5\n",
       "2012-11-21   1815.7       32.419332   478.11  13.0044  80.957  1816.0\n",
       "2012-11-22   1815.7       32.439763   477.95  13.0600  80.932  1815.7\n",
       "2012-11-23   1823.5       32.439763   476.85  13.0298  80.699  1815.7"
      ]
     },
     "execution_count": 36,
     "metadata": {},
     "output_type": "execute_result"
    }
   ],
   "source": [
    "df.head()"
   ]
  },
  {
   "cell_type": "code",
   "execution_count": 37,
   "metadata": {},
   "outputs": [
    {
     "data": {
      "text/html": [
       "<div>\n",
       "<style scoped>\n",
       "    .dataframe tbody tr th:only-of-type {\n",
       "        vertical-align: middle;\n",
       "    }\n",
       "\n",
       "    .dataframe tbody tr th {\n",
       "        vertical-align: top;\n",
       "    }\n",
       "\n",
       "    .dataframe thead th {\n",
       "        text-align: right;\n",
       "    }\n",
       "</style>\n",
       "<table border=\"1\" class=\"dataframe\">\n",
       "  <thead>\n",
       "    <tr style=\"text-align: right;\">\n",
       "      <th></th>\n",
       "      <th>SPX 500 vs ROW</th>\n",
       "      <th>USD/CLP</th>\n",
       "      <th>USD/MXN</th>\n",
       "      <th>DXY</th>\n",
       "    </tr>\n",
       "    <tr>\n",
       "      <th>Dates</th>\n",
       "      <th></th>\n",
       "      <th></th>\n",
       "      <th></th>\n",
       "      <th></th>\n",
       "    </tr>\n",
       "  </thead>\n",
       "  <tbody>\n",
       "    <tr>\n",
       "      <td>2012-11-19</td>\n",
       "      <td>32.449538</td>\n",
       "      <td>480.08</td>\n",
       "      <td>13.0579</td>\n",
       "      <td>80.874</td>\n",
       "    </tr>\n",
       "    <tr>\n",
       "      <td>2012-11-20</td>\n",
       "      <td>32.419332</td>\n",
       "      <td>478.11</td>\n",
       "      <td>13.0044</td>\n",
       "      <td>80.957</td>\n",
       "    </tr>\n",
       "    <tr>\n",
       "      <td>2012-11-21</td>\n",
       "      <td>32.439763</td>\n",
       "      <td>477.95</td>\n",
       "      <td>13.0600</td>\n",
       "      <td>80.932</td>\n",
       "    </tr>\n",
       "    <tr>\n",
       "      <td>2012-11-22</td>\n",
       "      <td>32.439763</td>\n",
       "      <td>476.85</td>\n",
       "      <td>13.0298</td>\n",
       "      <td>80.699</td>\n",
       "    </tr>\n",
       "    <tr>\n",
       "      <td>2012-11-23</td>\n",
       "      <td>32.169437</td>\n",
       "      <td>478.77</td>\n",
       "      <td>12.9647</td>\n",
       "      <td>80.192</td>\n",
       "    </tr>\n",
       "  </tbody>\n",
       "</table>\n",
       "</div>"
      ],
      "text/plain": [
       "            SPX 500 vs ROW  USD/CLP  USD/MXN     DXY\n",
       "Dates                                               \n",
       "2012-11-19       32.449538   480.08  13.0579  80.874\n",
       "2012-11-20       32.419332   478.11  13.0044  80.957\n",
       "2012-11-21       32.439763   477.95  13.0600  80.932\n",
       "2012-11-22       32.439763   476.85  13.0298  80.699\n",
       "2012-11-23       32.169437   478.77  12.9647  80.192"
      ]
     },
     "execution_count": 37,
     "metadata": {},
     "output_type": "execute_result"
    }
   ],
   "source": [
    "base[activos].head()"
   ]
  },
  {
   "cell_type": "code",
   "execution_count": 38,
   "metadata": {},
   "outputs": [],
   "source": [
    "def filtro_de_kalman(df):########################## Parámetros ##########################\n",
    "    numero_activos=len(df.columns)\n",
    "    prices = df.bfill()\n",
    "    delta = 1e-3\n",
    "    trans_cov = delta / (1 - delta) * np.eye(numero_activos)\n",
    "\n",
    "    ########################## Matriz de observaciones #################\n",
    "    # Empiezo en 1 porque 0 es el USD/COP\n",
    "    obs_mat=prices[prices.columns[1]]\n",
    "    for i in range(2,len(prices.columns)):\n",
    "        obs_mat=np.vstack([obs_mat,prices[prices.columns[i]]])\n",
    "    obs_mat=np.vstack([obs_mat,np.ones(prices[prices.columns[1]].shape)]).T[:, np.newaxis]\n",
    "\n",
    "    #obs_mat = np.vstack( [prices['USD/BRL'],prices['USD/CLP'],prices['USD/MXN'], prices[\"DXY\"],prices['COLOM CDS USD SR 5Y D14 Corp'],\n",
    "    #                      prices['CL1 Comdty'],\n",
    "    #                          np.ones(prices['USD/CLP'].shape)]).T[:, np.newaxis]\n",
    "\n",
    "    ##################### Modelo del Filtro de kalman ####################\n",
    "    kf = KalmanFilter(\n",
    "        n_dim_obs=1,\n",
    "        n_dim_state=numero_activos,\n",
    "        initial_state_mean=np.zeros(numero_activos),\n",
    "        initial_state_covariance=np.ones((numero_activos, numero_activos)),\n",
    "        transition_matrices=np.eye(numero_activos),\n",
    "        observation_matrices=obs_mat,\n",
    "        observation_covariance=1.0,\n",
    "        transition_covariance=trans_cov        \n",
    "        )\n",
    "\n",
    "        # state_means, state_covs = kf.em(prices['ETF'].values).smooth(prices['ETF'].values)\n",
    "    state_means, state_covs = kf.filter(prices[prices.columns[0]].values)\n",
    "\n",
    "    ################## Crear data frame de los betas ####################\n",
    "    dict_1={}\n",
    "    for i in range(0,len(prices.columns)-1):\n",
    "        dict_1[prices.columns[i+1]]=state_means[:, i]\n",
    "    dict_1[\"intercept\"]=state_means[:,len(prices.columns)-1]\n",
    "    datos_betas=pd.DataFrame(dict_1,index=prices.index)\n",
    "    \n",
    "    #datos_betas=pd.DataFrame(\n",
    "#    dict(\n",
    "#        #beta_rezago=state_means[:, 0],\n",
    "#        beta_real=state_means[:, 0],\n",
    "#        beta_clp=state_means[:, 1],\n",
    "#        beta_mxn=state_means[:, 2],\n",
    "#        beta_dxy=state_means[:, 3],\n",
    "#        beta_cds=state_means[:, 4],\n",
    "#        beta_cl1=state_means[:, 5],\n",
    "#        intercept=state_means[:, 6],\n",
    "#        ), index=prices.index\n",
    "#    )\n",
    "    return datos_betas"
   ]
  },
  {
   "cell_type": "code",
   "execution_count": 39,
   "metadata": {},
   "outputs": [
    {
     "data": {
      "text/plain": [
       "1847"
      ]
     },
     "execution_count": 39,
     "metadata": {},
     "output_type": "execute_result"
    }
   ],
   "source": [
    "len(base)"
   ]
  },
  {
   "cell_type": "code",
   "execution_count": 41,
   "metadata": {},
   "outputs": [],
   "source": [
    "prueba=1400\n",
    "betas_out=pd.DataFrame()\n",
    "for i in range(0,prueba+1):\n",
    "    df_betas=(df[:len(df)-prueba+i])\n",
    "    betas_out=betas_out.append(filtro_de_kalman(df_betas)[-1:],sort=True)"
   ]
  },
  {
   "cell_type": "code",
   "execution_count": 42,
   "metadata": {},
   "outputs": [
    {
     "data": {
      "text/plain": [
       "1401"
      ]
     },
     "execution_count": 42,
     "metadata": {},
     "output_type": "execute_result"
    }
   ],
   "source": [
    "len(betas_out)"
   ]
  },
  {
   "cell_type": "code",
   "execution_count": 43,
   "metadata": {},
   "outputs": [
    {
     "data": {
      "text/html": [
       "<div>\n",
       "<style scoped>\n",
       "    .dataframe tbody tr th:only-of-type {\n",
       "        vertical-align: middle;\n",
       "    }\n",
       "\n",
       "    .dataframe tbody tr th {\n",
       "        vertical-align: top;\n",
       "    }\n",
       "\n",
       "    .dataframe thead th {\n",
       "        text-align: right;\n",
       "    }\n",
       "</style>\n",
       "<table border=\"1\" class=\"dataframe\">\n",
       "  <thead>\n",
       "    <tr style=\"text-align: right;\">\n",
       "      <th></th>\n",
       "      <th>DXY</th>\n",
       "      <th>SPX 500 vs ROW</th>\n",
       "      <th>USD/CLP</th>\n",
       "      <th>USD/MXN</th>\n",
       "      <th>intercept</th>\n",
       "      <th>rezago</th>\n",
       "    </tr>\n",
       "    <tr>\n",
       "      <th>Dates</th>\n",
       "      <th></th>\n",
       "      <th></th>\n",
       "      <th></th>\n",
       "      <th></th>\n",
       "      <th></th>\n",
       "      <th></th>\n",
       "    </tr>\n",
       "  </thead>\n",
       "  <tbody>\n",
       "    <tr>\n",
       "      <td>2014-08-05</td>\n",
       "      <td>0.794914</td>\n",
       "      <td>0.765192</td>\n",
       "      <td>0.775046</td>\n",
       "      <td>0.754647</td>\n",
       "      <td>0.750248</td>\n",
       "      <td>0.716559</td>\n",
       "    </tr>\n",
       "    <tr>\n",
       "      <td>2014-08-06</td>\n",
       "      <td>0.795599</td>\n",
       "      <td>0.765246</td>\n",
       "      <td>0.768194</td>\n",
       "      <td>0.754548</td>\n",
       "      <td>0.750257</td>\n",
       "      <td>0.708457</td>\n",
       "    </tr>\n",
       "    <tr>\n",
       "      <td>2014-08-07</td>\n",
       "      <td>0.795907</td>\n",
       "      <td>0.765394</td>\n",
       "      <td>0.770005</td>\n",
       "      <td>0.754557</td>\n",
       "      <td>0.750260</td>\n",
       "      <td>0.710407</td>\n",
       "    </tr>\n",
       "    <tr>\n",
       "      <td>2014-08-08</td>\n",
       "      <td>0.796009</td>\n",
       "      <td>0.765459</td>\n",
       "      <td>0.770485</td>\n",
       "      <td>0.754586</td>\n",
       "      <td>0.750261</td>\n",
       "      <td>0.712059</td>\n",
       "    </tr>\n",
       "    <tr>\n",
       "      <td>2014-08-11</td>\n",
       "      <td>0.796082</td>\n",
       "      <td>0.765223</td>\n",
       "      <td>0.771239</td>\n",
       "      <td>0.754607</td>\n",
       "      <td>0.750260</td>\n",
       "      <td>0.706954</td>\n",
       "    </tr>\n",
       "    <tr>\n",
       "      <td>...</td>\n",
       "      <td>...</td>\n",
       "      <td>...</td>\n",
       "      <td>...</td>\n",
       "      <td>...</td>\n",
       "      <td>...</td>\n",
       "      <td>...</td>\n",
       "    </tr>\n",
       "    <tr>\n",
       "      <td>2019-12-11</td>\n",
       "      <td>2.221919</td>\n",
       "      <td>1.399526</td>\n",
       "      <td>2.856197</td>\n",
       "      <td>0.955109</td>\n",
       "      <td>0.766965</td>\n",
       "      <td>0.249712</td>\n",
       "    </tr>\n",
       "    <tr>\n",
       "      <td>2019-12-12</td>\n",
       "      <td>2.225089</td>\n",
       "      <td>1.401274</td>\n",
       "      <td>2.854203</td>\n",
       "      <td>0.955381</td>\n",
       "      <td>0.767014</td>\n",
       "      <td>0.259272</td>\n",
       "    </tr>\n",
       "    <tr>\n",
       "      <td>2019-12-13</td>\n",
       "      <td>2.226101</td>\n",
       "      <td>1.401563</td>\n",
       "      <td>2.855329</td>\n",
       "      <td>0.955306</td>\n",
       "      <td>0.767016</td>\n",
       "      <td>0.263089</td>\n",
       "    </tr>\n",
       "    <tr>\n",
       "      <td>2019-12-16</td>\n",
       "      <td>2.226344</td>\n",
       "      <td>1.402155</td>\n",
       "      <td>2.862363</td>\n",
       "      <td>0.955311</td>\n",
       "      <td>0.767011</td>\n",
       "      <td>0.256579</td>\n",
       "    </tr>\n",
       "    <tr>\n",
       "      <td>2019-12-17</td>\n",
       "      <td>2.226459</td>\n",
       "      <td>1.402194</td>\n",
       "      <td>2.862955</td>\n",
       "      <td>0.955319</td>\n",
       "      <td>0.767013</td>\n",
       "      <td>0.256951</td>\n",
       "    </tr>\n",
       "  </tbody>\n",
       "</table>\n",
       "<p>1401 rows × 6 columns</p>\n",
       "</div>"
      ],
      "text/plain": [
       "                 DXY  SPX 500 vs ROW   USD/CLP   USD/MXN  intercept    rezago\n",
       "Dates                                                                        \n",
       "2014-08-05  0.794914        0.765192  0.775046  0.754647   0.750248  0.716559\n",
       "2014-08-06  0.795599        0.765246  0.768194  0.754548   0.750257  0.708457\n",
       "2014-08-07  0.795907        0.765394  0.770005  0.754557   0.750260  0.710407\n",
       "2014-08-08  0.796009        0.765459  0.770485  0.754586   0.750261  0.712059\n",
       "2014-08-11  0.796082        0.765223  0.771239  0.754607   0.750260  0.706954\n",
       "...              ...             ...       ...       ...        ...       ...\n",
       "2019-12-11  2.221919        1.399526  2.856197  0.955109   0.766965  0.249712\n",
       "2019-12-12  2.225089        1.401274  2.854203  0.955381   0.767014  0.259272\n",
       "2019-12-13  2.226101        1.401563  2.855329  0.955306   0.767016  0.263089\n",
       "2019-12-16  2.226344        1.402155  2.862363  0.955311   0.767011  0.256579\n",
       "2019-12-17  2.226459        1.402194  2.862955  0.955319   0.767013  0.256951\n",
       "\n",
       "[1401 rows x 6 columns]"
      ]
     },
     "execution_count": 43,
     "metadata": {},
     "output_type": "execute_result"
    }
   ],
   "source": [
    "betas_out"
   ]
  },
  {
   "cell_type": "code",
   "execution_count": 44,
   "metadata": {},
   "outputs": [],
   "source": [
    "betas_out.tail(1).sort_values(by=betas_out.index[len(betas_out)-1],axis=1,ascending=False)\n",
    "orden=betas_out.tail(1).sort_values(by=betas_out.index[len(betas_out)-1],axis=1,ascending=False).columns"
   ]
  },
  {
   "cell_type": "code",
   "execution_count": 45,
   "metadata": {},
   "outputs": [
    {
     "data": {
      "image/png": "[encoded data removed]",
      "text/plain": [
       "<Figure size 1080x1080 with 6 Axes>"
      ]
     },
     "metadata": {
      "needs_background": "light"
     },
     "output_type": "display_data"
    }
   ],
   "source": [
    "betas_out[orden].plot(subplots=True,figsize=(15,15))\n",
    "plt.show()"
   ]
  },
  {
   "cell_type": "markdown",
   "metadata": {},
   "source": [
    "# Prueba"
   ]
  },
  {
   "cell_type": "code",
   "execution_count": 46,
   "metadata": {},
   "outputs": [
    {
     "data": {
      "text/html": [
       "<div>\n",
       "<style scoped>\n",
       "    .dataframe tbody tr th:only-of-type {\n",
       "        vertical-align: middle;\n",
       "    }\n",
       "\n",
       "    .dataframe tbody tr th {\n",
       "        vertical-align: top;\n",
       "    }\n",
       "\n",
       "    .dataframe thead th {\n",
       "        text-align: right;\n",
       "    }\n",
       "</style>\n",
       "<table border=\"1\" class=\"dataframe\">\n",
       "  <thead>\n",
       "    <tr style=\"text-align: right;\">\n",
       "      <th></th>\n",
       "      <th>DXY</th>\n",
       "      <th>SPX 500 vs ROW</th>\n",
       "      <th>USD/CLP</th>\n",
       "      <th>USD/MXN</th>\n",
       "      <th>intercept</th>\n",
       "      <th>rezago</th>\n",
       "    </tr>\n",
       "    <tr>\n",
       "      <th>Dates</th>\n",
       "      <th></th>\n",
       "      <th></th>\n",
       "      <th></th>\n",
       "      <th></th>\n",
       "      <th></th>\n",
       "      <th></th>\n",
       "    </tr>\n",
       "  </thead>\n",
       "  <tbody>\n",
       "    <tr>\n",
       "      <td>2019-12-11</td>\n",
       "      <td>2.221919</td>\n",
       "      <td>1.399526</td>\n",
       "      <td>2.856197</td>\n",
       "      <td>0.955109</td>\n",
       "      <td>0.766965</td>\n",
       "      <td>0.249712</td>\n",
       "    </tr>\n",
       "    <tr>\n",
       "      <td>2019-12-12</td>\n",
       "      <td>2.225089</td>\n",
       "      <td>1.401274</td>\n",
       "      <td>2.854203</td>\n",
       "      <td>0.955381</td>\n",
       "      <td>0.767014</td>\n",
       "      <td>0.259272</td>\n",
       "    </tr>\n",
       "    <tr>\n",
       "      <td>2019-12-13</td>\n",
       "      <td>2.226101</td>\n",
       "      <td>1.401563</td>\n",
       "      <td>2.855329</td>\n",
       "      <td>0.955306</td>\n",
       "      <td>0.767016</td>\n",
       "      <td>0.263089</td>\n",
       "    </tr>\n",
       "    <tr>\n",
       "      <td>2019-12-16</td>\n",
       "      <td>2.226344</td>\n",
       "      <td>1.402155</td>\n",
       "      <td>2.862363</td>\n",
       "      <td>0.955311</td>\n",
       "      <td>0.767011</td>\n",
       "      <td>0.256579</td>\n",
       "    </tr>\n",
       "    <tr>\n",
       "      <td>2019-12-17</td>\n",
       "      <td>2.226459</td>\n",
       "      <td>1.402194</td>\n",
       "      <td>2.862955</td>\n",
       "      <td>0.955319</td>\n",
       "      <td>0.767013</td>\n",
       "      <td>0.256951</td>\n",
       "    </tr>\n",
       "  </tbody>\n",
       "</table>\n",
       "</div>"
      ],
      "text/plain": [
       "                 DXY  SPX 500 vs ROW   USD/CLP   USD/MXN  intercept    rezago\n",
       "Dates                                                                        \n",
       "2019-12-11  2.221919        1.399526  2.856197  0.955109   0.766965  0.249712\n",
       "2019-12-12  2.225089        1.401274  2.854203  0.955381   0.767014  0.259272\n",
       "2019-12-13  2.226101        1.401563  2.855329  0.955306   0.767016  0.263089\n",
       "2019-12-16  2.226344        1.402155  2.862363  0.955311   0.767011  0.256579\n",
       "2019-12-17  2.226459        1.402194  2.862955  0.955319   0.767013  0.256951"
      ]
     },
     "execution_count": 46,
     "metadata": {},
     "output_type": "execute_result"
    }
   ],
   "source": [
    "# Betas normal\n",
    "betas_out.tail()"
   ]
  },
  {
   "cell_type": "code",
   "execution_count": 49,
   "metadata": {},
   "outputs": [
    {
     "data": {
      "text/plain": [
       "Index(['DXY', 'SPX 500 vs ROW', 'USD/CLP', 'USD/MXN', 'intercept', 'rezago'], dtype='object')"
      ]
     },
     "execution_count": 49,
     "metadata": {},
     "output_type": "execute_result"
    }
   ],
   "source": [
    "# Betas rezagados un periodo \n",
    "betas=betas_out.shift().ffill()\n",
    "betas.columns"
   ]
  },
  {
   "cell_type": "code",
   "execution_count": 52,
   "metadata": {},
   "outputs": [],
   "source": [
    "betas=betas[['DXY', 'SPX 500 vs ROW', 'USD/CLP', 'USD/MXN', 'rezago','intercept']]"
   ]
  },
  {
   "cell_type": "code",
   "execution_count": 53,
   "metadata": {},
   "outputs": [
    {
     "data": {
      "text/html": [
       "<div>\n",
       "<style scoped>\n",
       "    .dataframe tbody tr th:only-of-type {\n",
       "        vertical-align: middle;\n",
       "    }\n",
       "\n",
       "    .dataframe tbody tr th {\n",
       "        vertical-align: top;\n",
       "    }\n",
       "\n",
       "    .dataframe thead th {\n",
       "        text-align: right;\n",
       "    }\n",
       "</style>\n",
       "<table border=\"1\" class=\"dataframe\">\n",
       "  <thead>\n",
       "    <tr style=\"text-align: right;\">\n",
       "      <th></th>\n",
       "      <th>DXY</th>\n",
       "      <th>SPX 500 vs ROW</th>\n",
       "      <th>USD/CLP</th>\n",
       "      <th>USD/MXN</th>\n",
       "      <th>rezago</th>\n",
       "      <th>intercepto</th>\n",
       "    </tr>\n",
       "    <tr>\n",
       "      <th>Dates</th>\n",
       "      <th></th>\n",
       "      <th></th>\n",
       "      <th></th>\n",
       "      <th></th>\n",
       "      <th></th>\n",
       "      <th></th>\n",
       "    </tr>\n",
       "  </thead>\n",
       "  <tbody>\n",
       "    <tr>\n",
       "      <td>2019-12-11</td>\n",
       "      <td>97.413</td>\n",
       "      <td>46.339944</td>\n",
       "      <td>778.79</td>\n",
       "      <td>19.2564</td>\n",
       "      <td>3405.0</td>\n",
       "      <td>1</td>\n",
       "    </tr>\n",
       "    <tr>\n",
       "      <td>2019-12-12</td>\n",
       "      <td>97.078</td>\n",
       "      <td>46.231239</td>\n",
       "      <td>769.78</td>\n",
       "      <td>19.1176</td>\n",
       "      <td>3375.1</td>\n",
       "      <td>1</td>\n",
       "    </tr>\n",
       "    <tr>\n",
       "      <td>2019-12-13</td>\n",
       "      <td>97.452</td>\n",
       "      <td>46.317690</td>\n",
       "      <td>769.45</td>\n",
       "      <td>19.0597</td>\n",
       "      <td>3372.0</td>\n",
       "      <td>1</td>\n",
       "    </tr>\n",
       "    <tr>\n",
       "      <td>2019-12-16</td>\n",
       "      <td>97.171</td>\n",
       "      <td>46.001841</td>\n",
       "      <td>763.63</td>\n",
       "      <td>19.0407</td>\n",
       "      <td>3385.0</td>\n",
       "      <td>1</td>\n",
       "    </tr>\n",
       "    <tr>\n",
       "      <td>2019-12-17</td>\n",
       "      <td>96.965</td>\n",
       "      <td>45.840994</td>\n",
       "      <td>761.71</td>\n",
       "      <td>18.9323</td>\n",
       "      <td>3354.1</td>\n",
       "      <td>1</td>\n",
       "    </tr>\n",
       "  </tbody>\n",
       "</table>\n",
       "</div>"
      ],
      "text/plain": [
       "               DXY  SPX 500 vs ROW  USD/CLP  USD/MXN  rezago  intercepto\n",
       "Dates                                                                   \n",
       "2019-12-11  97.413       46.339944   778.79  19.2564  3405.0           1\n",
       "2019-12-12  97.078       46.231239   769.78  19.1176  3375.1           1\n",
       "2019-12-13  97.452       46.317690   769.45  19.0597  3372.0           1\n",
       "2019-12-16  97.171       46.001841   763.63  19.0407  3385.0           1\n",
       "2019-12-17  96.965       45.840994   761.71  18.9323  3354.1           1"
      ]
     },
     "execution_count": 53,
     "metadata": {},
     "output_type": "execute_result"
    }
   ],
   "source": [
    "precios_prueba=pd.DataFrame(df[betas.columns[:-1]])[betas_out.index[0]:]\n",
    "\n",
    "precios_prueba[\"intercepto\"]=1\n",
    "precios_prueba.tail()"
   ]
  },
  {
   "cell_type": "code",
   "execution_count": 54,
   "metadata": {},
   "outputs": [
    {
     "data": {
      "text/plain": [
       "Dates\n",
       "2019-12-11    3375.1\n",
       "2019-12-12    3372.0\n",
       "2019-12-13    3385.0\n",
       "2019-12-16    3354.1\n",
       "2019-12-17    3341.6\n",
       "Name: USD/COP, dtype: float64"
      ]
     },
     "execution_count": 54,
     "metadata": {},
     "output_type": "execute_result"
    }
   ],
   "source": [
    "base['USD/COP'][:].tail()"
   ]
  },
  {
   "cell_type": "code",
   "execution_count": 55,
   "metadata": {},
   "outputs": [
    {
     "data": {
      "text/html": [
       "<div>\n",
       "<style scoped>\n",
       "    .dataframe tbody tr th:only-of-type {\n",
       "        vertical-align: middle;\n",
       "    }\n",
       "\n",
       "    .dataframe tbody tr th {\n",
       "        vertical-align: top;\n",
       "    }\n",
       "\n",
       "    .dataframe thead th {\n",
       "        text-align: right;\n",
       "    }\n",
       "</style>\n",
       "<table border=\"1\" class=\"dataframe\">\n",
       "  <thead>\n",
       "    <tr style=\"text-align: right;\">\n",
       "      <th></th>\n",
       "      <th>pronostico</th>\n",
       "    </tr>\n",
       "    <tr>\n",
       "      <th>Dates</th>\n",
       "      <th></th>\n",
       "    </tr>\n",
       "  </thead>\n",
       "  <tbody>\n",
       "    <tr>\n",
       "      <td>2019-12-11</td>\n",
       "      <td>3410.279434</td>\n",
       "    </tr>\n",
       "    <tr>\n",
       "      <td>2019-12-12</td>\n",
       "      <td>3340.873107</td>\n",
       "    </tr>\n",
       "    <tr>\n",
       "      <td>2019-12-13</td>\n",
       "      <td>3371.149788</td>\n",
       "    </tr>\n",
       "    <tr>\n",
       "      <td>2019-12-16</td>\n",
       "      <td>3370.714614</td>\n",
       "    </tr>\n",
       "    <tr>\n",
       "      <td>2019-12-17</td>\n",
       "      <td>3339.889621</td>\n",
       "    </tr>\n",
       "  </tbody>\n",
       "</table>\n",
       "</div>"
      ],
      "text/plain": [
       "             pronostico\n",
       "Dates                  \n",
       "2019-12-11  3410.279434\n",
       "2019-12-12  3340.873107\n",
       "2019-12-13  3371.149788\n",
       "2019-12-16  3370.714614\n",
       "2019-12-17  3339.889621"
      ]
     },
     "execution_count": 55,
     "metadata": {},
     "output_type": "execute_result"
    }
   ],
   "source": [
    "pronostico=pd.DataFrame(np.multiply(np.array(precios_prueba), np.array(betas)).sum(axis=1), index=precios_prueba.index,columns=[\"pronostico\"])\n",
    "pronostico.tail()"
   ]
  },
  {
   "cell_type": "code",
   "execution_count": 64,
   "metadata": {},
   "outputs": [
    {
     "data": {
      "text/html": [
       "<div>\n",
       "<style scoped>\n",
       "    .dataframe tbody tr th:only-of-type {\n",
       "        vertical-align: middle;\n",
       "    }\n",
       "\n",
       "    .dataframe tbody tr th {\n",
       "        vertical-align: top;\n",
       "    }\n",
       "\n",
       "    .dataframe thead th {\n",
       "        text-align: right;\n",
       "    }\n",
       "</style>\n",
       "<table border=\"1\" class=\"dataframe\">\n",
       "  <thead>\n",
       "    <tr style=\"text-align: right;\">\n",
       "      <th></th>\n",
       "      <th>pronostico</th>\n",
       "    </tr>\n",
       "    <tr>\n",
       "      <th>Dates</th>\n",
       "      <th></th>\n",
       "    </tr>\n",
       "  </thead>\n",
       "  <tbody>\n",
       "    <tr>\n",
       "      <td>2019-12-11</td>\n",
       "      <td>3340.873107</td>\n",
       "    </tr>\n",
       "    <tr>\n",
       "      <td>2019-12-12</td>\n",
       "      <td>3371.149788</td>\n",
       "    </tr>\n",
       "    <tr>\n",
       "      <td>2019-12-13</td>\n",
       "      <td>3370.714614</td>\n",
       "    </tr>\n",
       "    <tr>\n",
       "      <td>2019-12-16</td>\n",
       "      <td>3339.889621</td>\n",
       "    </tr>\n",
       "    <tr>\n",
       "      <td>2019-12-17</td>\n",
       "      <td>NaN</td>\n",
       "    </tr>\n",
       "  </tbody>\n",
       "</table>\n",
       "</div>"
      ],
      "text/plain": [
       "             pronostico\n",
       "Dates                  \n",
       "2019-12-11  3340.873107\n",
       "2019-12-12  3371.149788\n",
       "2019-12-13  3370.714614\n",
       "2019-12-16  3339.889621\n",
       "2019-12-17          NaN"
      ]
     },
     "execution_count": 64,
     "metadata": {},
     "output_type": "execute_result"
    }
   ],
   "source": [
    "pronostico[-300:].shift(-1).tail()"
   ]
  },
  {
   "cell_type": "code",
   "execution_count": 63,
   "metadata": {},
   "outputs": [
    {
     "data": {
      "image/png": "[encoded data removed]",
      "text/plain": [
       "<Figure size 1080x432 with 1 Axes>"
      ]
     },
     "metadata": {
      "needs_background": "light"
     },
     "output_type": "display_data"
    }
   ],
   "source": [
    "grph=pronostico[-500:]\n",
    "(grph.shift()).plot(figsize=(15,6))\n",
    "base['USD/COP'][-len(grph):].plot(figsize=(15,6))\n",
    "plt.show()\n"
   ]
  },
  {
   "cell_type": "code",
   "execution_count": 61,
   "metadata": {},
   "outputs": [
    {
     "data": {
      "text/plain": [
       "<matplotlib.axes._subplots.AxesSubplot at 0x2239285acc8>"
      ]
     },
     "execution_count": 61,
     "metadata": {},
     "output_type": "execute_result"
    },
    {
     "data": {
      "image/png": "[encoded data removed]",
      "text/plain": [
       "<Figure size 432x288 with 1 Axes>"
      ]
     },
     "metadata": {
      "needs_background": "light"
     },
     "output_type": "display_data"
    }
   ],
   "source": [
    "(base['USD/COP'][-len(pronostico):]-pronostico[pronostico.columns[0]]).plot()"
   ]
  },
  {
   "cell_type": "markdown",
   "metadata": {},
   "source": [
    "# Backtest"
   ]
  },
  {
   "cell_type": "code",
   "execution_count": 80,
   "metadata": {},
   "outputs": [],
   "source": [
    "base_pronostico=pronostico.shift(-1)\n",
    "base_datos_reales=base['USD/COP'][-len(pronostico):]\n",
    "\n",
    "r_p=base_pronostico.join(base_datos_reales)\n",
    "r_p[\"fcst\"]=(r_p[\"pronostico\"]/r_p[\"USD/COP\"]-1)*100\n",
    "r_p[\"long\"]=np.where(r_p[\"fcst\"]>0,1,0)\n",
    "r_p[\"short\"]=np.where(r_p[\"fcst\"]<0,-1,0)\n",
    "r_p[\"accion\"]=r_p[\"long\"].shift(1)+r_p[\"short\"].shift(1)"
   ]
  },
  {
   "cell_type": "code",
   "execution_count": 81,
   "metadata": {},
   "outputs": [
    {
     "data": {
      "text/html": [
       "<div>\n",
       "<style scoped>\n",
       "    .dataframe tbody tr th:only-of-type {\n",
       "        vertical-align: middle;\n",
       "    }\n",
       "\n",
       "    .dataframe tbody tr th {\n",
       "        vertical-align: top;\n",
       "    }\n",
       "\n",
       "    .dataframe thead th {\n",
       "        text-align: right;\n",
       "    }\n",
       "</style>\n",
       "<table border=\"1\" class=\"dataframe\">\n",
       "  <thead>\n",
       "    <tr style=\"text-align: right;\">\n",
       "      <th></th>\n",
       "      <th>pronostico</th>\n",
       "      <th>USD/COP</th>\n",
       "      <th>fcst</th>\n",
       "      <th>long</th>\n",
       "      <th>short</th>\n",
       "      <th>accion</th>\n",
       "    </tr>\n",
       "    <tr>\n",
       "      <th>Dates</th>\n",
       "      <th></th>\n",
       "      <th></th>\n",
       "      <th></th>\n",
       "      <th></th>\n",
       "      <th></th>\n",
       "      <th></th>\n",
       "    </tr>\n",
       "  </thead>\n",
       "  <tbody>\n",
       "    <tr>\n",
       "      <td>2014-08-06</td>\n",
       "      <td>1881.643612</td>\n",
       "      <td>1886.36</td>\n",
       "      <td>-0.250026</td>\n",
       "      <td>0</td>\n",
       "      <td>-1</td>\n",
       "      <td>1.0</td>\n",
       "    </tr>\n",
       "    <tr>\n",
       "      <td>2014-08-07</td>\n",
       "      <td>1886.545042</td>\n",
       "      <td>1886.40</td>\n",
       "      <td>0.007689</td>\n",
       "      <td>1</td>\n",
       "      <td>0</td>\n",
       "      <td>-1.0</td>\n",
       "    </tr>\n",
       "    <tr>\n",
       "      <td>2014-08-08</td>\n",
       "      <td>1891.469611</td>\n",
       "      <td>1889.95</td>\n",
       "      <td>0.080405</td>\n",
       "      <td>1</td>\n",
       "      <td>0</td>\n",
       "      <td>1.0</td>\n",
       "    </tr>\n",
       "    <tr>\n",
       "      <td>2014-08-11</td>\n",
       "      <td>1875.833288</td>\n",
       "      <td>1882.25</td>\n",
       "      <td>-0.340906</td>\n",
       "      <td>0</td>\n",
       "      <td>-1</td>\n",
       "      <td>1.0</td>\n",
       "    </tr>\n",
       "    <tr>\n",
       "      <td>2014-08-12</td>\n",
       "      <td>1872.694116</td>\n",
       "      <td>1876.00</td>\n",
       "      <td>-0.176220</td>\n",
       "      <td>0</td>\n",
       "      <td>-1</td>\n",
       "      <td>-1.0</td>\n",
       "    </tr>\n",
       "    <tr>\n",
       "      <td>...</td>\n",
       "      <td>...</td>\n",
       "      <td>...</td>\n",
       "      <td>...</td>\n",
       "      <td>...</td>\n",
       "      <td>...</td>\n",
       "      <td>...</td>\n",
       "    </tr>\n",
       "    <tr>\n",
       "      <td>2019-12-10</td>\n",
       "      <td>3410.279434</td>\n",
       "      <td>3405.00</td>\n",
       "      <td>0.155049</td>\n",
       "      <td>1</td>\n",
       "      <td>0</td>\n",
       "      <td>-1.0</td>\n",
       "    </tr>\n",
       "    <tr>\n",
       "      <td>2019-12-11</td>\n",
       "      <td>3340.873107</td>\n",
       "      <td>3375.10</td>\n",
       "      <td>-1.014100</td>\n",
       "      <td>0</td>\n",
       "      <td>-1</td>\n",
       "      <td>1.0</td>\n",
       "    </tr>\n",
       "    <tr>\n",
       "      <td>2019-12-12</td>\n",
       "      <td>3371.149788</td>\n",
       "      <td>3372.00</td>\n",
       "      <td>-0.025214</td>\n",
       "      <td>0</td>\n",
       "      <td>-1</td>\n",
       "      <td>-1.0</td>\n",
       "    </tr>\n",
       "    <tr>\n",
       "      <td>2019-12-13</td>\n",
       "      <td>3370.714614</td>\n",
       "      <td>3385.00</td>\n",
       "      <td>-0.422020</td>\n",
       "      <td>0</td>\n",
       "      <td>-1</td>\n",
       "      <td>-1.0</td>\n",
       "    </tr>\n",
       "    <tr>\n",
       "      <td>2019-12-16</td>\n",
       "      <td>3339.889621</td>\n",
       "      <td>3354.10</td>\n",
       "      <td>-0.423672</td>\n",
       "      <td>0</td>\n",
       "      <td>-1</td>\n",
       "      <td>-1.0</td>\n",
       "    </tr>\n",
       "  </tbody>\n",
       "</table>\n",
       "<p>1399 rows × 6 columns</p>\n",
       "</div>"
      ],
      "text/plain": [
       "             pronostico  USD/COP      fcst  long  short  accion\n",
       "Dates                                                          \n",
       "2014-08-06  1881.643612  1886.36 -0.250026     0     -1     1.0\n",
       "2014-08-07  1886.545042  1886.40  0.007689     1      0    -1.0\n",
       "2014-08-08  1891.469611  1889.95  0.080405     1      0     1.0\n",
       "2014-08-11  1875.833288  1882.25 -0.340906     0     -1     1.0\n",
       "2014-08-12  1872.694116  1876.00 -0.176220     0     -1    -1.0\n",
       "...                 ...      ...       ...   ...    ...     ...\n",
       "2019-12-10  3410.279434  3405.00  0.155049     1      0    -1.0\n",
       "2019-12-11  3340.873107  3375.10 -1.014100     0     -1     1.0\n",
       "2019-12-12  3371.149788  3372.00 -0.025214     0     -1    -1.0\n",
       "2019-12-13  3370.714614  3385.00 -0.422020     0     -1    -1.0\n",
       "2019-12-16  3339.889621  3354.10 -0.423672     0     -1    -1.0\n",
       "\n",
       "[1399 rows x 6 columns]"
      ]
     },
     "execution_count": 81,
     "metadata": {},
     "output_type": "execute_result"
    }
   ],
   "source": [
    "r_p.dropna()"
   ]
  },
  {
   "cell_type": "code",
   "execution_count": 101,
   "metadata": {},
   "outputs": [],
   "source": [
    "r_cop=base_datos_reales=pd.DataFrame(np.log(base['USD/COP'])-np.log(base['USD/COP'].shift(1)))*100\n",
    "r_cop[\"posicion\"]=r_p[\"accion\"]\n",
    "r_cop[\"price\"]=base[\"USD/COP\"]\n",
    "r_cop=r_cop.dropna()\n",
    "r_cop\n",
    "r_e=pd.DataFrame(r_cop[\"USD/COP\"]*r_cop[\"posicion\"])\n",
    "r_e[\"cum\"]=r_e[r_e.columns[0]].cumsum()"
   ]
  },
  {
   "cell_type": "code",
   "execution_count": 109,
   "metadata": {},
   "outputs": [
    {
     "data": {
      "text/plain": [
       "<matplotlib.axes._subplots.AxesSubplot at 0x223910e3f08>"
      ]
     },
     "execution_count": 109,
     "metadata": {},
     "output_type": "execute_result"
    },
    {
     "data": {
      "image/png": "[encoded data removed]",
      "text/plain": [
       "<Figure size 432x288 with 1 Axes>"
      ]
     },
     "metadata": {
      "needs_background": "light"
     },
     "output_type": "display_data"
    }
   ],
   "source": [
    "r_cop['posicion'][-100:].plot()"
   ]
  },
  {
   "cell_type": "code",
   "execution_count": 105,
   "metadata": {},
   "outputs": [
    {
     "data": {
      "image/png": "[encoded data removed]",
      "text/plain": [
       "<Figure size 432x288 with 2 Axes>"
      ]
     },
     "metadata": {
      "needs_background": "light"
     },
     "output_type": "display_data"
    }
   ],
   "source": [
    "r_cop[r_cop.columns[-2:]].plot(secondary_y=[r_cop.columns[-1:]])\n",
    "plt.show()"
   ]
  },
  {
   "cell_type": "code",
   "execution_count": 115,
   "metadata": {},
   "outputs": [
    {
     "data": {
      "text/plain": [
       "<matplotlib.axes._subplots.AxesSubplot at 0x22393afe948>"
      ]
     },
     "execution_count": 115,
     "metadata": {},
     "output_type": "execute_result"
    },
    {
     "data": {
      "image/png": "[encoded data removed]",
      "text/plain": [
       "<Figure size 432x288 with 2 Axes>"
      ]
     },
     "metadata": {
      "needs_background": "light"
     },
     "output_type": "display_data"
    }
   ],
   "source": [
    "r_e[\"cum\"].plot()\n",
    "((r_cop[\"price\"]/r_cop[\"price\"].iloc[1])-1).plot(secondary_y=\"price\")"
   ]
  },
  {
   "cell_type": "markdown",
   "metadata": {},
   "source": [
    "# Johansen test"
   ]
  },
  {
   "cell_type": "code",
   "execution_count": 38,
   "metadata": {},
   "outputs": [],
   "source": [
    "'''\n",
    "function result = johansen(x,p,k)\n",
    "% PURPOSE: perform Johansen cointegration tests\n",
    "% -------------------------------------------------------\n",
    "% USAGE: result = johansen(x,p,k)\n",
    "% where:      x = input matrix of time-series in levels, (nobs x m)\n",
    "%             p = order of time polynomial in the null-hypothesis\n",
    "%                 p = -1, no deterministic part\n",
    "%                 p =  0, for constant term\n",
    "%                 p =  1, for constant plus time-trend\n",
    "%                 p >  1, for higher order polynomial\n",
    "%             k = number of lagged difference terms used when\n",
    "%                 computing the estimator\n",
    "% -------------------------------------------------------\n",
    "% RETURNS: a results structure:\n",
    "%          result.eig  = eigenvalues  (m x 1)\n",
    "%          result.evec = eigenvectors (m x m), where first\n",
    "%                        r columns are normalized coint vectors\n",
    "%          result.lr1  = likelihood ratio trace statistic for r=0 to m-1\n",
    "%                        (m x 1) vector\n",
    "%          result.lr2  = maximum eigenvalue statistic for r=0 to m-1\n",
    "%                        (m x 1) vector\n",
    "%          result.cvt  = critical values for trace statistic\n",
    "%                        (m x 3) vector [90% 95% 99%]\n",
    "%          result.cvm  = critical values for max eigen value statistic\n",
    "%                        (m x 3) vector [90% 95% 99%]\n",
    "%          result.ind  = index of co-integrating variables ordered by\n",
    "%                        size of the eigenvalues from large to small\n",
    "% -------------------------------------------------------\n",
    "% NOTE: c_sja(), c_sjt() provide critical values generated using\n",
    "%       a method of MacKinnon (1994, 1996).\n",
    "%       critical values are available for n<=12 and -1 <= p <= 1,\n",
    "%       zeros are returned for other cases.\n",
    "% -------------------------------------------------------\n",
    "% SEE ALSO: prt_coint, a function that prints results\n",
    "% -------------------------------------------------------\n",
    "% References: Johansen (1988), 'Statistical Analysis of Co-integration\n",
    "% vectors', Journal of Economic Dynamics and Control, 12, pp. 231-254.\n",
    "% MacKinnon, Haug, Michelis (1996) 'Numerical distribution\n",
    "% functions of likelihood ratio tests for cointegration',\n",
    "% Queen's University Institute for Economic Research Discussion paper.\n",
    "% (see also: MacKinnon's JBES 1994 article\n",
    "% -------------------------------------------------------\n",
    "\n",
    "% written by:\n",
    "% James P. LeSage, Dept of Economics\n",
    "% University of Toledo\n",
    "% 2801 W. Bancroft St,\n",
    "% Toledo, OH 43606\n",
    "% jlesage@spatial-econometrics.com\n",
    "\n",
    "% ****************************************************************\n",
    "% NOTE: Adina Enache provided some bug fixes and corrections that\n",
    "%       she notes below in comments. 4/10/2000\n",
    "% ****************************************************************\n",
    "'''\n",
    "\n",
    "import numpy as np\n",
    "from numpy import zeros, ones, flipud, log\n",
    "from numpy.linalg import inv, eig, cholesky as chol\n",
    "from statsmodels.regression.linear_model import OLS\n",
    "\n",
    "\n",
    "tdiff = np.diff\n",
    "\n",
    "class Holder(object):\n",
    "    pass\n",
    "\n",
    "def rows(x):\n",
    "    return x.shape[0]\n",
    "\n",
    "def trimr(x, front, end):\n",
    "    if end > 0:\n",
    "        return x[front:-end]\n",
    "    else:\n",
    "        return x[front:]\n",
    "\n",
    "import statsmodels.tsa.tsatools as tsat\n",
    "mlag = tsat.lagmat\n",
    "\n",
    "def mlag_(x, maxlag):\n",
    "    '''return all lags up to maxlag\n",
    "    '''\n",
    "    return x[:-lag]\n",
    "\n",
    "def lag(x, lag):\n",
    "    return x[:-lag]\n",
    "\n",
    "def detrend(y, order):\n",
    "    if order == -1:\n",
    "        return y\n",
    "    return OLS(y, np.vander(np.linspace(-1, 1, len(y)), order + 1)).fit().resid\n",
    "\n",
    "def resid(y, x):\n",
    "    r = y - np.dot(x, np.dot(np.linalg.pinv(x), y))\n",
    "    return r\n",
    "\n",
    "\n",
    "\n",
    "\n",
    "def coint_johansen(x, p, k, print_on_console=True):\n",
    "\n",
    "    #    % error checking on inputs\n",
    "    #    if (nargin ~= 3)\n",
    "    #     error('Wrong # of inputs to johansen')\n",
    "    #    end\n",
    "    nobs, m = x.shape\n",
    "\n",
    "    # why this?  f is detrend transformed series, p is detrend data\n",
    "    if (p > -1):\n",
    "        f = 0\n",
    "    else:\n",
    "        f = p\n",
    "\n",
    "    x = detrend(x, p)\n",
    "    dx = tdiff(x, 1, axis=0)\n",
    "    # dx    = trimr(dx,1,0)\n",
    "    z = mlag(dx, k)  # [k-1:]\n",
    "#    print z.shape\n",
    "    z = trimr(z, k, 0)\n",
    "    z = detrend(z, f)\n",
    "#    print dx.shape\n",
    "    dx = trimr(dx, k, 0)\n",
    "\n",
    "    dx = detrend(dx, f)\n",
    "    # r0t   = dx - z*(z\\dx)\n",
    "    r0t = resid(dx, z)  # diff on lagged diffs\n",
    "    # lx = trimr(lag(x,k),k,0)\n",
    "    lx = lag(x, k)\n",
    "    lx = trimr(lx, 1, 0)\n",
    "    dx = detrend(lx, f)\n",
    "#    print 'rkt', dx.shape, z.shape\n",
    "    # rkt   = dx - z*(z\\dx)\n",
    "    rkt = resid(dx, z)  # level on lagged diffs\n",
    "    skk = np.dot(rkt.T, rkt) / rows(rkt)\n",
    "    sk0 = np.dot(rkt.T, r0t) / rows(rkt)\n",
    "    s00 = np.dot(r0t.T, r0t) / rows(r0t)\n",
    "    sig = np.dot(sk0, np.dot(inv(s00), (sk0.T)))\n",
    "    tmp = inv(skk)\n",
    "    # du, au = eig(np.dot(tmp, sig))\n",
    "    au, du = eig(np.dot(tmp, sig))  # au is eval, du is evec\n",
    "    # orig = np.dot(tmp, sig)\n",
    "\n",
    "    # % Normalize the eigen vectors such that (du'skk*du) = I\n",
    "    temp = inv(chol(np.dot(du.T, np.dot(skk, du))))\n",
    "    dt = np.dot(du, temp)\n",
    "\n",
    "\n",
    "    # JP: the next part can be done much  easier\n",
    "\n",
    "    # %      NOTE: At this point, the eigenvectors are aligned by column. To\n",
    "    # %            physically move the column elements using the MATLAB sort,\n",
    "    # %            take the transpose to put the eigenvectors across the row\n",
    "\n",
    "    # dt = transpose(dt)\n",
    "\n",
    "    # % sort eigenvalues and vectors\n",
    "\n",
    "    # au, auind = np.sort(diag(au))\n",
    "    auind = np.argsort(au)\n",
    "    # a = flipud(au)\n",
    "    aind = flipud(auind)\n",
    "    a = au[aind]\n",
    "    # d = dt[aind,:]\n",
    "    d = dt[:, aind]\n",
    "\n",
    "    # %NOTE: The eigenvectors have been sorted by row based on auind and moved to array \"d\".\n",
    "    # %      Put the eigenvectors back in column format after the sort by taking the\n",
    "    # %      transpose of \"d\". Since the eigenvectors have been physically moved, there is\n",
    "    # %      no need for aind at all. To preserve existing programming, aind is reset back to\n",
    "    # %      1, 2, 3, ....\n",
    "\n",
    "    # d  =  transpose(d)\n",
    "    # test = np.dot(transpose(d), np.dot(skk, d))\n",
    "\n",
    "    # %EXPLANATION:  The MATLAB sort function sorts from low to high. The flip realigns\n",
    "    # %auind to go from the largest to the smallest eigenvalue (now aind). The original procedure\n",
    "    # %physically moved the rows of dt (to d) based on the alignment in aind and then used\n",
    "    # %aind as a column index to address the eigenvectors from high to low. This is a double\n",
    "    # %sort. If you wanted to extract the eigenvector corresponding to the largest eigenvalue by,\n",
    "    # %using aind as a reference, you would get the correct eigenvector, but with sorted\n",
    "    # %coefficients and, therefore, any follow-on calculation would seem to be in error.\n",
    "    # %If alternative programming methods are used to evaluate the eigenvalues, e.g. Frame method\n",
    "    # %followed by a root extraction on the characteristic equation, then the roots can be\n",
    "    # %quickly sorted. One by one, the corresponding eigenvectors can be generated. The resultant\n",
    "    # %array can be operated on using the Cholesky transformation, which enables a unit\n",
    "    # %diagonalization of skk. But nowhere along the way are the coefficients within the\n",
    "    # %eigenvector array ever changed. The final value of the \"beta\" array using either method\n",
    "    # %should be the same.\n",
    "\n",
    "\n",
    "    # % Compute the trace and max eigenvalue statistics */\n",
    "    lr1 = zeros(m)\n",
    "    lr2 = zeros(m)\n",
    "    cvm = zeros((m, 3))\n",
    "    cvt = zeros((m, 3))\n",
    "    iota = ones(m)\n",
    "    t, junk = rkt.shape\n",
    "    for i in range(0, m):\n",
    "        tmp = trimr(log(iota - a), i , 0)\n",
    "        lr1[i] = -t * np.sum(tmp, 0)  # columnsum ?\n",
    "        # tmp = np.log(1-a)\n",
    "        # lr1[i] = -t * np.sum(tmp[i:])\n",
    "        lr2[i] = -t * log(1 - a[i])\n",
    "        cvm[i, :] = c_sja(m - i, p)\n",
    "        cvt[i, :] = c_sjt(m - i, p)\n",
    "        aind[i] = i\n",
    "    # end\n",
    "\n",
    "    result = Holder()\n",
    "    # % set up results structure\n",
    "    # estimation results, residuals\n",
    "    result.rkt = rkt\n",
    "    result.r0t = r0t\n",
    "    result.eig = a\n",
    "    result.evec = d  # transposed compared to matlab ?\n",
    "    result.lr1 = lr1\n",
    "    result.lr2 = lr2\n",
    "    result.cvt = cvt\n",
    "    result.cvm = cvm\n",
    "    result.ind = aind\n",
    "    result.meth = 'johansen'\n",
    "\n",
    "    if print_on_console == True:\n",
    "        print ('--------------------------------------------------')\n",
    "        print ('--> Trace Statistics')\n",
    "        print ('variable statistic Crit-90% Crit-95%  Crit-99%')\n",
    "        for i in range(len(result.lr1)):\n",
    "            print ('r =', i, '\\t', round(result.lr1[i], 4), result.cvt[i, 0], result.cvt[i, 1], result.cvt[i, 2])\n",
    "        print ('--------------------------------------------------')\n",
    "        print ('--> Eigen Statistics')\n",
    "        print ('variable statistic Crit-90% Crit-95%  Crit-99%')\n",
    "        for i in range(len(result.lr2)):\n",
    "            print ('r =', i, '\\t', round(result.lr2[i], 4), result.cvm[i, 0], result.cvm[i, 1], result.cvm[i, 2])\n",
    "        print ('--------------------------------------------------')\n",
    "        print ('eigenvectors:\\n', result.evec)\n",
    "        print ('--------------------------------------------------')\n",
    "        print ('eigenvalues:\\n', result.eig)\n",
    "        print ('--------------------------------------------------')\n",
    "\n",
    "\n",
    "    return result\n",
    "\n",
    "def c_sjt(n, p):\n",
    "\n",
    "# PURPOSE: find critical values for Johansen trace statistic\n",
    "# ------------------------------------------------------------\n",
    "# USAGE:  jc = c_sjt(n,p)\n",
    "# where:    n = dimension of the VAR system\n",
    "#               NOTE: routine doesn't work for n > 12\n",
    "#           p = order of time polynomial in the null-hypothesis\n",
    "#                 p = -1, no deterministic part\n",
    "#                 p =  0, for constant term\n",
    "#                 p =  1, for constant plus time-trend\n",
    "#                 p >  1  returns no critical values\n",
    "# ------------------------------------------------------------\n",
    "# RETURNS: a (3x1) vector of percentiles for the trace\n",
    "#          statistic for [90# 95# 99#]\n",
    "# ------------------------------------------------------------\n",
    "# NOTES: for n > 12, the function returns a (3x1) vector of zeros.\n",
    "#        The values returned by the function were generated using\n",
    "#        a method described in MacKinnon (1996), using his FORTRAN\n",
    "#        program johdist.f\n",
    "# ------------------------------------------------------------\n",
    "# SEE ALSO: johansen()\n",
    "# ------------------------------------------------------------\n",
    "# # References: MacKinnon, Haug, Michelis (1996) 'Numerical distribution\n",
    "# functions of likelihood ratio tests for cointegration',\n",
    "# Queen's University Institute for Economic Research Discussion paper.\n",
    "# -------------------------------------------------------\n",
    "\n",
    "# written by:\n",
    "# James P. LeSage, Dept of Economics\n",
    "# University of Toledo\n",
    "# 2801 W. Bancroft St,\n",
    "# Toledo, OH 43606\n",
    "# jlesage@spatial-econometrics.com\n",
    "#\n",
    "# Ported to Python by Javier Garcia\n",
    "# javier.macro.trader@gmail.com\n",
    "\n",
    "# these are the values from Johansen's 1995 book\n",
    "# for comparison to the MacKinnon values\n",
    "# jcp0 = [ 2.98   4.14   7.02\n",
    "#        10.35  12.21  16.16\n",
    "#        21.58  24.08  29.19\n",
    "#        36.58  39.71  46.00\n",
    "#        55.54  59.24  66.71\n",
    "#        78.30  86.36  91.12\n",
    "#       104.93 109.93 119.58\n",
    "#       135.16 140.74 151.70\n",
    "#       169.30 175.47 187.82\n",
    "#       207.21 214.07 226.95\n",
    "#       248.77 256.23 270.47\n",
    "#       293.83 301.95 318.14];\n",
    "\n",
    "\n",
    "\n",
    "\n",
    "    jcp0 = ((2.9762, 4.1296, 6.9406),\n",
    "            (10.4741, 12.3212, 16.3640),\n",
    "            (21.7781, 24.2761, 29.5147),\n",
    "            (37.0339, 40.1749, 46.5716),\n",
    "            (56.2839, 60.0627, 67.6367),\n",
    "            (79.5329, 83.9383, 92.7136),\n",
    "            (106.7351, 111.7797, 121.7375),\n",
    "            (137.9954, 143.6691, 154.7977),\n",
    "            (173.2292, 179.5199, 191.8122),\n",
    "            (212.4721, 219.4051, 232.8291),\n",
    "            (255.6732, 263.2603, 277.9962),\n",
    "            (302.9054, 311.1288, 326.9716))\n",
    "\n",
    "\n",
    "    jcp1 = ((2.7055, 3.8415, 6.6349),\n",
    "            (13.4294, 15.4943, 19.9349),\n",
    "            (27.0669, 29.7961, 35.4628),\n",
    "            (44.4929, 47.8545, 54.6815),\n",
    "            (65.8202, 69.8189, 77.8202),\n",
    "            (91.1090, 95.7542, 104.9637),\n",
    "            (120.3673, 125.6185, 135.9825),\n",
    "            (153.6341, 159.5290, 171.0905),\n",
    "            (190.8714, 197.3772, 210.0366),\n",
    "            (232.1030, 239.2468, 253.2526),\n",
    "            (277.3740, 285.1402, 300.2821),\n",
    "            (326.5354, 334.9795, 351.2150))\n",
    "\n",
    "    jcp2 = ((2.7055, 3.8415, 6.6349),\n",
    "            (16.1619, 18.3985, 23.1485),\n",
    "            (32.0645, 35.0116, 41.0815),\n",
    "            (51.6492, 55.2459, 62.5202),\n",
    "            (75.1027, 79.3422, 87.7748),\n",
    "            (102.4674, 107.3429, 116.9829),\n",
    "            (133.7852, 139.2780, 150.0778),\n",
    "            (169.0618, 175.1584, 187.1891),\n",
    "            (208.3582, 215.1268, 228.2226),\n",
    "            (251.6293, 259.0267, 273.3838),\n",
    "            (298.8836, 306.8988, 322.4264),\n",
    "            (350.1125, 358.7190, 375.3203))\n",
    "\n",
    "\n",
    "\n",
    "    if (p > 1) or (p < -1):\n",
    "        jc = (0, 0, 0)\n",
    "    elif (n > 12) or (n < 1):\n",
    "        jc = (0, 0, 0)\n",
    "    elif p == -1:\n",
    "        jc = jcp0[n - 1]\n",
    "    elif p == 0:\n",
    "        jc = jcp1[n - 1]\n",
    "    elif p == 1:\n",
    "        jc = jcp2[n - 1]\n",
    "\n",
    "\n",
    "\n",
    "    return jc\n",
    "\n",
    "def c_sja(n, p):\n",
    "\n",
    "# PURPOSE: find critical values for Johansen maximum eigenvalue statistic\n",
    "# ------------------------------------------------------------\n",
    "# USAGE:  jc = c_sja(n,p)\n",
    "# where:    n = dimension of the VAR system\n",
    "#           p = order of time polynomial in the null-hypothesis\n",
    "#                 p = -1, no deterministic part\n",
    "#                 p =  0, for constant term\n",
    "#                 p =  1, for constant plus time-trend\n",
    "#                 p >  1  returns no critical values\n",
    "# ------------------------------------------------------------\n",
    "# RETURNS: a (3x1) vector of percentiles for the maximum eigenvalue\n",
    "#          statistic for: [90# 95# 99#]\n",
    "# ------------------------------------------------------------\n",
    "# NOTES: for n > 12, the function returns a (3x1) vector of zeros.\n",
    "#        The values returned by the function were generated using\n",
    "#        a method described in MacKinnon (1996), using his FORTRAN\n",
    "#        program johdist.f\n",
    "# ------------------------------------------------------------\n",
    "# SEE ALSO: johansen()\n",
    "# ------------------------------------------------------------\n",
    "# References: MacKinnon, Haug, Michelis (1996) 'Numerical distribution\n",
    "# functions of likelihood ratio tests for cointegration',\n",
    "# Queen's University Institute for Economic Research Discussion paper.\n",
    "# -------------------------------------------------------\n",
    "\n",
    "# written by:\n",
    "# James P. LeSage, Dept of Economics\n",
    "# University of Toledo\n",
    "# 2801 W. Bancroft St,\n",
    "# Toledo, OH 43606\n",
    "# jlesage@spatial-econometrics.com\n",
    "# Ported to Python by Javier Garcia\n",
    "# javier.macro.trader@gmail.com\n",
    "\n",
    "\n",
    "    jcp0 = ((2.9762, 4.1296, 6.9406),\n",
    "            (9.4748, 11.2246, 15.0923),\n",
    "            (15.7175, 17.7961, 22.2519),\n",
    "            (21.8370, 24.1592, 29.0609),\n",
    "            (27.9160, 30.4428, 35.7359),\n",
    "            (33.9271, 36.6301, 42.2333),\n",
    "            (39.9085, 42.7679, 48.6606),\n",
    "            (45.8930, 48.8795, 55.0335),\n",
    "            (51.8528, 54.9629, 61.3449),\n",
    "            (57.7954, 61.0404, 67.6415),\n",
    "            (63.7248, 67.0756, 73.8856),\n",
    "            (69.6513, 73.0946, 80.0937))\n",
    "\n",
    "    jcp1 = ((2.7055, 3.8415, 6.6349),\n",
    "            (12.2971, 14.2639, 18.5200),\n",
    "            (18.8928, 21.1314, 25.8650),\n",
    "            (25.1236, 27.5858, 32.7172),\n",
    "            (31.2379, 33.8777, 39.3693),\n",
    "            (37.2786, 40.0763, 45.8662),\n",
    "            (43.2947, 46.2299, 52.3069),\n",
    "            (49.2855, 52.3622, 58.6634),\n",
    "            (55.2412, 58.4332, 64.9960),\n",
    "            (61.2041, 64.5040, 71.2525),\n",
    "            (67.1307, 70.5392, 77.4877),\n",
    "            (73.0563, 76.5734, 83.7105))\n",
    "\n",
    "    jcp2 = ((2.7055, 3.8415, 6.6349),\n",
    "            (15.0006, 17.1481, 21.7465),\n",
    "            (21.8731, 24.2522, 29.2631),\n",
    "            (28.2398, 30.8151, 36.1930),\n",
    "            (34.4202, 37.1646, 42.8612),\n",
    "            (40.5244, 43.4183, 49.4095),\n",
    "            (46.5583, 49.5875, 55.8171),\n",
    "            (52.5858, 55.7302, 62.1741),\n",
    "            (58.5316, 61.8051, 68.5030),\n",
    "            (64.5292, 67.9040, 74.7434),\n",
    "            (70.4630, 73.9355, 81.0678),\n",
    "            (76.4081, 79.9878, 87.2395))\n",
    "\n",
    "\n",
    "    if (p > 1) or (p < -1):\n",
    "        jc = (0, 0, 0)\n",
    "    elif (n > 12) or (n < 1):\n",
    "        jc = (0, 0, 0)\n",
    "    elif p == -1:\n",
    "        jc = jcp0[n - 1]\n",
    "    elif p == 0:\n",
    "        jc = jcp1[n - 1]\n",
    "    elif p == 1:\n",
    "        jc = jcp2[n - 1]\n",
    "\n",
    "\n",
    "    return jc"
   ]
  },
  {
   "cell_type": "code",
   "execution_count": null,
   "metadata": {},
   "outputs": [],
   "source": []
  }
 ],
 "metadata": {
  "kernelspec": {
   "display_name": "Python 3",
   "language": "python",
   "name": "python3"
  },
  "language_info": {
   "codemirror_mode": {
    "name": "ipython",
    "version": 3
   },
   "file_extension": ".py",
   "mimetype": "text/x-python",
   "name": "python",
   "nbconvert_exporter": "python",
   "pygments_lexer": "ipython3",
   "version": "3.7.4"
  }
 },
 "nbformat": 4,
 "nbformat_minor": 2
}
